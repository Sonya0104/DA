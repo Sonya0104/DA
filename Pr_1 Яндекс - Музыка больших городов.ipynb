{
 "cells": [
  {
   "cell_type": "markdown",
   "metadata": {
    "deletable": false,
    "editable": false,
    "id": "E0vqbgi9ay0H"
   },
   "source": [
    "# Яндекс Музыка"
   ]
  },
  {
   "cell_type": "markdown",
   "metadata": {
    "deletable": false,
    "editable": false,
    "id": "VUC88oWjTJw2"
   },
   "source": [
    "Сравнение Москвы и Петербурга окружено мифами. Например:\n",
    " * Москва — мегаполис, подчинённый жёсткому ритму рабочей недели;\n",
    " * Петербург — культурная столица, со своими вкусами.\n",
    "\n",
    "На данных Яндекс Музыки вы сравните поведение пользователей двух столиц.\n",
    "\n",
    "**Цель исследования** — проверьте три гипотезы:\n",
    "1. Активность пользователей зависит от дня недели. Причём в Москве и Петербурге это проявляется по-разному.\n",
    "2. В понедельник утром в Москве преобладают одни жанры, а в Петербурге — другие. Так же и вечером пятницы преобладают разные жанры — в зависимости от города.\n",
    "3. Москва и Петербург предпочитают разные жанры музыки. В Москве чаще слушают поп-музыку, в Петербурге — русский рэп.\n",
    "\n",
    "**Ход исследования**\n",
    "\n",
    "Данные о поведении пользователей вы получите из файла `yandex_music_project.csv`. О качестве данных ничего не известно. Поэтому перед проверкой гипотез понадобится обзор данных.\n",
    "\n",
    "Вы проверите данные на ошибки и оцените их влияние на исследование. Затем, на этапе предобработки вы поищете возможность исправить самые критичные ошибки данных.\n",
    "\n",
    "Таким образом, исследование пройдёт в три этапа:\n",
    " 1. Обзор данных.\n",
    " 2. Предобработка данных.\n",
    " 3. Проверка гипотез.\n",
    "\n"
   ]
  },
  {
   "cell_type": "markdown",
   "metadata": {
    "deletable": false,
    "editable": false,
    "id": "Ml1hmfXC_Zcs"
   },
   "source": [
    "## Обзор данных\n",
    "\n",
    "Составьте первое представление о данных Яндекс Музыки.\n",
    "\n",
    "\n"
   ]
  },
  {
   "cell_type": "markdown",
   "metadata": {
    "deletable": false,
    "editable": false,
    "id": "57eAOGIz_Zcs",
    "tags": [
     "start_task"
    ]
   },
   "source": [
    "**Задание 1**\n",
    "\n",
    "Основной инструмент аналитика — `pandas`. Импортируйте эту библиотеку."
   ]
  },
  {
   "cell_type": "code",
   "execution_count": 4,
   "metadata": {
    "deletable": false,
    "id": "AXN7PHPN_Zcs"
   },
   "outputs": [],
   "source": [
    "import pandas as pd # импорт библиотеки pandas"
   ]
  },
  {
   "cell_type": "markdown",
   "metadata": {
    "deletable": false,
    "editable": false,
    "id": "SG23P8tt_Zcs",
    "tags": [
     "start_task"
    ]
   },
   "source": [
    "**Задание 2**\n",
    "\n",
    "Прочитайте файл `yandex_music_project.csv` из папки `/datasets` и сохраните его в переменной `df`:"
   ]
  },
  {
   "cell_type": "code",
   "execution_count": 5,
   "metadata": {
    "deletable": false,
    "id": "fFVu7vqh_Zct"
   },
   "outputs": [],
   "source": [
    "df = pd.read_csv('/datasets/yandex_music_project.csv') # чтение файла с данными и сохранение в df"
   ]
  },
  {
   "cell_type": "markdown",
   "metadata": {
    "deletable": false,
    "editable": false,
    "id": "rDoOMd3uTqnZ",
    "tags": [
     "start_task"
    ]
   },
   "source": [
    "**Задание 3**\n",
    "\n",
    "\n",
    "Выведите на экран первые десять строк таблицы:"
   ]
  },
  {
   "cell_type": "code",
   "execution_count": 6,
   "metadata": {
    "deletable": false,
    "id": "oWTVX3gW_Zct"
   },
   "outputs": [
    {
     "data": {
      "text/html": [
       "<div>\n",
       "<style scoped>\n",
       "    .dataframe tbody tr th:only-of-type {\n",
       "        vertical-align: middle;\n",
       "    }\n",
       "\n",
       "    .dataframe tbody tr th {\n",
       "        vertical-align: top;\n",
       "    }\n",
       "\n",
       "    .dataframe thead th {\n",
       "        text-align: right;\n",
       "    }\n",
       "</style>\n",
       "<table border=\"1\" class=\"dataframe\">\n",
       "  <thead>\n",
       "    <tr style=\"text-align: right;\">\n",
       "      <th></th>\n",
       "      <th>userID</th>\n",
       "      <th>Track</th>\n",
       "      <th>artist</th>\n",
       "      <th>genre</th>\n",
       "      <th>City</th>\n",
       "      <th>time</th>\n",
       "      <th>Day</th>\n",
       "    </tr>\n",
       "  </thead>\n",
       "  <tbody>\n",
       "    <tr>\n",
       "      <th>0</th>\n",
       "      <td>FFB692EC</td>\n",
       "      <td>Kamigata To Boots</td>\n",
       "      <td>The Mass Missile</td>\n",
       "      <td>rock</td>\n",
       "      <td>Saint-Petersburg</td>\n",
       "      <td>20:28:33</td>\n",
       "      <td>Wednesday</td>\n",
       "    </tr>\n",
       "    <tr>\n",
       "      <th>1</th>\n",
       "      <td>55204538</td>\n",
       "      <td>Delayed Because of Accident</td>\n",
       "      <td>Andreas Rönnberg</td>\n",
       "      <td>rock</td>\n",
       "      <td>Moscow</td>\n",
       "      <td>14:07:09</td>\n",
       "      <td>Friday</td>\n",
       "    </tr>\n",
       "    <tr>\n",
       "      <th>2</th>\n",
       "      <td>20EC38</td>\n",
       "      <td>Funiculì funiculà</td>\n",
       "      <td>Mario Lanza</td>\n",
       "      <td>pop</td>\n",
       "      <td>Saint-Petersburg</td>\n",
       "      <td>20:58:07</td>\n",
       "      <td>Wednesday</td>\n",
       "    </tr>\n",
       "    <tr>\n",
       "      <th>3</th>\n",
       "      <td>A3DD03C9</td>\n",
       "      <td>Dragons in the Sunset</td>\n",
       "      <td>Fire + Ice</td>\n",
       "      <td>folk</td>\n",
       "      <td>Saint-Petersburg</td>\n",
       "      <td>08:37:09</td>\n",
       "      <td>Monday</td>\n",
       "    </tr>\n",
       "    <tr>\n",
       "      <th>4</th>\n",
       "      <td>E2DC1FAE</td>\n",
       "      <td>Soul People</td>\n",
       "      <td>Space Echo</td>\n",
       "      <td>dance</td>\n",
       "      <td>Moscow</td>\n",
       "      <td>08:34:34</td>\n",
       "      <td>Monday</td>\n",
       "    </tr>\n",
       "    <tr>\n",
       "      <th>5</th>\n",
       "      <td>842029A1</td>\n",
       "      <td>Преданная</td>\n",
       "      <td>IMPERVTOR</td>\n",
       "      <td>rusrap</td>\n",
       "      <td>Saint-Petersburg</td>\n",
       "      <td>13:09:41</td>\n",
       "      <td>Friday</td>\n",
       "    </tr>\n",
       "    <tr>\n",
       "      <th>6</th>\n",
       "      <td>4CB90AA5</td>\n",
       "      <td>True</td>\n",
       "      <td>Roman Messer</td>\n",
       "      <td>dance</td>\n",
       "      <td>Moscow</td>\n",
       "      <td>13:00:07</td>\n",
       "      <td>Wednesday</td>\n",
       "    </tr>\n",
       "    <tr>\n",
       "      <th>7</th>\n",
       "      <td>F03E1C1F</td>\n",
       "      <td>Feeling This Way</td>\n",
       "      <td>Polina Griffith</td>\n",
       "      <td>dance</td>\n",
       "      <td>Moscow</td>\n",
       "      <td>20:47:49</td>\n",
       "      <td>Wednesday</td>\n",
       "    </tr>\n",
       "    <tr>\n",
       "      <th>8</th>\n",
       "      <td>8FA1D3BE</td>\n",
       "      <td>И вновь продолжается бой</td>\n",
       "      <td>NaN</td>\n",
       "      <td>ruspop</td>\n",
       "      <td>Moscow</td>\n",
       "      <td>09:17:40</td>\n",
       "      <td>Friday</td>\n",
       "    </tr>\n",
       "    <tr>\n",
       "      <th>9</th>\n",
       "      <td>E772D5C0</td>\n",
       "      <td>Pessimist</td>\n",
       "      <td>NaN</td>\n",
       "      <td>dance</td>\n",
       "      <td>Saint-Petersburg</td>\n",
       "      <td>21:20:49</td>\n",
       "      <td>Wednesday</td>\n",
       "    </tr>\n",
       "  </tbody>\n",
       "</table>\n",
       "</div>"
      ],
      "text/plain": [
       "     userID                        Track            artist   genre  \\\n",
       "0  FFB692EC            Kamigata To Boots  The Mass Missile    rock   \n",
       "1  55204538  Delayed Because of Accident  Andreas Rönnberg    rock   \n",
       "2    20EC38            Funiculì funiculà       Mario Lanza     pop   \n",
       "3  A3DD03C9        Dragons in the Sunset        Fire + Ice    folk   \n",
       "4  E2DC1FAE                  Soul People        Space Echo   dance   \n",
       "5  842029A1                    Преданная         IMPERVTOR  rusrap   \n",
       "6  4CB90AA5                         True      Roman Messer   dance   \n",
       "7  F03E1C1F             Feeling This Way   Polina Griffith   dance   \n",
       "8  8FA1D3BE     И вновь продолжается бой               NaN  ruspop   \n",
       "9  E772D5C0                    Pessimist               NaN   dance   \n",
       "\n",
       "             City        time        Day  \n",
       "0  Saint-Petersburg  20:28:33  Wednesday  \n",
       "1            Moscow  14:07:09     Friday  \n",
       "2  Saint-Petersburg  20:58:07  Wednesday  \n",
       "3  Saint-Petersburg  08:37:09     Monday  \n",
       "4            Moscow  08:34:34     Monday  \n",
       "5  Saint-Petersburg  13:09:41     Friday  \n",
       "6            Moscow  13:00:07  Wednesday  \n",
       "7            Moscow  20:47:49  Wednesday  \n",
       "8            Moscow  09:17:40     Friday  \n",
       "9  Saint-Petersburg  21:20:49  Wednesday  "
      ]
     },
     "execution_count": 6,
     "metadata": {},
     "output_type": "execute_result"
    }
   ],
   "source": [
    "df.head(10) # получение первых 10 строк таблицы df"
   ]
  },
  {
   "cell_type": "markdown",
   "metadata": {
    "deletable": false,
    "editable": false,
    "id": "EO73Kwic_Zct",
    "tags": [
     "start_task"
    ]
   },
   "source": [
    "**Задание 4**\n",
    "\n",
    "\n",
    "Одной командой получить общую информацию о таблице c помощью метода `info()`:"
   ]
  },
  {
   "cell_type": "code",
   "execution_count": 7,
   "metadata": {
    "deletable": false,
    "id": "DSf2kIb-_Zct"
   },
   "outputs": [
    {
     "name": "stdout",
     "output_type": "stream",
     "text": [
      "<class 'pandas.core.frame.DataFrame'>\n",
      "RangeIndex: 65079 entries, 0 to 65078\n",
      "Data columns (total 7 columns):\n",
      " #   Column    Non-Null Count  Dtype \n",
      "---  ------    --------------  ----- \n",
      " 0     userID  65079 non-null  object\n",
      " 1   Track     63848 non-null  object\n",
      " 2   artist    57876 non-null  object\n",
      " 3   genre     63881 non-null  object\n",
      " 4     City    65079 non-null  object\n",
      " 5   time      65079 non-null  object\n",
      " 6   Day       65079 non-null  object\n",
      "dtypes: object(7)\n",
      "memory usage: 3.5+ MB\n"
     ]
    }
   ],
   "source": [
    "df.info()# получение общей информации о данных в таблице df"
   ]
  },
  {
   "cell_type": "markdown",
   "metadata": {
    "deletable": false,
    "editable": false,
    "id": "TaQ2Iwbr_Zct"
   },
   "source": [
    "Итак, в таблице семь столбцов. Тип данных во всех столбцах — `object`.\n",
    "\n",
    "Согласно документации к данным:\n",
    "* `userID` — идентификатор пользователя;\n",
    "* `Track` — название трека;  \n",
    "* `artist` — имя исполнителя;\n",
    "* `genre` — название жанра;\n",
    "* `City` — город пользователя;\n",
    "* `time` — время начала прослушивания;\n",
    "* `Day` — день недели.\n",
    "\n",
    "Количество значений в столбцах различается. Значит, в данных есть пропущенные значения."
   ]
  },
  {
   "cell_type": "markdown",
   "metadata": {
    "deletable": false,
    "editable": false,
    "id": "4P0UCWzswgEm",
    "tags": [
     "start_task"
    ]
   },
   "source": [
    "**Задание 5**\n",
    "\n",
    "**Вопрос со свободной формой ответа**\n",
    "\n",
    "В названиях колонок видны три нарушения стиля:\n",
    "1. Строчные буквы сочетаются с прописными.\n",
    "2. Встречаются пробелы."
   ]
  },
  {
   "cell_type": "code",
   "execution_count": 8,
   "metadata": {
    "id": "c137-ZstwgEm"
   },
   "outputs": [],
   "source": [
    "# 3. Несоответсвие \"змеиному_регистру\""
   ]
  },
  {
   "cell_type": "markdown",
   "metadata": {
    "deletable": false,
    "editable": false,
    "id": "MCB6-dXG_Zct"
   },
   "source": [
    "**Выводы**\n",
    "\n",
    "В каждой строке таблицы — данные о прослушанном треке. Часть колонок описывает саму композицию: название, исполнителя и жанр. Остальные данные рассказывают о пользователе: из какого он города, когда он слушал музыку.\n",
    "\n",
    "Предварительно можно утверждать, что данных достаточно для проверки гипотез. Но встречаются пропуски в данных, а в названиях колонок — расхождения с хорошим стилем.\n",
    "\n",
    "Чтобы двигаться дальше, нужно устранить проблемы в данных."
   ]
  },
  {
   "cell_type": "markdown",
   "metadata": {
    "deletable": false,
    "editable": false,
    "id": "SjYF6Ub9_Zct"
   },
   "source": [
    "## Предобработка данных\n",
    "Исправьте стиль в заголовках столбцов, исключите пропуски. Затем проверьте данные на дубликаты."
   ]
  },
  {
   "cell_type": "markdown",
   "metadata": {
    "deletable": false,
    "editable": false,
    "id": "dIaKXr29_Zct",
    "tags": [
     "start_task"
    ]
   },
   "source": [
    "### Стиль заголовков\n",
    "\n",
    "**Задание 6**\n",
    "\n",
    "Выведите на экран названия столбцов:"
   ]
  },
  {
   "cell_type": "code",
   "execution_count": 9,
   "metadata": {
    "deletable": false,
    "id": "oKOTdF_Q_Zct"
   },
   "outputs": [
    {
     "data": {
      "text/plain": [
       "Index(['  userID', 'Track', 'artist', 'genre', '  City  ', 'time', 'Day'], dtype='object')"
      ]
     },
     "execution_count": 9,
     "metadata": {},
     "output_type": "execute_result"
    }
   ],
   "source": [
    "df.columns # перечень названий столбцов таблицы df"
   ]
  },
  {
   "cell_type": "markdown",
   "metadata": {
    "deletable": false,
    "editable": false,
    "id": "zj5534cv_Zct",
    "tags": [
     "start_task"
    ]
   },
   "source": [
    "**Задание 7**\n",
    "\n",
    "\n",
    "Приведите названия в соответствие с хорошим стилем:\n",
    "* несколько слов в названии запишите в «змеином_регистре»,\n",
    "* все символы сделайте строчными,\n",
    "* устраните пробелы.\n",
    "\n",
    "Для этого переименуйте колонки так:\n",
    "* `'  userID'` → `'user_id'`;\n",
    "* `'Track'` → `'track'`;\n",
    "* `'  City  '` → `'city'`;\n",
    "* `'Day'` → `'day'`."
   ]
  },
  {
   "cell_type": "code",
   "execution_count": 10,
   "metadata": {
    "deletable": false,
    "id": "ISlFqs5y_Zct",
    "scrolled": true
   },
   "outputs": [],
   "source": [
    "df = df.rename(\n",
    "    columns={\n",
    "        '  userID':'user_id',\n",
    "        'Track':'track',\n",
    "        '  City  ':'city',\n",
    "        'Day':'day'\n",
    "    }\n",
    ")  #переименование столбцов\n"
   ]
  },
  {
   "cell_type": "markdown",
   "metadata": {
    "deletable": false,
    "editable": false,
    "id": "1dqbh00J_Zct",
    "tags": [
     "start_task"
    ]
   },
   "source": [
    "**Задание 8**\n",
    "\n",
    "\n",
    "Проверьте результат. Для этого ещё раз выведите на экран названия столбцов:"
   ]
  },
  {
   "cell_type": "code",
   "execution_count": 11,
   "metadata": {
    "deletable": false,
    "id": "d4NOAmTW_Zct"
   },
   "outputs": [
    {
     "data": {
      "text/plain": [
       "Index(['user_id', 'track', 'artist', 'genre', 'city', 'time', 'day'], dtype='object')"
      ]
     },
     "execution_count": 11,
     "metadata": {},
     "output_type": "execute_result"
    }
   ],
   "source": [
    "df.columns # проверка результатов - перечень названий столбцов"
   ]
  },
  {
   "cell_type": "markdown",
   "metadata": {
    "deletable": false,
    "editable": false,
    "id": "5ISfbcfY_Zct",
    "tags": [
     "start_task"
    ]
   },
   "source": [
    "### Пропуски значений\n",
    "\n",
    "**Задание 9**\n",
    "\n",
    "Сначала посчитайте, сколько в таблице пропущенных значений. Для этого достаточно двух методов `pandas`:"
   ]
  },
  {
   "cell_type": "code",
   "execution_count": 12,
   "metadata": {
    "deletable": false,
    "id": "RskX29qr_Zct"
   },
   "outputs": [
    {
     "data": {
      "text/plain": [
       "user_id       0\n",
       "track      1231\n",
       "artist     7203\n",
       "genre      1198\n",
       "city          0\n",
       "time          0\n",
       "day           0\n",
       "dtype: int64"
      ]
     },
     "execution_count": 12,
     "metadata": {},
     "output_type": "execute_result"
    }
   ],
   "source": [
    "df.isna().sum() # подсчёт пропусков"
   ]
  },
  {
   "cell_type": "markdown",
   "metadata": {
    "deletable": false,
    "editable": false,
    "id": "qubhgnlO_Zct"
   },
   "source": [
    "Не все пропущенные значения влияют на исследование. Так, в `track` и `artist` пропуски не важны для вашей работы. Достаточно заменить их явными обозначениями.\n",
    "\n",
    "Но пропуски в `genre` могут помешать сравнить музыкальные вкусы в Москве и Санкт-Петербурге. На практике было бы правильно установить причину пропусков и восстановить данные. Такой возможности нет в учебном проекте. Поэтому придётся:\n",
    "* заполнить и эти пропуски явными обозначениями;\n",
    "* оценить, насколько они повредят расчётам."
   ]
  },
  {
   "cell_type": "markdown",
   "metadata": {
    "deletable": false,
    "editable": false,
    "id": "fSv2laPA_Zct",
    "tags": [
     "start_task"
    ]
   },
   "source": [
    "**Задание 10**\n",
    "\n",
    "Замените пропущенные значения в столбцах `track`, `artist` и `genre` на строку `'unknown'`. Для этого создайте список `columns_to_replace`, переберите его элементы циклом `for` и для каждого столбца выполните замену пропущенных значений:"
   ]
  },
  {
   "cell_type": "code",
   "execution_count": 13,
   "metadata": {
    "deletable": false,
    "id": "KplB5qWs_Zct"
   },
   "outputs": [],
   "source": [
    "columns_to_replace=['track', 'artist', 'genre']\n",
    "for column in columns_to_replace:\n",
    "    df[column] = df[column].fillna('unknown')\n",
    "# перебор названий столбцов в цикле и замена пропущенных значений на 'unknown'"
   ]
  },
  {
   "cell_type": "markdown",
   "metadata": {
    "deletable": false,
    "editable": false,
    "id": "Ilsm-MZo_Zct",
    "tags": [
     "start_task"
    ]
   },
   "source": [
    "**Задание 11**\n",
    "\n",
    "Убедитесь, что в таблице не осталось пропусков. Для этого ещё раз посчитайте пропущенные значения."
   ]
  },
  {
   "cell_type": "code",
   "execution_count": 14,
   "metadata": {
    "deletable": false,
    "id": "Tq4nYRX4_Zct"
   },
   "outputs": [
    {
     "data": {
      "text/plain": [
       "user_id    0\n",
       "track      0\n",
       "artist     0\n",
       "genre      0\n",
       "city       0\n",
       "time       0\n",
       "day        0\n",
       "dtype: int64"
      ]
     },
     "execution_count": 14,
     "metadata": {},
     "output_type": "execute_result"
    }
   ],
   "source": [
    "df.isna().sum() # подсчёт пропусков"
   ]
  },
  {
   "cell_type": "markdown",
   "metadata": {
    "deletable": false,
    "editable": false,
    "id": "BWKRtBJ3_Zct",
    "tags": [
     "start_task"
    ]
   },
   "source": [
    "### Дубликаты\n",
    "\n",
    "**Задание 12**\n",
    "\n",
    "Посчитайте явные дубликаты в таблице одной командой:"
   ]
  },
  {
   "cell_type": "code",
   "execution_count": 15,
   "metadata": {
    "deletable": false,
    "id": "36eES_S0_Zct"
   },
   "outputs": [
    {
     "data": {
      "text/plain": [
       "3826"
      ]
     },
     "execution_count": 15,
     "metadata": {},
     "output_type": "execute_result"
    }
   ],
   "source": [
    "df.duplicated().sum() # подсчёт явных дубликатов"
   ]
  },
  {
   "cell_type": "markdown",
   "metadata": {
    "deletable": false,
    "editable": false,
    "id": "Ot25h6XR_Zct",
    "tags": [
     "start_task"
    ]
   },
   "source": [
    "**Задание 13**\n",
    "\n",
    "Вызовите специальный метод `pandas`, чтобы удалить явные дубликаты:"
   ]
  },
  {
   "cell_type": "code",
   "execution_count": 16,
   "metadata": {
    "deletable": false,
    "id": "exFHq6tt_Zct"
   },
   "outputs": [],
   "source": [
    "df = df.drop_duplicates() # удаление явных дубликатов"
   ]
  },
  {
   "cell_type": "markdown",
   "metadata": {
    "deletable": false,
    "editable": false,
    "id": "Im2YwBEG_Zct",
    "tags": [
     "start_task"
    ]
   },
   "source": [
    "**Задание 14**\n",
    "\n",
    "Ещё раз посчитайте явные дубликаты в таблице — убедитесь, что полностью от них избавились:"
   ]
  },
  {
   "cell_type": "code",
   "execution_count": 17,
   "metadata": {
    "deletable": false,
    "id": "-8PuNWQ0_Zct"
   },
   "outputs": [
    {
     "data": {
      "text/plain": [
       "0"
      ]
     },
     "execution_count": 17,
     "metadata": {},
     "output_type": "execute_result"
    }
   ],
   "source": [
    "df.duplicated().sum() # проверка на отсутствие дубликатов"
   ]
  },
  {
   "cell_type": "markdown",
   "metadata": {
    "deletable": false,
    "editable": false,
    "id": "QlFBsxAr_Zct"
   },
   "source": [
    "Теперь избавьтесь от неявных дубликатов в колонке `genre`. Например, название одного и того же жанра может быть записано немного по-разному. Такие ошибки тоже повлияют на результат исследования."
   ]
  },
  {
   "cell_type": "markdown",
   "metadata": {
    "deletable": false,
    "editable": false,
    "id": "eSjWwsOh_Zct",
    "tags": [
     "start_task"
    ]
   },
   "source": [
    "**Задание 15**\n",
    "\n",
    "Выведите на экран список уникальных названий жанров, отсортированный в алфавитном порядке. Для этого:\n",
    "* извлеките нужный столбец датафрейма;\n",
    "* примените к нему метод сортировки;\n",
    "* для отсортированного столбца вызовите метод, который вернёт уникальные значения из столбца."
   ]
  },
  {
   "cell_type": "code",
   "execution_count": 18,
   "metadata": {
    "deletable": false,
    "id": "JIUcqzZN_Zct"
   },
   "outputs": [
    {
     "data": {
      "text/plain": [
       "array(['acid', 'acoustic', 'action', 'adult', 'africa', 'afrikaans',\n",
       "       'alternative', 'alternativepunk', 'ambient', 'americana',\n",
       "       'animated', 'anime', 'arabesk', 'arabic', 'arena',\n",
       "       'argentinetango', 'art', 'audiobook', 'author', 'avantgarde',\n",
       "       'axé', 'baile', 'balkan', 'beats', 'bigroom', 'black', 'bluegrass',\n",
       "       'blues', 'bollywood', 'bossa', 'brazilian', 'breakbeat', 'breaks',\n",
       "       'broadway', 'cantautori', 'cantopop', 'canzone', 'caribbean',\n",
       "       'caucasian', 'celtic', 'chamber', 'chanson', 'children', 'chill',\n",
       "       'chinese', 'choral', 'christian', 'christmas', 'classical',\n",
       "       'classicmetal', 'club', 'colombian', 'comedy', 'conjazz',\n",
       "       'contemporary', 'country', 'cuban', 'dance', 'dancehall',\n",
       "       'dancepop', 'dark', 'death', 'deep', 'deutschrock', 'deutschspr',\n",
       "       'dirty', 'disco', 'dnb', 'documentary', 'downbeat', 'downtempo',\n",
       "       'drum', 'dub', 'dubstep', 'eastern', 'easy', 'electronic',\n",
       "       'electropop', 'emo', 'entehno', 'epicmetal', 'estrada', 'ethnic',\n",
       "       'eurofolk', 'european', 'experimental', 'extrememetal', 'fado',\n",
       "       'fairytail', 'film', 'fitness', 'flamenco', 'folk', 'folklore',\n",
       "       'folkmetal', 'folkrock', 'folktronica', 'forró', 'frankreich',\n",
       "       'französisch', 'french', 'funk', 'future', 'gangsta', 'garage',\n",
       "       'german', 'ghazal', 'gitarre', 'glitch', 'gospel', 'gothic',\n",
       "       'grime', 'grunge', 'gypsy', 'handsup', \"hard'n'heavy\", 'hardcore',\n",
       "       'hardstyle', 'hardtechno', 'hip', 'hip-hop', 'hiphop',\n",
       "       'historisch', 'holiday', 'hop', 'horror', 'house', 'hymn', 'idm',\n",
       "       'independent', 'indian', 'indie', 'indipop', 'industrial',\n",
       "       'inspirational', 'instrumental', 'international', 'irish', 'jam',\n",
       "       'japanese', 'jazz', 'jewish', 'jpop', 'jungle', 'k-pop',\n",
       "       'karadeniz', 'karaoke', 'kayokyoku', 'korean', 'laiko', 'latin',\n",
       "       'latino', 'leftfield', 'local', 'lounge', 'loungeelectronic',\n",
       "       'lovers', 'malaysian', 'mandopop', 'marschmusik', 'meditative',\n",
       "       'mediterranean', 'melodic', 'metal', 'metalcore', 'mexican',\n",
       "       'middle', 'minimal', 'miscellaneous', 'modern', 'mood', 'mpb',\n",
       "       'muslim', 'native', 'neoklassik', 'neue', 'new', 'newage',\n",
       "       'newwave', 'nu', 'nujazz', 'numetal', 'oceania', 'old', 'opera',\n",
       "       'orchestral', 'other', 'piano', 'podcasts', 'pop', 'popdance',\n",
       "       'popelectronic', 'popeurodance', 'poprussian', 'post',\n",
       "       'posthardcore', 'postrock', 'power', 'progmetal', 'progressive',\n",
       "       'psychedelic', 'punjabi', 'punk', 'quebecois', 'ragga', 'ram',\n",
       "       'rancheras', 'rap', 'rave', 'reggae', 'reggaeton', 'regional',\n",
       "       'relax', 'religious', 'retro', 'rhythm', 'rnb', 'rnr', 'rock',\n",
       "       'rockabilly', 'rockalternative', 'rockindie', 'rockother',\n",
       "       'romance', 'roots', 'ruspop', 'rusrap', 'rusrock', 'russian',\n",
       "       'salsa', 'samba', 'scenic', 'schlager', 'self', 'sertanejo',\n",
       "       'shanson', 'shoegazing', 'showtunes', 'singer', 'ska', 'skarock',\n",
       "       'slow', 'smooth', 'soft', 'soul', 'soulful', 'sound', 'soundtrack',\n",
       "       'southern', 'specialty', 'speech', 'spiritual', 'sport',\n",
       "       'stonerrock', 'surf', 'swing', 'synthpop', 'synthrock',\n",
       "       'sängerportrait', 'tango', 'tanzorchester', 'taraftar', 'tatar',\n",
       "       'tech', 'techno', 'teen', 'thrash', 'top', 'traditional',\n",
       "       'tradjazz', 'trance', 'tribal', 'trip', 'triphop', 'tropical',\n",
       "       'türk', 'türkçe', 'ukrrock', 'unknown', 'urban', 'uzbek',\n",
       "       'variété', 'vi', 'videogame', 'vocal', 'western', 'world',\n",
       "       'worldbeat', 'ïîï', 'электроника'], dtype=object)"
      ]
     },
     "execution_count": 18,
     "metadata": {},
     "output_type": "execute_result"
    }
   ],
   "source": [
    "df['genre'].sort_values().unique()  # Просмотр уникальных названий жанров"
   ]
  },
  {
   "cell_type": "markdown",
   "metadata": {
    "deletable": false,
    "editable": false,
    "id": "qej-Qmuo_Zct",
    "tags": [
     "start_task"
    ]
   },
   "source": [
    "**Задание 16**\n",
    "\n",
    "Просмотрите список и найдите неявные дубликаты названия `hiphop`. Это могут быть названия с ошибками или альтернативные названия того же жанра.\n",
    "\n",
    "Вы увидите следующие неявные дубликаты:\n",
    "* *hip*,\n",
    "* *hop*,\n",
    "* *hip-hop*.\n",
    "\n",
    "Чтобы очистить от них таблицу, используйте метод `replace()` с двумя аргументами: списком строк-дубликатов (включающий *hip*, *hop* и *hip-hop*) и строкой с правильным значением. Вам нужно исправить колонку `genre` в таблице `df`: заменить каждое значение из списка дубликатов на верное. Вместо `hip`, `hop` и `hip-hop` в таблице должно быть значение `hiphop`:"
   ]
  },
  {
   "cell_type": "code",
   "execution_count": 19,
   "metadata": {
    "deletable": false,
    "id": "ErNDkmns_Zct"
   },
   "outputs": [],
   "source": [
    "hiphop_dup = ['hip', 'hop','hip-hop']\n",
    "hiphop_correct ='hiphop'\n",
    "\n",
    "df['genre'] = df['genre'].replace(hiphop_dup,hiphop_correct) # Устранение неявных дубликатов"
   ]
  },
  {
   "cell_type": "markdown",
   "metadata": {
    "deletable": false,
    "editable": false,
    "id": "zQKF16_RG15m",
    "tags": [
     "start_task"
    ]
   },
   "source": [
    "**Задание 17**\n",
    "\n",
    "Проверьте, что заменили неправильные названия:\n",
    "\n",
    "*   *hip*,\n",
    "*   *hop*,\n",
    "*   *hip-hop*.\n",
    "\n",
    "Выведите отсортированный список уникальных значений столбца `genre`:"
   ]
  },
  {
   "cell_type": "code",
   "execution_count": 20,
   "metadata": {
    "deletable": false,
    "id": "wvixALnFG15m"
   },
   "outputs": [
    {
     "data": {
      "text/plain": [
       "array(['acid', 'acoustic', 'action', 'adult', 'africa', 'afrikaans',\n",
       "       'alternative', 'alternativepunk', 'ambient', 'americana',\n",
       "       'animated', 'anime', 'arabesk', 'arabic', 'arena',\n",
       "       'argentinetango', 'art', 'audiobook', 'author', 'avantgarde',\n",
       "       'axé', 'baile', 'balkan', 'beats', 'bigroom', 'black', 'bluegrass',\n",
       "       'blues', 'bollywood', 'bossa', 'brazilian', 'breakbeat', 'breaks',\n",
       "       'broadway', 'cantautori', 'cantopop', 'canzone', 'caribbean',\n",
       "       'caucasian', 'celtic', 'chamber', 'chanson', 'children', 'chill',\n",
       "       'chinese', 'choral', 'christian', 'christmas', 'classical',\n",
       "       'classicmetal', 'club', 'colombian', 'comedy', 'conjazz',\n",
       "       'contemporary', 'country', 'cuban', 'dance', 'dancehall',\n",
       "       'dancepop', 'dark', 'death', 'deep', 'deutschrock', 'deutschspr',\n",
       "       'dirty', 'disco', 'dnb', 'documentary', 'downbeat', 'downtempo',\n",
       "       'drum', 'dub', 'dubstep', 'eastern', 'easy', 'electronic',\n",
       "       'electropop', 'emo', 'entehno', 'epicmetal', 'estrada', 'ethnic',\n",
       "       'eurofolk', 'european', 'experimental', 'extrememetal', 'fado',\n",
       "       'fairytail', 'film', 'fitness', 'flamenco', 'folk', 'folklore',\n",
       "       'folkmetal', 'folkrock', 'folktronica', 'forró', 'frankreich',\n",
       "       'französisch', 'french', 'funk', 'future', 'gangsta', 'garage',\n",
       "       'german', 'ghazal', 'gitarre', 'glitch', 'gospel', 'gothic',\n",
       "       'grime', 'grunge', 'gypsy', 'handsup', \"hard'n'heavy\", 'hardcore',\n",
       "       'hardstyle', 'hardtechno', 'hiphop', 'historisch', 'holiday',\n",
       "       'horror', 'house', 'hymn', 'idm', 'independent', 'indian', 'indie',\n",
       "       'indipop', 'industrial', 'inspirational', 'instrumental',\n",
       "       'international', 'irish', 'jam', 'japanese', 'jazz', 'jewish',\n",
       "       'jpop', 'jungle', 'k-pop', 'karadeniz', 'karaoke', 'kayokyoku',\n",
       "       'korean', 'laiko', 'latin', 'latino', 'leftfield', 'local',\n",
       "       'lounge', 'loungeelectronic', 'lovers', 'malaysian', 'mandopop',\n",
       "       'marschmusik', 'meditative', 'mediterranean', 'melodic', 'metal',\n",
       "       'metalcore', 'mexican', 'middle', 'minimal', 'miscellaneous',\n",
       "       'modern', 'mood', 'mpb', 'muslim', 'native', 'neoklassik', 'neue',\n",
       "       'new', 'newage', 'newwave', 'nu', 'nujazz', 'numetal', 'oceania',\n",
       "       'old', 'opera', 'orchestral', 'other', 'piano', 'podcasts', 'pop',\n",
       "       'popdance', 'popelectronic', 'popeurodance', 'poprussian', 'post',\n",
       "       'posthardcore', 'postrock', 'power', 'progmetal', 'progressive',\n",
       "       'psychedelic', 'punjabi', 'punk', 'quebecois', 'ragga', 'ram',\n",
       "       'rancheras', 'rap', 'rave', 'reggae', 'reggaeton', 'regional',\n",
       "       'relax', 'religious', 'retro', 'rhythm', 'rnb', 'rnr', 'rock',\n",
       "       'rockabilly', 'rockalternative', 'rockindie', 'rockother',\n",
       "       'romance', 'roots', 'ruspop', 'rusrap', 'rusrock', 'russian',\n",
       "       'salsa', 'samba', 'scenic', 'schlager', 'self', 'sertanejo',\n",
       "       'shanson', 'shoegazing', 'showtunes', 'singer', 'ska', 'skarock',\n",
       "       'slow', 'smooth', 'soft', 'soul', 'soulful', 'sound', 'soundtrack',\n",
       "       'southern', 'specialty', 'speech', 'spiritual', 'sport',\n",
       "       'stonerrock', 'surf', 'swing', 'synthpop', 'synthrock',\n",
       "       'sängerportrait', 'tango', 'tanzorchester', 'taraftar', 'tatar',\n",
       "       'tech', 'techno', 'teen', 'thrash', 'top', 'traditional',\n",
       "       'tradjazz', 'trance', 'tribal', 'trip', 'triphop', 'tropical',\n",
       "       'türk', 'türkçe', 'ukrrock', 'unknown', 'urban', 'uzbek',\n",
       "       'variété', 'vi', 'videogame', 'vocal', 'western', 'world',\n",
       "       'worldbeat', 'ïîï', 'электроника'], dtype=object)"
      ]
     },
     "execution_count": 20,
     "metadata": {},
     "output_type": "execute_result"
    }
   ],
   "source": [
    "df['genre'].sort_values().unique() # Проверка на неявные дубликаты"
   ]
  },
  {
   "cell_type": "markdown",
   "metadata": {
    "deletable": false,
    "editable": false,
    "id": "jz6a9-7HQUDd"
   },
   "source": [
    "**Выводы**\n",
    "\n",
    "Предобработка обнаружила три проблемы в данных:\n",
    "\n",
    "- нарушения в стиле заголовков,\n",
    "- пропущенные значения,\n",
    "- дубликаты — явные и неявные.\n",
    "\n",
    "Вы исправили заголовки, чтобы упростить работу с таблицей. Без дубликатов исследование станет более точным.\n",
    "\n",
    "Пропущенные значения вы заменили на `'unknown'`. Ещё предстоит увидеть, не повредят ли исследованию пропуски в колонке `genre`.\n",
    "\n",
    "Теперь можно перейти к проверке гипотез."
   ]
  },
  {
   "cell_type": "markdown",
   "metadata": {
    "deletable": false,
    "editable": false,
    "id": "WttZHXH0SqKk"
   },
   "source": [
    "## Проверка гипотез"
   ]
  },
  {
   "cell_type": "markdown",
   "metadata": {
    "deletable": false,
    "editable": false,
    "id": "Im936VVi_Zcu"
   },
   "source": [
    "### Сравнение поведения пользователей двух столиц"
   ]
  },
  {
   "cell_type": "markdown",
   "metadata": {
    "deletable": false,
    "editable": false,
    "id": "nwt_MuaL_Zcu"
   },
   "source": [
    "Первая гипотеза утверждает, что пользователи по-разному слушают музыку в Москве и Санкт-Петербурге. Проверьте это предположение по данным о трёх днях недели — понедельнике, среде и пятнице. Для этого:\n",
    "\n",
    "* Разделите пользователей Москвы и Санкт-Петербурга.\n",
    "* Сравните, сколько треков послушала каждая группа пользователей в понедельник, среду и пятницу.\n"
   ]
  },
  {
   "cell_type": "markdown",
   "metadata": {
    "deletable": false,
    "editable": false,
    "id": "8Dw_YMmT_Zcu",
    "tags": [
     "start_task"
    ]
   },
   "source": [
    "**Задание 18**\n",
    "\n",
    "Для тренировки сначала выполните каждый из расчётов по отдельности.\n",
    "\n",
    "Оцените активность пользователей в каждом городе. Сгруппируйте данные по городу и посчитайте прослушивания в каждой группе.\n",
    "\n"
   ]
  },
  {
   "cell_type": "code",
   "execution_count": 21,
   "metadata": {
    "deletable": false,
    "id": "0_Qs96oh_Zcu",
    "scrolled": true
   },
   "outputs": [
    {
     "data": {
      "text/plain": [
       "city\n",
       "Moscow              42741\n",
       "Saint-Petersburg    18512\n",
       "Name: genre, dtype: int64"
      ]
     },
     "execution_count": 21,
     "metadata": {},
     "output_type": "execute_result"
    }
   ],
   "source": [
    "df.groupby('city')['genre'].count()  # Подсчёт прослушиваний в каждом городе"
   ]
  },
  {
   "cell_type": "markdown",
   "metadata": {
    "deletable": false,
    "editable": false,
    "id": "dzli3w8o_Zcu",
    "tags": [
     "start_task"
    ]
   },
   "source": [
    "В Москве прослушиваний больше, чем в Петербурге. Из этого не следует, что московские пользователи чаще слушают музыку. Просто самих пользователей в Москве больше.\n",
    "\n",
    "**Задание 19**\n",
    "\n",
    "Теперь сгруппируйте данные по дню недели и посчитайте прослушивания в понедельник, среду и пятницу. Учтите, что в данных есть информация о прослушиваниях только за эти дни.\n"
   ]
  },
  {
   "cell_type": "code",
   "execution_count": 22,
   "metadata": {
    "deletable": false,
    "id": "uZMKjiJz_Zcu"
   },
   "outputs": [
    {
     "data": {
      "text/plain": [
       "day\n",
       "Friday       21840\n",
       "Monday       21354\n",
       "Wednesday    18059\n",
       "Name: genre, dtype: int64"
      ]
     },
     "execution_count": 22,
     "metadata": {},
     "output_type": "execute_result"
    }
   ],
   "source": [
    "df.groupby('day')['genre'].count()# Подсчёт прослушиваний в каждый из трёх дней"
   ]
  },
  {
   "cell_type": "markdown",
   "metadata": {
    "deletable": false,
    "editable": false,
    "id": "cC2tNrlL_Zcu"
   },
   "source": [
    "В среднем пользователи из двух городов менее активны по средам. Но картина может измениться, если рассмотреть каждый город в отдельности."
   ]
  },
  {
   "cell_type": "markdown",
   "metadata": {
    "deletable": false,
    "editable": false,
    "id": "POzs8bGa_Zcu",
    "tags": [
     "start_task"
    ]
   },
   "source": [
    "**Задание 20**\n",
    "\n",
    "\n",
    "Вы видели, как работает группировка по городу и по дням недели. Теперь напишите функцию, которая объединит два эти расчёта.\n",
    "\n",
    "Создайте функцию `number_tracks()`, которая посчитает прослушивания для заданного дня и города. Ей понадобятся два параметра:\n",
    "* день недели,\n",
    "* название города.\n",
    "\n",
    "В функции сохраните в переменную строки исходной таблицы, у которых значение:\n",
    "  * в колонке `day` равно параметру `day`,\n",
    "  * в колонке `city` равно параметру `city`.\n",
    "\n",
    "Для этого примените последовательную фильтрацию с логической индексацией (или сложные логические выражения в одну строку, если вы уже знакомы с ними).\n",
    "\n",
    "Затем посчитайте значения в столбце `user_id` получившейся таблицы. Результат сохраните в новую переменную. Верните эту переменную из функции."
   ]
  },
  {
   "cell_type": "code",
   "execution_count": 23,
   "metadata": {
    "deletable": false,
    "id": "Nz3GdQB1_Zcu"
   },
   "outputs": [],
   "source": [
    "# <создание функции number_tracks()>\n",
    "# Объявляется функция с двумя параметрами: day, city.\n",
    "def number_tracks(day, city):    \n",
    "    track_list = df[df['day'] == day] \n",
    "    track_list=track_list[track_list['city'] == city]\n",
    "    track_list_count = track_list['user_id'].count()\n",
    "    return track_list_count\n",
    "    \n",
    "# В переменной track_list сохраняются те строки таблицы df, для которых\n",
    "# значение в столбце 'day' равно параметру day и одновременно значение\n",
    "# в столбце 'city' равно параметру city (используйте последовательную фильтрацию\n",
    "# с помощью логической индексации или сложные логические выражения в одну строку, если вы уже знакомы с ними).  \n",
    "# В переменной track_list_count сохраняется число значений столбца 'user_id',\n",
    "# рассчитанное методом count() для таблицы track_list.\n",
    "# Функция возвращает число - значение track_list_count.\n",
    "# Функция для подсчёта прослушиваний для конкретного города и дня.\n",
    "# С помощью последовательной фильтрации с логической индексацией она\n",
    "# сначала получит из исходной таблицы строки с нужным днём,\n",
    "# затем из результата отфильтрует строки с нужным городом,\n",
    "# методом count() посчитает количество значений в колонке user_id.\n",
    "# Это количество функция вернёт в качестве результата"
   ]
  },
  {
   "cell_type": "markdown",
   "metadata": {
    "deletable": false,
    "editable": false,
    "id": "ytf7xFrFJQ2r",
    "tags": [
     "start_task"
    ]
   },
   "source": [
    "**Задание 21**\n",
    "\n",
    "Вызовите `number_tracks()` шесть раз, меняя значение параметров — так, чтобы получить данные для каждого города в каждый из трёх дней."
   ]
  },
  {
   "cell_type": "code",
   "execution_count": 24,
   "metadata": {
    "deletable": false,
    "id": "rJcRATNQ_Zcu"
   },
   "outputs": [
    {
     "data": {
      "text/plain": [
       "15740"
      ]
     },
     "execution_count": 24,
     "metadata": {},
     "output_type": "execute_result"
    }
   ],
   "source": [
    "# количество прослушиваний в Москве по понедельникам\n",
    "number_tracks('Monday', 'Moscow')"
   ]
  },
  {
   "cell_type": "code",
   "execution_count": 25,
   "metadata": {
    "deletable": false,
    "id": "hq_ncZ5T_Zcu"
   },
   "outputs": [
    {
     "data": {
      "text/plain": [
       "5614"
      ]
     },
     "execution_count": 25,
     "metadata": {},
     "output_type": "execute_result"
    }
   ],
   "source": [
    "number_tracks('Monday', 'Saint-Petersburg')\n",
    "# количество прослушиваний в Санкт-Петербурге по понедельникам"
   ]
  },
  {
   "cell_type": "code",
   "execution_count": 26,
   "metadata": {
    "deletable": false,
    "id": "_NTy2VPU_Zcu"
   },
   "outputs": [
    {
     "data": {
      "text/plain": [
       "11056"
      ]
     },
     "execution_count": 26,
     "metadata": {},
     "output_type": "execute_result"
    }
   ],
   "source": [
    "number_tracks('Wednesday', 'Moscow')\n",
    "# количество прослушиваний в Москве по средам"
   ]
  },
  {
   "cell_type": "code",
   "execution_count": 27,
   "metadata": {
    "deletable": false,
    "id": "j2y3TAwo_Zcu"
   },
   "outputs": [
    {
     "data": {
      "text/plain": [
       "7003"
      ]
     },
     "execution_count": 27,
     "metadata": {},
     "output_type": "execute_result"
    }
   ],
   "source": [
    "number_tracks('Wednesday', 'Saint-Petersburg')\n",
    "# количество прослушиваний в Санкт-Петербурге по средам"
   ]
  },
  {
   "cell_type": "code",
   "execution_count": 28,
   "metadata": {
    "deletable": false,
    "id": "vYDw5u_K_Zcu"
   },
   "outputs": [
    {
     "data": {
      "text/plain": [
       "15945"
      ]
     },
     "execution_count": 28,
     "metadata": {},
     "output_type": "execute_result"
    }
   ],
   "source": [
    "number_tracks('Friday', 'Moscow')\n",
    "# количество прослушиваний в Москве по пятницам"
   ]
  },
  {
   "cell_type": "code",
   "execution_count": 29,
   "metadata": {
    "deletable": false,
    "id": "8_yzFtW3_Zcu"
   },
   "outputs": [
    {
     "data": {
      "text/plain": [
       "5895"
      ]
     },
     "execution_count": 29,
     "metadata": {},
     "output_type": "execute_result"
    }
   ],
   "source": [
    "number_tracks('Friday', 'Saint-Petersburg')\n",
    "# количество прослушиваний в Санкт-Петербурге по пятницам"
   ]
  },
  {
   "cell_type": "markdown",
   "metadata": {
    "deletable": false,
    "editable": false,
    "id": "7QXffbO-_Zcu",
    "tags": [
     "start_task"
    ]
   },
   "source": [
    "**Задание 22**\n",
    "\n",
    "С помощью конструктора `pd.DataFrame` создайте таблицу, где\n",
    "* названия колонок — `['city', 'monday', 'wednesday', 'friday']`;\n",
    "* данные — результаты, которые вы получили с помощью `number_tracks`."
   ]
  },
  {
   "cell_type": "code",
   "execution_count": 30,
   "metadata": {
    "deletable": false,
    "id": "APAcLpOr_Zcu"
   },
   "outputs": [
    {
     "data": {
      "text/html": [
       "<div>\n",
       "<style scoped>\n",
       "    .dataframe tbody tr th:only-of-type {\n",
       "        vertical-align: middle;\n",
       "    }\n",
       "\n",
       "    .dataframe tbody tr th {\n",
       "        vertical-align: top;\n",
       "    }\n",
       "\n",
       "    .dataframe thead th {\n",
       "        text-align: right;\n",
       "    }\n",
       "</style>\n",
       "<table border=\"1\" class=\"dataframe\">\n",
       "  <thead>\n",
       "    <tr style=\"text-align: right;\">\n",
       "      <th></th>\n",
       "      <th>city</th>\n",
       "      <th>monday</th>\n",
       "      <th>wednesday</th>\n",
       "      <th>friday</th>\n",
       "    </tr>\n",
       "  </thead>\n",
       "  <tbody>\n",
       "    <tr>\n",
       "      <th>0</th>\n",
       "      <td>Москва</td>\n",
       "      <td>15740</td>\n",
       "      <td>11056</td>\n",
       "      <td>15945</td>\n",
       "    </tr>\n",
       "    <tr>\n",
       "      <th>1</th>\n",
       "      <td>Санкт-Петербург</td>\n",
       "      <td>5614</td>\n",
       "      <td>7003</td>\n",
       "      <td>5895</td>\n",
       "    </tr>\n",
       "  </tbody>\n",
       "</table>\n",
       "</div>"
      ],
      "text/plain": [
       "              city  monday  wednesday  friday\n",
       "0           Москва   15740      11056   15945\n",
       "1  Санкт-Петербург    5614       7003    5895"
      ]
     },
     "execution_count": 30,
     "metadata": {},
     "output_type": "execute_result"
    }
   ],
   "source": [
    "table_day_city=pd.DataFrame(data=[['Москва', 15740, 11056, 15945], ['Санкт-Петербург', 5614, 7003, 5895]], columns=['city', 'monday', 'wednesday', 'friday'])\n",
    "table_day_city # Таблица с результатами"
   ]
  },
  {
   "cell_type": "markdown",
   "metadata": {
    "deletable": false,
    "editable": false,
    "id": "-EgPIHYu_Zcu"
   },
   "source": [
    "**Выводы**\n",
    "\n",
    "Данные показывают разницу поведения пользователей:\n",
    "\n",
    "- В Москве пик прослушиваний приходится на понедельник и пятницу, а в среду заметен спад.\n",
    "- В Петербурге, наоборот, больше слушают музыку по средам. Активность в понедельник и пятницу здесь почти в равной мере уступает среде.\n",
    "\n",
    "Значит, данные говорят в пользу первой гипотезы."
   ]
  },
  {
   "cell_type": "markdown",
   "metadata": {
    "deletable": false,
    "editable": false,
    "id": "atZAxtq4_Zcu"
   },
   "source": [
    "### Музыка в начале и в конце недели"
   ]
  },
  {
   "cell_type": "markdown",
   "metadata": {
    "deletable": false,
    "editable": false,
    "id": "eXrQqXFH_Zcu"
   },
   "source": [
    "Согласно второй гипотезе, утром в понедельник в Москве преобладают одни жанры, а в Петербурге — другие. Так же и вечером пятницы преобладают разные жанры — в зависимости от города."
   ]
  },
  {
   "cell_type": "markdown",
   "metadata": {
    "deletable": false,
    "editable": false,
    "id": "S8UcW6Hw_Zcu",
    "tags": [
     "start_task"
    ]
   },
   "source": [
    "**Задание 23**\n",
    "\n",
    "Сохраните таблицы с данными в две переменные:\n",
    "* по Москве — в `moscow_general`;\n",
    "* по Санкт-Петербургу — в `spb_general`."
   ]
  },
  {
   "cell_type": "code",
   "execution_count": 42,
   "metadata": {
    "deletable": false,
    "id": "qeaFfM_P_Zcu"
   },
   "outputs": [],
   "source": [
    "moscow_general=df[df['city'] == 'Moscow']\n",
    "# получение таблицы moscow_general из тех строк таблицы df,\n",
    "# для которых значение в столбце 'city' равно 'Moscow'"
   ]
  },
  {
   "cell_type": "code",
   "execution_count": 43,
   "metadata": {
    "deletable": false,
    "id": "ORaVRKto_Zcu"
   },
   "outputs": [],
   "source": [
    "spb_general=df[df['city'] == 'Saint-Petersburg'] \n",
    "# получение таблицы spb_general из тех строк таблицы df,\n",
    "# для которых значение в столбце 'city' равно 'Saint-Petersburg'"
   ]
  },
  {
   "cell_type": "markdown",
   "metadata": {
    "deletable": false,
    "id": "MEJV-CX2_Zcu",
    "tags": [
     "start_task"
    ]
   },
   "source": [
    "**Задание 24**\n",
    "\n",
    "Создайте функцию `genre_weekday()` с четырьмя параметрами:\n",
    "* таблица (датафрейм) с данными,\n",
    "* день недели,\n",
    "* начальная временная метка в формате 'hh:mm',\n",
    "* последняя временная метка в формате 'hh:mm'.\n",
    "\n",
    "Функция должна вернуть информацию о топ-10 жанров тех треков, которые прослушивали в указанный день, в промежутке между двумя отметками времени."
   ]
  },
  {
   "cell_type": "code",
   "execution_count": 33,
   "metadata": {
    "deletable": false,
    "id": "laJT9BYl_Zcu"
   },
   "outputs": [],
   "source": [
    "# Объявление функции genre_weekday() с параметрами df, day, time1, time2,\n",
    "# которая возвращает информацию о самых популярных жанрах в указанный день в\n",
    "# заданное время:\n",
    "# 1) в переменную genre_df сохраняются те строки переданного датафрейма df, для\n",
    "#    которых одновременно:\n",
    "#    - значение в столбце day равно значению аргумента day\n",
    "#    - значение в столбце time больше значения аргумента time1\n",
    "#    - значение в столбце time меньше значения аргумента time2\n",
    "#    Используйте последовательную фильтрацию с помощью логической индексации.\n",
    "# 2) сгруппировать датафрейм genre_df по столбцу genre, взять один из его\n",
    "#    столбцов и посчитать методом count() количество записей для каждого из\n",
    "#    присутствующих жанров, получившийся Series записать в переменную\n",
    "#    genre_df_grouped\n",
    "# 3) отсортировать genre_df_grouped по убыванию встречаемости и сохранить\n",
    "#    в переменную genre_df_sorted\n",
    "# 4) вернуть Series из 10 первых значений genre_df_sorted, это будут топ-10\n",
    "#    популярных жанров (в указанный день, в заданное время)\n",
    "\n",
    "def genre_weekday(df, day, time1, time2):\n",
    "    # последовательная фильтрация\n",
    "    # оставляем в genre_df только те строки df, у которых день равен day\n",
    "    genre_df = df[df['day']==day]\n",
    "    # оставляем в genre_df только те строки genre_df, у которых время меньше time2\n",
    "    genre_df = genre_df[genre_df['time']<time2]\n",
    "    # оставляем в genre_df только те строки genre_df, у которых время больше time1\n",
    "    genre_df = genre_df[genre_df['time']>time1]\n",
    "    # сгруппируем отфильтрованный датафрейм по столбцу с названиями жанров, возьмём столбец genre и посчитаем кол-во строк для каждого жанра методом count()\n",
    "    genre_df_grouped = genre_df.groupby('genre')['genre'].count()\n",
    "    # отсортируем результат по убыванию (чтобы в начале Series оказались самые популярные жанры)\n",
    "    genre_df_sorted =genre_df_grouped.sort_values(ascending=False) \n",
    "    # вернём Series с 10 самыми популярными жанрами в указанный отрезок времени заданного дня\n",
    "    return genre_df_sorted[:10]"
   ]
  },
  {
   "cell_type": "markdown",
   "metadata": {
    "deletable": false,
    "editable": false,
    "id": "la2s2_PF_Zcu",
    "tags": [
     "start_task"
    ]
   },
   "source": [
    "**Задание 25**\n",
    "\n",
    "\n",
    "Cравните результаты функции `genre_weekday()` для Москвы и Санкт-Петербурга в понедельник утром (с 7:00 до 11:00) и в пятницу вечером (с 17:00 до 23:00):"
   ]
  },
  {
   "cell_type": "code",
   "execution_count": 34,
   "metadata": {
    "deletable": false,
    "id": "yz7itPUQ_Zcu"
   },
   "outputs": [
    {
     "data": {
      "text/plain": [
       "genre\n",
       "pop            781\n",
       "dance          549\n",
       "electronic     480\n",
       "rock           474\n",
       "hiphop         286\n",
       "ruspop         186\n",
       "world          181\n",
       "rusrap         175\n",
       "alternative    164\n",
       "unknown        161\n",
       "Name: genre, dtype: int64"
      ]
     },
     "execution_count": 34,
     "metadata": {},
     "output_type": "execute_result"
    }
   ],
   "source": [
    "# вызов функции для утра понедельника в Москве (вместо df — таблица moscow_general)\n",
    "# объекты, хранящие время, являются строками и сравниваются как строки\n",
    "# пример вызова: genre_weekday(moscow_general, 'Monday', '07:00', '11:00')\n",
    "genre_weekday(moscow_general, 'Monday', '07:00', '11:00')"
   ]
  },
  {
   "cell_type": "code",
   "execution_count": 35,
   "metadata": {
    "deletable": false,
    "id": "kwUcHPdy_Zcu"
   },
   "outputs": [
    {
     "data": {
      "text/plain": [
       "genre\n",
       "pop            218\n",
       "dance          182\n",
       "rock           162\n",
       "electronic     147\n",
       "hiphop          80\n",
       "ruspop          64\n",
       "alternative     58\n",
       "rusrap          55\n",
       "jazz            44\n",
       "classical       40\n",
       "Name: genre, dtype: int64"
      ]
     },
     "execution_count": 35,
     "metadata": {},
     "output_type": "execute_result"
    }
   ],
   "source": [
    "# вызов функции для утра понедельника в Петербурге (вместо df — таблица spb_general)\n",
    "genre_weekday(spb_general, 'Monday', '07:00', '11:00')"
   ]
  },
  {
   "cell_type": "code",
   "execution_count": 36,
   "metadata": {
    "deletable": false,
    "id": "EzXVRE1o_Zcu"
   },
   "outputs": [
    {
     "data": {
      "text/plain": [
       "genre\n",
       "pop            713\n",
       "rock           517\n",
       "dance          495\n",
       "electronic     482\n",
       "hiphop         273\n",
       "world          208\n",
       "ruspop         170\n",
       "alternative    163\n",
       "classical      163\n",
       "rusrap         142\n",
       "Name: genre, dtype: int64"
      ]
     },
     "execution_count": 36,
     "metadata": {},
     "output_type": "execute_result"
    }
   ],
   "source": [
    "# вызов функции для вечера пятницы в Москве\n",
    "genre_weekday(moscow_general, 'Friday', '17:00', '23:00')"
   ]
  },
  {
   "cell_type": "code",
   "execution_count": 37,
   "metadata": {
    "deletable": false,
    "id": "JZaEKu5v_Zcu"
   },
   "outputs": [
    {
     "data": {
      "text/plain": [
       "genre\n",
       "pop            256\n",
       "electronic     216\n",
       "rock           216\n",
       "dance          210\n",
       "hiphop          97\n",
       "alternative     63\n",
       "jazz            61\n",
       "classical       60\n",
       "rusrap          59\n",
       "world           54\n",
       "Name: genre, dtype: int64"
      ]
     },
     "execution_count": 37,
     "metadata": {},
     "output_type": "execute_result"
    }
   ],
   "source": [
    "# вызов функции для вечера пятницы в Петербурге\n",
    "genre_weekday(spb_general, 'Friday', '17:00', '23:00')"
   ]
  },
  {
   "cell_type": "markdown",
   "metadata": {
    "deletable": false,
    "editable": false,
    "id": "wrCe4MNX_Zcu"
   },
   "source": [
    "**Выводы**\n",
    "\n",
    "Если сравнить топ-10 жанров в понедельник утром, можно сделать такие выводы:\n",
    "\n",
    "1. В Москве и Петербурге слушают похожую музыку. Единственное различие — в московский рейтинг вошёл жанр “world”, а в петербургский — джаз и классика.\n",
    "\n",
    "2. В Москве пропущенных значений оказалось так много, что значение `'unknown'` заняло десятое место среди самых популярных жанров. Значит, пропущенные значения занимают существенную долю в данных и угрожают достоверности исследования.\n",
    "\n",
    "Вечер пятницы не меняет эту картину. Некоторые жанры поднимаются немного выше, другие спускаются, но в целом топ-10 остаётся тем же самым.\n",
    "\n",
    "Таким образом, вторая гипотеза подтвердилась лишь частично:\n",
    "* Пользователи слушают похожую музыку в начале недели и в конце.\n",
    "* Разница между Москвой и Петербургом не слишком выражена. В Москве чаще слушают русскую популярную музыку, в Петербурге — джаз.\n",
    "\n",
    "Однако пропуски в данных ставят под сомнение этот результат. В Москве их так много, что рейтинг топ-10 мог бы выглядеть иначе, если бы не утерянные  данные о жанрах."
   ]
  },
  {
   "cell_type": "markdown",
   "metadata": {
    "deletable": false,
    "editable": false,
    "id": "JolODAqr_Zcu"
   },
   "source": [
    "### Жанровые предпочтения в Москве и Петербурге\n",
    "\n",
    "Гипотеза: Петербург — столица рэпа, музыку этого жанра там слушают чаще, чем в Москве.  А Москва — город контрастов, в котором, тем не менее, преобладает поп-музыка."
   ]
  },
  {
   "cell_type": "markdown",
   "metadata": {
    "deletable": false,
    "editable": false,
    "id": "DlegSvaT_Zcu",
    "tags": [
     "start_task"
    ]
   },
   "source": [
    "**Задание 26**\n",
    "\n",
    "Сгруппируйте таблицу `moscow_general` по жанру и посчитайте прослушивания треков каждого жанра методом `count()`. Затем отсортируйте результат в порядке убывания и сохраните его в таблице `moscow_genres`."
   ]
  },
  {
   "cell_type": "code",
   "execution_count": 38,
   "metadata": {
    "deletable": false,
    "id": "r19lIPke_Zcu"
   },
   "outputs": [],
   "source": [
    "# одной строкой: группировка таблицы moscow_general по столбцу 'genre',\n",
    "# подсчёт числа значений 'genre' в этой группировке методом count(),\n",
    "# сортировка получившегося Series в порядке убывания и сохранение в moscow_genres\n",
    "moscow_genres = moscow_general.groupby('genre')['genre'].count().sort_values(ascending=False)"
   ]
  },
  {
   "cell_type": "markdown",
   "metadata": {
    "deletable": false,
    "editable": false,
    "id": "6kMuomxTiIr8",
    "tags": [
     "start_task"
    ]
   },
   "source": [
    "**Задание 27**\n",
    "\n",
    "Выведите на экран первые десять строк `moscow_genres`:"
   ]
  },
  {
   "cell_type": "code",
   "execution_count": 39,
   "metadata": {
    "deletable": false,
    "id": "WhCSooF8_Zcv"
   },
   "outputs": [
    {
     "data": {
      "text/plain": [
       "genre\n",
       "pop            5892\n",
       "dance          4435\n",
       "rock           3965\n",
       "electronic     3786\n",
       "hiphop         2096\n",
       "classical      1616\n",
       "world          1432\n",
       "alternative    1379\n",
       "ruspop         1372\n",
       "rusrap         1161\n",
       "Name: genre, dtype: int64"
      ]
     },
     "execution_count": 39,
     "metadata": {},
     "output_type": "execute_result"
    }
   ],
   "source": [
    "# просмотр первых 10 строк moscow_genres\n",
    "moscow_genres.head(10)"
   ]
  },
  {
   "cell_type": "markdown",
   "metadata": {
    "deletable": false,
    "editable": false,
    "id": "cnPG2vnN_Zcv",
    "tags": [
     "start_task"
    ]
   },
   "source": [
    "**Задание 28**\n",
    "\n",
    "\n",
    "Теперь повторите то же и для Петербурга.\n",
    "\n",
    "Сгруппируйте таблицу `spb_general` по жанру. Посчитайте прослушивания треков каждого жанра. Результат отсортируйте в порядке убывания и сохраните в таблице `spb_genres`:\n"
   ]
  },
  {
   "cell_type": "code",
   "execution_count": 40,
   "metadata": {
    "deletable": false,
    "id": "gluLIpE7_Zcv"
   },
   "outputs": [],
   "source": [
    "# одной строкой: группировка таблицы spb_general по столбцу 'genre',\n",
    "# подсчёт числа значений 'genre' в этой группировке методом count(),\n",
    "# сортировка получившегося Series в порядке убывания и сохранение в spb_genres\n",
    "spb_genres=spb_general.groupby('genre')['genre'].count().sort_values(ascending=False)"
   ]
  },
  {
   "cell_type": "markdown",
   "metadata": {
    "deletable": false,
    "editable": false,
    "id": "5Doha_ODgyQ8",
    "tags": [
     "start_task"
    ]
   },
   "source": [
    "**Задание 29**\n",
    "\n",
    "Выведите на экран первые десять строк `spb_genres`:"
   ]
  },
  {
   "cell_type": "code",
   "execution_count": 41,
   "metadata": {
    "deletable": false,
    "id": "uaGJHjVU_Zcv"
   },
   "outputs": [
    {
     "data": {
      "text/plain": [
       "genre\n",
       "pop            2431\n",
       "dance          1932\n",
       "rock           1879\n",
       "electronic     1736\n",
       "hiphop          960\n",
       "alternative     649\n",
       "classical       646\n",
       "rusrap          564\n",
       "ruspop          538\n",
       "world           515\n",
       "Name: genre, dtype: int64"
      ]
     },
     "execution_count": 41,
     "metadata": {},
     "output_type": "execute_result"
    }
   ],
   "source": [
    "# просмотр первых 10 строк spb_genres\n",
    "spb_genres.head(10)"
   ]
  },
  {
   "cell_type": "markdown",
   "metadata": {
    "deletable": false,
    "editable": false,
    "id": "RY51YJYu_Zcv"
   },
   "source": [
    "**Выводы**"
   ]
  },
  {
   "cell_type": "markdown",
   "metadata": {
    "deletable": false,
    "editable": false,
    "id": "nVhnJEm__Zcv"
   },
   "source": [
    "Гипотеза частично подтвердилась:\n",
    "* Поп-музыка — самый популярный жанр в Москве, как и предполагала гипотеза. Более того, в топ-10 жанров встречается близкий жанр — русская популярная музыка.\n",
    "* Вопреки ожиданиям, рэп одинаково популярен в Москве и Петербурге.\n"
   ]
  },
  {
   "cell_type": "markdown",
   "metadata": {
    "deletable": false,
    "editable": false,
    "id": "ykKQ0N65_Zcv"
   },
   "source": [
    "## Итоги исследования"
   ]
  },
  {
   "cell_type": "markdown",
   "metadata": {
    "deletable": false,
    "editable": false,
    "id": "tjUwbHb3_Zcv"
   },
   "source": [
    "Вы проверили три гипотезы и установили:\n",
    "\n",
    "1. День недели по-разному влияет на активность пользователей в Москве и Петербурге.\n",
    "\n",
    "Первая гипотеза полностью подтвердилась.\n",
    "\n",
    "2. Музыкальные предпочтения не сильно меняются в течение недели — будь то Москва или Петербург. Небольшие различия заметны в начале недели, по понедельникам:\n",
    "* в Москве слушают музыку жанра “world”,\n",
    "* в Петербурге — джаз и классику.\n",
    "\n",
    "Таким образом, вторая гипотеза подтвердилась лишь отчасти. Этот результат мог оказаться иным, если бы не пропуски в данных.\n",
    "\n",
    "3. Во вкусах пользователей Москвы и Петербурга больше общего, чем различий. Вопреки ожиданиям, предпочтения жанров в Петербурге напоминают московские.\n",
    "\n",
    "Третья гипотеза не подтвердилась. Если различия в предпочтениях и существуют, на основной массе пользователей они незаметны.\n",
    "\n",
    "**На практике исследования содержат проверки статистических гипотез.**\n",
    "Из данных одного сервиса не всегда можно сделать вывод о всех жителях города.\n",
    "Проверки статистических гипотез покажут, насколько они достоверны, исходя из имеющихся данных.\n",
    "С методами проверок гипотез вы ещё познакомитесь в следующих темах."
   ]
  }
 ],
 "metadata": {
  "ExecuteTimeLog": [
   {
    "duration": 360,
    "start_time": "2023-12-13T10:07:04.682Z"
   },
   {
    "duration": 2,
    "start_time": "2023-12-13T10:07:06.101Z"
   },
   {
    "duration": 196,
    "start_time": "2023-12-13T10:07:54.360Z"
   },
   {
    "duration": 17,
    "start_time": "2023-12-13T10:08:22.134Z"
   },
   {
    "duration": 33,
    "start_time": "2023-12-13T10:09:05.167Z"
   },
   {
    "duration": 5,
    "start_time": "2023-12-13T10:17:21.993Z"
   },
   {
    "duration": 3,
    "start_time": "2023-12-13T10:19:11.557Z"
   },
   {
    "duration": 3,
    "start_time": "2023-12-13T10:19:18.351Z"
   },
   {
    "duration": 62,
    "start_time": "2023-12-13T10:21:31.417Z"
   },
   {
    "duration": 94,
    "start_time": "2023-12-13T10:21:41.240Z"
   },
   {
    "duration": 47,
    "start_time": "2023-12-13T10:22:08.950Z"
   },
   {
    "duration": 52,
    "start_time": "2023-12-13T10:22:21.210Z"
   },
   {
    "duration": 55,
    "start_time": "2023-12-13T10:22:33.024Z"
   },
   {
    "duration": 2,
    "start_time": "2023-12-13T10:23:12.156Z"
   },
   {
    "duration": 203,
    "start_time": "2023-12-13T10:23:12.160Z"
   },
   {
    "duration": 11,
    "start_time": "2023-12-13T10:23:12.365Z"
   },
   {
    "duration": 42,
    "start_time": "2023-12-13T10:23:12.377Z"
   },
   {
    "duration": 11,
    "start_time": "2023-12-13T10:23:12.421Z"
   },
   {
    "duration": 6,
    "start_time": "2023-12-13T10:23:12.434Z"
   },
   {
    "duration": 53,
    "start_time": "2023-12-13T10:23:14.770Z"
   },
   {
    "duration": 63,
    "start_time": "2023-12-13T10:23:16.009Z"
   },
   {
    "duration": 57,
    "start_time": "2023-12-13T10:23:16.607Z"
   },
   {
    "duration": 12,
    "start_time": "2023-12-13T10:24:15.443Z"
   },
   {
    "duration": 14,
    "start_time": "2023-12-13T10:24:35.064Z"
   },
   {
    "duration": 12,
    "start_time": "2023-12-13T10:24:50.521Z"
   },
   {
    "duration": 5,
    "start_time": "2023-12-13T10:25:26.374Z"
   },
   {
    "duration": 28,
    "start_time": "2023-12-13T10:26:40.925Z"
   },
   {
    "duration": 18,
    "start_time": "2023-12-13T10:29:20.234Z"
   },
   {
    "duration": 27,
    "start_time": "2023-12-13T10:29:46.402Z"
   },
   {
    "duration": 79,
    "start_time": "2023-12-13T10:30:25.146Z"
   },
   {
    "duration": 71,
    "start_time": "2023-12-13T10:31:09.310Z"
   },
   {
    "duration": 59,
    "start_time": "2023-12-13T10:32:15.055Z"
   },
   {
    "duration": 3,
    "start_time": "2023-12-13T10:32:23.897Z"
   },
   {
    "duration": 201,
    "start_time": "2023-12-13T10:32:23.902Z"
   },
   {
    "duration": 11,
    "start_time": "2023-12-13T10:32:24.105Z"
   },
   {
    "duration": 50,
    "start_time": "2023-12-13T10:32:24.118Z"
   },
   {
    "duration": 47,
    "start_time": "2023-12-13T10:35:53.560Z"
   },
   {
    "duration": 42,
    "start_time": "2023-12-13T10:36:08.523Z"
   },
   {
    "duration": 44,
    "start_time": "2023-12-13T10:36:39.125Z"
   },
   {
    "duration": 14,
    "start_time": "2023-12-13T10:40:11.864Z"
   },
   {
    "duration": 11,
    "start_time": "2023-12-13T10:40:55.761Z"
   },
   {
    "duration": 48,
    "start_time": "2023-12-13T10:41:56.813Z"
   },
   {
    "duration": 72,
    "start_time": "2023-12-13T10:53:47.749Z"
   },
   {
    "duration": 11,
    "start_time": "2023-12-13T10:53:57.916Z"
   },
   {
    "duration": 10,
    "start_time": "2023-12-13T10:54:15.947Z"
   },
   {
    "duration": 11,
    "start_time": "2023-12-13T10:54:31.494Z"
   },
   {
    "duration": 12,
    "start_time": "2023-12-13T10:55:35.327Z"
   },
   {
    "duration": 11,
    "start_time": "2023-12-13T10:57:47.867Z"
   },
   {
    "duration": 8,
    "start_time": "2023-12-13T10:59:17.186Z"
   },
   {
    "duration": 29,
    "start_time": "2023-12-13T10:59:26.537Z"
   },
   {
    "duration": 8,
    "start_time": "2023-12-13T10:59:54.002Z"
   },
   {
    "duration": 15,
    "start_time": "2023-12-13T11:00:05.432Z"
   },
   {
    "duration": 10,
    "start_time": "2023-12-13T11:00:29.861Z"
   },
   {
    "duration": 10,
    "start_time": "2023-12-13T11:00:33.283Z"
   },
   {
    "duration": 9,
    "start_time": "2023-12-13T11:00:54.206Z"
   },
   {
    "duration": 13,
    "start_time": "2023-12-13T11:01:40.429Z"
   },
   {
    "duration": 16,
    "start_time": "2023-12-13T11:01:58.354Z"
   },
   {
    "duration": 11,
    "start_time": "2023-12-13T11:02:12.972Z"
   },
   {
    "duration": 10,
    "start_time": "2023-12-13T11:03:23.826Z"
   },
   {
    "duration": 12,
    "start_time": "2023-12-13T11:03:32.962Z"
   },
   {
    "duration": 12,
    "start_time": "2023-12-13T11:04:38.203Z"
   },
   {
    "duration": 2,
    "start_time": "2023-12-13T11:05:46.031Z"
   },
   {
    "duration": 215,
    "start_time": "2023-12-13T11:05:46.035Z"
   },
   {
    "duration": 12,
    "start_time": "2023-12-13T11:05:46.252Z"
   },
   {
    "duration": 61,
    "start_time": "2023-12-13T11:05:46.267Z"
   },
   {
    "duration": 17,
    "start_time": "2023-12-13T11:05:46.330Z"
   },
   {
    "duration": 29,
    "start_time": "2023-12-13T11:05:46.349Z"
   },
   {
    "duration": 24,
    "start_time": "2023-12-13T11:05:46.380Z"
   },
   {
    "duration": 16,
    "start_time": "2023-12-13T11:05:46.406Z"
   },
   {
    "duration": 44,
    "start_time": "2023-12-13T11:05:46.425Z"
   },
   {
    "duration": 35,
    "start_time": "2023-12-13T11:05:46.471Z"
   },
   {
    "duration": 48,
    "start_time": "2023-12-13T11:05:46.508Z"
   },
   {
    "duration": 81,
    "start_time": "2023-12-13T11:05:46.559Z"
   },
   {
    "duration": 77,
    "start_time": "2023-12-13T11:05:46.642Z"
   },
   {
    "duration": 61,
    "start_time": "2023-12-13T11:05:46.730Z"
   },
   {
    "duration": 60,
    "start_time": "2023-12-13T11:05:46.793Z"
   },
   {
    "duration": 24,
    "start_time": "2023-12-13T11:05:46.855Z"
   },
   {
    "duration": 57,
    "start_time": "2023-12-13T11:05:46.881Z"
   },
   {
    "duration": 15,
    "start_time": "2023-12-13T11:05:47.671Z"
   },
   {
    "duration": 46,
    "start_time": "2023-12-13T12:27:45.827Z"
   },
   {
    "duration": 6,
    "start_time": "2023-12-13T12:27:48.122Z"
   },
   {
    "duration": 393,
    "start_time": "2023-12-13T12:27:54.179Z"
   },
   {
    "duration": 242,
    "start_time": "2023-12-13T12:27:54.575Z"
   },
   {
    "duration": 16,
    "start_time": "2023-12-13T12:27:54.819Z"
   },
   {
    "duration": 32,
    "start_time": "2023-12-13T12:27:54.836Z"
   },
   {
    "duration": 6,
    "start_time": "2023-12-13T12:27:54.870Z"
   },
   {
    "duration": 5,
    "start_time": "2023-12-13T12:27:54.877Z"
   },
   {
    "duration": 13,
    "start_time": "2023-12-13T12:27:54.883Z"
   },
   {
    "duration": 6,
    "start_time": "2023-12-13T12:27:54.897Z"
   },
   {
    "duration": 28,
    "start_time": "2023-12-13T12:27:54.904Z"
   },
   {
    "duration": 38,
    "start_time": "2023-12-13T12:27:54.934Z"
   },
   {
    "duration": 26,
    "start_time": "2023-12-13T12:27:54.974Z"
   },
   {
    "duration": 84,
    "start_time": "2023-12-13T12:27:55.001Z"
   },
   {
    "duration": 79,
    "start_time": "2023-12-13T12:27:55.086Z"
   },
   {
    "duration": 61,
    "start_time": "2023-12-13T12:27:55.167Z"
   },
   {
    "duration": 55,
    "start_time": "2023-12-13T12:27:55.230Z"
   },
   {
    "duration": 11,
    "start_time": "2023-12-13T12:27:55.286Z"
   },
   {
    "duration": 43,
    "start_time": "2023-12-13T12:27:55.299Z"
   },
   {
    "duration": 12,
    "start_time": "2023-12-13T12:27:55.359Z"
   },
   {
    "duration": 13,
    "start_time": "2023-12-13T12:27:57.075Z"
   },
   {
    "duration": 3,
    "start_time": "2023-12-13T12:38:48.247Z"
   },
   {
    "duration": 28,
    "start_time": "2023-12-13T12:42:02.423Z"
   },
   {
    "duration": 20,
    "start_time": "2023-12-13T12:44:15.324Z"
   },
   {
    "duration": 32,
    "start_time": "2023-12-13T12:44:29.648Z"
   },
   {
    "duration": 26,
    "start_time": "2023-12-13T12:44:58.711Z"
   },
   {
    "duration": 3,
    "start_time": "2023-12-13T12:48:45.608Z"
   },
   {
    "duration": 3,
    "start_time": "2023-12-13T12:50:03.457Z"
   },
   {
    "duration": 3,
    "start_time": "2023-12-13T12:50:05.783Z"
   },
   {
    "duration": 24,
    "start_time": "2023-12-13T12:51:01.157Z"
   },
   {
    "duration": 21,
    "start_time": "2023-12-13T12:51:18.101Z"
   },
   {
    "duration": 3,
    "start_time": "2023-12-13T12:51:22.415Z"
   },
   {
    "duration": 196,
    "start_time": "2023-12-13T12:51:22.422Z"
   },
   {
    "duration": 10,
    "start_time": "2023-12-13T12:51:22.620Z"
   },
   {
    "duration": 53,
    "start_time": "2023-12-13T12:51:22.632Z"
   },
   {
    "duration": 2,
    "start_time": "2023-12-13T12:51:22.687Z"
   },
   {
    "duration": 20,
    "start_time": "2023-12-13T12:51:22.691Z"
   },
   {
    "duration": 14,
    "start_time": "2023-12-13T12:51:22.712Z"
   },
   {
    "duration": 24,
    "start_time": "2023-12-13T12:51:22.728Z"
   },
   {
    "duration": 36,
    "start_time": "2023-12-13T12:51:22.754Z"
   },
   {
    "duration": 33,
    "start_time": "2023-12-13T12:51:22.792Z"
   },
   {
    "duration": 37,
    "start_time": "2023-12-13T12:51:22.826Z"
   },
   {
    "duration": 67,
    "start_time": "2023-12-13T12:51:22.865Z"
   },
   {
    "duration": 76,
    "start_time": "2023-12-13T12:51:22.934Z"
   },
   {
    "duration": 60,
    "start_time": "2023-12-13T12:51:23.011Z"
   },
   {
    "duration": 42,
    "start_time": "2023-12-13T12:51:23.074Z"
   },
   {
    "duration": 15,
    "start_time": "2023-12-13T12:51:23.118Z"
   },
   {
    "duration": 75,
    "start_time": "2023-12-13T12:51:23.135Z"
   },
   {
    "duration": 17,
    "start_time": "2023-12-13T12:51:23.211Z"
   },
   {
    "duration": 17,
    "start_time": "2023-12-13T12:51:23.230Z"
   },
   {
    "duration": 15,
    "start_time": "2023-12-13T12:51:23.249Z"
   },
   {
    "duration": 25,
    "start_time": "2023-12-13T12:51:25.095Z"
   },
   {
    "duration": 22,
    "start_time": "2023-12-13T12:51:26.574Z"
   },
   {
    "duration": 3,
    "start_time": "2023-12-13T12:52:07.489Z"
   },
   {
    "duration": 17,
    "start_time": "2023-12-13T12:52:10.007Z"
   },
   {
    "duration": 2,
    "start_time": "2023-12-13T12:58:14.213Z"
   },
   {
    "duration": 180,
    "start_time": "2023-12-13T12:58:14.217Z"
   },
   {
    "duration": 11,
    "start_time": "2023-12-13T12:58:14.399Z"
   },
   {
    "duration": 48,
    "start_time": "2023-12-13T12:58:14.411Z"
   },
   {
    "duration": 2,
    "start_time": "2023-12-13T12:58:14.461Z"
   },
   {
    "duration": 15,
    "start_time": "2023-12-13T12:58:14.465Z"
   },
   {
    "duration": 8,
    "start_time": "2023-12-13T12:58:14.481Z"
   },
   {
    "duration": 4,
    "start_time": "2023-12-13T12:58:14.491Z"
   },
   {
    "duration": 38,
    "start_time": "2023-12-13T12:58:14.497Z"
   },
   {
    "duration": 40,
    "start_time": "2023-12-13T12:58:14.537Z"
   },
   {
    "duration": 32,
    "start_time": "2023-12-13T12:58:14.579Z"
   },
   {
    "duration": 94,
    "start_time": "2023-12-13T12:58:14.613Z"
   },
   {
    "duration": 77,
    "start_time": "2023-12-13T12:58:14.708Z"
   },
   {
    "duration": 72,
    "start_time": "2023-12-13T12:58:14.787Z"
   },
   {
    "duration": 43,
    "start_time": "2023-12-13T12:58:14.861Z"
   },
   {
    "duration": 11,
    "start_time": "2023-12-13T12:58:14.906Z"
   },
   {
    "duration": 64,
    "start_time": "2023-12-13T12:58:14.919Z"
   },
   {
    "duration": 11,
    "start_time": "2023-12-13T12:58:14.985Z"
   },
   {
    "duration": 13,
    "start_time": "2023-12-13T12:58:14.998Z"
   },
   {
    "duration": 17,
    "start_time": "2023-12-13T12:58:17.833Z"
   },
   {
    "duration": 14,
    "start_time": "2023-12-13T12:59:43.982Z"
   },
   {
    "duration": 14,
    "start_time": "2023-12-13T12:59:58.217Z"
   },
   {
    "duration": 14,
    "start_time": "2023-12-13T12:59:58.897Z"
   },
   {
    "duration": 19,
    "start_time": "2023-12-13T13:00:19.870Z"
   },
   {
    "duration": 16,
    "start_time": "2023-12-13T13:00:32.932Z"
   },
   {
    "duration": 18,
    "start_time": "2023-12-13T13:00:33.714Z"
   },
   {
    "duration": 24,
    "start_time": "2023-12-13T13:00:34.324Z"
   },
   {
    "duration": 26,
    "start_time": "2023-12-13T13:15:41.982Z"
   },
   {
    "duration": 18,
    "start_time": "2023-12-13T13:16:35.447Z"
   },
   {
    "duration": 174,
    "start_time": "2023-12-13T13:19:59.328Z"
   },
   {
    "duration": 2,
    "start_time": "2023-12-13T13:20:09.617Z"
   },
   {
    "duration": 216,
    "start_time": "2023-12-13T13:20:09.621Z"
   },
   {
    "duration": 12,
    "start_time": "2023-12-13T13:20:09.840Z"
   },
   {
    "duration": 40,
    "start_time": "2023-12-13T13:20:09.858Z"
   },
   {
    "duration": 2,
    "start_time": "2023-12-13T13:20:09.900Z"
   },
   {
    "duration": 8,
    "start_time": "2023-12-13T13:20:09.904Z"
   },
   {
    "duration": 11,
    "start_time": "2023-12-13T13:20:09.913Z"
   },
   {
    "duration": 6,
    "start_time": "2023-12-13T13:20:09.925Z"
   },
   {
    "duration": 48,
    "start_time": "2023-12-13T13:20:09.933Z"
   },
   {
    "duration": 19,
    "start_time": "2023-12-13T13:20:09.983Z"
   },
   {
    "duration": 57,
    "start_time": "2023-12-13T13:20:10.004Z"
   },
   {
    "duration": 85,
    "start_time": "2023-12-13T13:20:10.063Z"
   },
   {
    "duration": 67,
    "start_time": "2023-12-13T13:20:10.150Z"
   },
   {
    "duration": 62,
    "start_time": "2023-12-13T13:20:10.219Z"
   },
   {
    "duration": 44,
    "start_time": "2023-12-13T13:20:10.282Z"
   },
   {
    "duration": 12,
    "start_time": "2023-12-13T13:20:10.327Z"
   },
   {
    "duration": 60,
    "start_time": "2023-12-13T13:20:10.341Z"
   },
   {
    "duration": 13,
    "start_time": "2023-12-13T13:20:10.403Z"
   },
   {
    "duration": 14,
    "start_time": "2023-12-13T13:20:10.417Z"
   },
   {
    "duration": 3,
    "start_time": "2023-12-13T13:20:10.433Z"
   },
   {
    "duration": 66,
    "start_time": "2023-12-13T13:20:10.438Z"
   },
   {
    "duration": 15,
    "start_time": "2023-12-13T13:20:10.506Z"
   },
   {
    "duration": 30,
    "start_time": "2023-12-13T13:20:10.523Z"
   },
   {
    "duration": 16,
    "start_time": "2023-12-13T13:20:10.557Z"
   },
   {
    "duration": 22,
    "start_time": "2023-12-13T13:20:10.575Z"
   },
   {
    "duration": 39,
    "start_time": "2023-12-13T13:20:10.599Z"
   },
   {
    "duration": 117,
    "start_time": "2023-12-13T13:20:11.538Z"
   },
   {
    "duration": 10,
    "start_time": "2023-12-13T13:20:53.570Z"
   },
   {
    "duration": 11,
    "start_time": "2023-12-13T13:24:52.063Z"
   },
   {
    "duration": 10,
    "start_time": "2023-12-13T13:24:53.717Z"
   },
   {
    "duration": 22,
    "start_time": "2023-12-13T13:25:49.810Z"
   },
   {
    "duration": 3,
    "start_time": "2023-12-13T13:26:58.668Z"
   },
   {
    "duration": 186,
    "start_time": "2023-12-13T13:26:58.675Z"
   },
   {
    "duration": 11,
    "start_time": "2023-12-13T13:26:58.863Z"
   },
   {
    "duration": 42,
    "start_time": "2023-12-13T13:26:58.876Z"
   },
   {
    "duration": 3,
    "start_time": "2023-12-13T13:26:58.921Z"
   },
   {
    "duration": 13,
    "start_time": "2023-12-13T13:26:58.925Z"
   },
   {
    "duration": 18,
    "start_time": "2023-12-13T13:26:58.940Z"
   },
   {
    "duration": 4,
    "start_time": "2023-12-13T13:26:58.960Z"
   },
   {
    "duration": 35,
    "start_time": "2023-12-13T13:26:58.965Z"
   },
   {
    "duration": 19,
    "start_time": "2023-12-13T13:26:59.002Z"
   },
   {
    "duration": 45,
    "start_time": "2023-12-13T13:26:59.024Z"
   },
   {
    "duration": 66,
    "start_time": "2023-12-13T13:26:59.071Z"
   },
   {
    "duration": 88,
    "start_time": "2023-12-13T13:26:59.139Z"
   },
   {
    "duration": 70,
    "start_time": "2023-12-13T13:26:59.229Z"
   },
   {
    "duration": 44,
    "start_time": "2023-12-13T13:26:59.301Z"
   },
   {
    "duration": 13,
    "start_time": "2023-12-13T13:26:59.358Z"
   },
   {
    "duration": 45,
    "start_time": "2023-12-13T13:26:59.372Z"
   },
   {
    "duration": 14,
    "start_time": "2023-12-13T13:26:59.419Z"
   },
   {
    "duration": 13,
    "start_time": "2023-12-13T13:26:59.459Z"
   },
   {
    "duration": 5,
    "start_time": "2023-12-13T13:26:59.474Z"
   },
   {
    "duration": 27,
    "start_time": "2023-12-13T13:26:59.481Z"
   },
   {
    "duration": 16,
    "start_time": "2023-12-13T13:26:59.510Z"
   },
   {
    "duration": 37,
    "start_time": "2023-12-13T13:26:59.528Z"
   },
   {
    "duration": 15,
    "start_time": "2023-12-13T13:26:59.566Z"
   },
   {
    "duration": 21,
    "start_time": "2023-12-13T13:26:59.582Z"
   },
   {
    "duration": 16,
    "start_time": "2023-12-13T13:26:59.605Z"
   },
   {
    "duration": 38,
    "start_time": "2023-12-13T13:26:59.622Z"
   },
   {
    "duration": 11,
    "start_time": "2023-12-13T13:27:00.808Z"
   },
   {
    "duration": 13,
    "start_time": "2023-12-13T13:27:02.298Z"
   },
   {
    "duration": 11,
    "start_time": "2023-12-13T13:27:03.121Z"
   },
   {
    "duration": 20,
    "start_time": "2023-12-13T13:27:33.551Z"
   },
   {
    "duration": 37,
    "start_time": "2023-12-13T13:27:39.910Z"
   },
   {
    "duration": 37,
    "start_time": "2023-12-13T13:28:12.798Z"
   },
   {
    "duration": 32,
    "start_time": "2023-12-13T13:28:51.089Z"
   },
   {
    "duration": 31,
    "start_time": "2023-12-13T13:28:57.659Z"
   },
   {
    "duration": 17,
    "start_time": "2023-12-13T13:29:12.222Z"
   },
   {
    "duration": 21,
    "start_time": "2023-12-13T13:29:18.486Z"
   },
   {
    "duration": 11,
    "start_time": "2023-12-13T13:29:56.065Z"
   },
   {
    "duration": 9,
    "start_time": "2023-12-13T13:30:05.275Z"
   },
   {
    "duration": 80,
    "start_time": "2023-12-13T13:47:01.455Z"
   },
   {
    "duration": 5,
    "start_time": "2023-12-13T13:47:08.635Z"
   },
   {
    "duration": 4,
    "start_time": "2023-12-13T13:47:17.513Z"
   },
   {
    "duration": 4,
    "start_time": "2023-12-13T13:48:56.304Z"
   },
   {
    "duration": 4,
    "start_time": "2023-12-13T13:49:22.286Z"
   },
   {
    "duration": 4,
    "start_time": "2023-12-13T13:50:52.535Z"
   },
   {
    "duration": 5,
    "start_time": "2023-12-13T13:54:48.655Z"
   },
   {
    "duration": 19,
    "start_time": "2023-12-13T13:56:05.771Z"
   },
   {
    "duration": 13,
    "start_time": "2023-12-13T13:56:56.923Z"
   },
   {
    "duration": 19,
    "start_time": "2023-12-13T13:58:01.946Z"
   },
   {
    "duration": 12,
    "start_time": "2023-12-13T13:58:04.790Z"
   },
   {
    "duration": 29,
    "start_time": "2023-12-13T14:01:15.995Z"
   },
   {
    "duration": 3,
    "start_time": "2023-12-13T14:02:13.740Z"
   },
   {
    "duration": 4,
    "start_time": "2023-12-13T14:02:34.080Z"
   },
   {
    "duration": 5,
    "start_time": "2023-12-13T14:02:56.753Z"
   },
   {
    "duration": 4,
    "start_time": "2023-12-13T14:03:06.352Z"
   },
   {
    "duration": 33,
    "start_time": "2023-12-13T14:03:13.862Z"
   },
   {
    "duration": 31,
    "start_time": "2023-12-13T14:04:15.953Z"
   },
   {
    "duration": 26,
    "start_time": "2023-12-13T14:04:43.626Z"
   },
   {
    "duration": 8,
    "start_time": "2023-12-13T14:05:10.149Z"
   },
   {
    "duration": 8,
    "start_time": "2023-12-13T14:05:41.224Z"
   },
   {
    "duration": 7,
    "start_time": "2023-12-13T14:08:04.377Z"
   },
   {
    "duration": 20,
    "start_time": "2023-12-13T14:08:13.252Z"
   },
   {
    "duration": 9,
    "start_time": "2023-12-13T14:08:28.852Z"
   },
   {
    "duration": 11,
    "start_time": "2023-12-13T14:08:37.929Z"
   },
   {
    "duration": 4,
    "start_time": "2023-12-13T14:09:08.368Z"
   },
   {
    "duration": 8,
    "start_time": "2023-12-13T14:09:38.176Z"
   },
   {
    "duration": 8,
    "start_time": "2023-12-13T14:09:40.960Z"
   },
   {
    "duration": 12,
    "start_time": "2023-12-13T14:10:07.913Z"
   },
   {
    "duration": 10,
    "start_time": "2023-12-13T14:10:20.289Z"
   },
   {
    "duration": 9,
    "start_time": "2023-12-13T14:10:29.882Z"
   },
   {
    "duration": 4,
    "start_time": "2023-12-13T14:10:33.357Z"
   },
   {
    "duration": 6,
    "start_time": "2023-12-13T14:11:45.928Z"
   },
   {
    "duration": 4,
    "start_time": "2023-12-13T14:12:05.324Z"
   },
   {
    "duration": 4,
    "start_time": "2023-12-13T14:12:27.684Z"
   },
   {
    "duration": 51,
    "start_time": "2023-12-18T08:30:00.912Z"
   },
   {
    "duration": 6,
    "start_time": "2023-12-18T08:30:02.086Z"
   },
   {
    "duration": 6,
    "start_time": "2023-12-18T08:30:06.927Z"
   },
   {
    "duration": 423,
    "start_time": "2023-12-18T08:30:11.250Z"
   },
   {
    "duration": 275,
    "start_time": "2023-12-18T08:30:11.676Z"
   },
   {
    "duration": 28,
    "start_time": "2023-12-18T08:30:11.953Z"
   },
   {
    "duration": 59,
    "start_time": "2023-12-18T08:30:11.984Z"
   },
   {
    "duration": 7,
    "start_time": "2023-12-18T08:30:12.046Z"
   },
   {
    "duration": 13,
    "start_time": "2023-12-18T08:30:12.055Z"
   },
   {
    "duration": 29,
    "start_time": "2023-12-18T08:30:12.070Z"
   },
   {
    "duration": 23,
    "start_time": "2023-12-18T08:30:12.101Z"
   },
   {
    "duration": 45,
    "start_time": "2023-12-18T08:30:12.126Z"
   },
   {
    "duration": 43,
    "start_time": "2023-12-18T08:30:12.172Z"
   },
   {
    "duration": 36,
    "start_time": "2023-12-18T08:30:12.217Z"
   },
   {
    "duration": 142,
    "start_time": "2023-12-18T08:30:12.256Z"
   },
   {
    "duration": 76,
    "start_time": "2023-12-18T08:30:12.400Z"
   },
   {
    "duration": 73,
    "start_time": "2023-12-18T08:30:12.480Z"
   },
   {
    "duration": 43,
    "start_time": "2023-12-18T08:30:12.555Z"
   },
   {
    "duration": 15,
    "start_time": "2023-12-18T08:30:12.600Z"
   },
   {
    "duration": 113,
    "start_time": "2023-12-18T08:30:12.618Z"
   },
   {
    "duration": 20,
    "start_time": "2023-12-18T08:30:12.733Z"
   },
   {
    "duration": 18,
    "start_time": "2023-12-18T08:30:12.755Z"
   },
   {
    "duration": 24,
    "start_time": "2023-12-18T08:30:12.775Z"
   },
   {
    "duration": 100,
    "start_time": "2023-12-18T08:30:12.802Z"
   },
   {
    "duration": 25,
    "start_time": "2023-12-18T08:30:12.908Z"
   },
   {
    "duration": 29,
    "start_time": "2023-12-18T08:30:12.936Z"
   },
   {
    "duration": 33,
    "start_time": "2023-12-18T08:30:12.966Z"
   },
   {
    "duration": 34,
    "start_time": "2023-12-18T08:30:13.002Z"
   },
   {
    "duration": 24,
    "start_time": "2023-12-18T08:30:13.038Z"
   },
   {
    "duration": 41,
    "start_time": "2023-12-18T08:30:13.064Z"
   },
   {
    "duration": 50,
    "start_time": "2023-12-18T08:30:13.107Z"
   },
   {
    "duration": 29,
    "start_time": "2023-12-18T08:30:13.158Z"
   },
   {
    "duration": 5,
    "start_time": "2023-12-18T08:30:13.189Z"
   },
   {
    "duration": 21,
    "start_time": "2023-12-18T08:30:13.196Z"
   },
   {
    "duration": 13,
    "start_time": "2023-12-18T08:30:13.219Z"
   },
   {
    "duration": 31,
    "start_time": "2023-12-18T08:30:13.234Z"
   },
   {
    "duration": 22,
    "start_time": "2023-12-18T08:30:13.267Z"
   },
   {
    "duration": 13,
    "start_time": "2023-12-18T08:30:13.293Z"
   },
   {
    "duration": 28,
    "start_time": "2023-12-18T08:30:13.308Z"
   },
   {
    "duration": 22,
    "start_time": "2023-12-18T08:30:13.343Z"
   },
   {
    "duration": 13,
    "start_time": "2023-12-18T08:30:13.367Z"
   },
   {
    "duration": 14,
    "start_time": "2023-12-18T08:30:33.497Z"
   },
   {
    "duration": 11,
    "start_time": "2023-12-18T08:30:34.647Z"
   }
  ],
  "colab": {
   "collapsed_sections": [
    "E0vqbgi9ay0H",
    "VUC88oWjTJw2"
   ],
   "provenance": []
  },
  "kernelspec": {
   "display_name": "Python 3 (ipykernel)",
   "language": "python",
   "name": "python3"
  },
  "language_info": {
   "codemirror_mode": {
    "name": "ipython",
    "version": 3
   },
   "file_extension": ".py",
   "mimetype": "text/x-python",
   "name": "python",
   "nbconvert_exporter": "python",
   "pygments_lexer": "ipython3",
   "version": "3.9.18"
  },
  "toc": {
   "base_numbering": 1,
   "nav_menu": {
    "height": "215px",
    "width": "403px"
   },
   "number_sections": true,
   "sideBar": true,
   "skip_h1_title": true,
   "title_cell": "Table of Contents",
   "title_sidebar": "Contents",
   "toc_cell": false,
   "toc_position": {
    "height": "calc(100% - 180px)",
    "left": "10px",
    "top": "150px",
    "width": "285.825px"
   },
   "toc_section_display": true,
   "toc_window_display": false
  }
 },
 "nbformat": 4,
 "nbformat_minor": 4
}
