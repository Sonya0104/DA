{
 "cells": [
  {
   "cell_type": "markdown",
   "id": "6681a40e-fc3c-4d4a-a952-726291d53faa",
   "metadata": {},
   "source": [
    "# StackOverflow"
   ]
  },
  {
   "cell_type": "markdown",
   "id": "ca714890-b654-4a9c-8e5a-6909504fd145",
   "metadata": {},
   "source": [
    "## Описание данных"
   ]
  },
  {
   "cell_type": "markdown",
   "id": "8efe30e0-4447-432e-8bd5-00ee9aaddb97",
   "metadata": {},
   "source": [
    "Мы будем работать с базой данных StackOverflow — сервиса вопросов и ответов о программировании. StackOverflow похож на социальную сеть — пользователи сервиса задают вопросы, отвечают на посты, оставляют комментарии и ставят оценки другим ответам.\n",
    "В базе хранятся данные о постах за 2008 год, но в таблицах есть и о более поздние оценки, которые эти посты получили. "
   ]
  },
  {
   "cell_type": "markdown",
   "id": "eee2d34d-d2b5-443b-ad0a-aefd859f5f49",
   "metadata": {},
   "source": [
    "Таблица stackoverflow.badges\n",
    "Хранит информацию о значках, которые присуждаются за разные достижения. Например, пользователь, правильно ответивший на большое количество вопросов про PostgreSQL, может получить значок postgresql. \n",
    "Поле\tОписание\n",
    "id\tИдентификатор значка, первичный ключ таблицы\n",
    "name\tНазвание значка\n",
    "user_id\tИдентификатор пользователя, которому присвоили значок, внешний ключ, отсылающий к таблице users\n",
    "creation_date\tДата присвоения значка\n",
    "Таблица stackoverflow.post_types\n",
    "Содержит информацию о типе постов. Их может быть два:\n",
    "Question — пост с вопросом;\n",
    "Answer — пост с ответом.\n",
    "Поле\tОписание\n",
    "id\tИдентификатор поста, первичный ключ таблицы\n",
    "type\tТип поста\n",
    "Таблица stackoverflow.posts\n",
    "Содержит информацию о постах.\n",
    "Поле\tОписание\n",
    "id\tИдентификатор поста, первичный ключ таблицы\n",
    "title\tЗаголовок поста\n",
    "creation_date\tДата создания поста\n",
    "favorites_count\tЧисло, которое показывает, сколько раз пост добавили в «Закладки»\n",
    "last_activity_date\tДата последнего действия в посте, например комментария\n",
    "last_edit_date\tДата последнего изменения поста\n",
    "user_id\tИдентификатор пользователя, который создал пост, внешний ключ к таблице users\n",
    "parent_id\tЕсли пост написали в ответ на другую публикацию, в это поле попадёт идентификатор поста с вопросом\n",
    "post_type_id\tИдентификатор типа поста, внешний ключ к таблице post_types\n",
    "score\tКоличество очков, которое набрал пост\n",
    "views_count\tКоличество просмотров\n",
    "Таблица stackoverflow.users\n",
    "Содержит информацию о пользователях.\n",
    "Поле\tОписание\n",
    "id\tИдентификатор пользователя, первичный ключ таблицы\n",
    "creation_date\tДата регистрации пользователя\n",
    "display_name\tИмя пользователя\n",
    "last_access_date\tДата последнего входа\n",
    "location\tМестоположение\n",
    "reputation\tОчки репутации, которые получают за хорошие вопросы и полезные ответы\n",
    "views\tЧисло просмотров профиля пользователя\n",
    "Таблица stackoverflow.vote_types\n",
    "Содержит информацию о типах голосов. Голос — это метка, которую пользователи ставят посту. Типов бывает несколько: \n",
    "UpMod — такую отметку получают посты с вопросами или ответами, которые пользователи посчитали уместными и полезными.\n",
    "DownMod — такую отметку получают посты, которые показались пользователям наименее полезными.\n",
    "Close — такую метку ставят опытные пользователи сервиса, если заданный вопрос нужно доработать или он вообще не подходит для платформы.\n",
    "Offensive — такую метку могут поставить, если пользователь ответил на вопрос в грубой и оскорбительной манере, например, указав на неопытность автора поста.\n",
    "Spam — такую метку ставят в случае, если пост пользователя выглядит откровенной рекламой.\n",
    "Поле\tОписание\n",
    "id\tИдентификатор типа голоса, первичный ключ\n",
    "name\tНазвание метки\n",
    "Таблица stackoverflow.votes\n",
    "Содержит информацию о голосах за посты. \n",
    "Поле\tОписание\n",
    "id\tИдентификатор голоса, первичный ключ\n",
    "post_id\tИдентификатор поста, внешний ключ к таблице posts\n",
    "user_id\tИдентификатор пользователя, который поставил посту голос, внешний ключ к таблице users\n",
    "bounty_amount\tСумма вознаграждения, которое назначают, чтобы привлечь внимание к посту\n",
    "vote_type_id\tИдентификатор типа голоса, внешний ключ к таблице vote_types\n",
    "creation_date\tДата назначения голоса"
   ]
  },
  {
   "cell_type": "markdown",
   "id": "3d432d30-6205-4b04-b59a-7230836514a7",
   "metadata": {},
   "source": [
    "### Часть 1"
   ]
  },
  {
   "cell_type": "markdown",
   "id": "10fd84f1-f39e-442b-a40c-b582d863d791",
   "metadata": {},
   "source": [
    "1.\n",
    "Найдите количество вопросов, которые набрали больше 300 очков или как минимум 100 раз были добавлены в «Закладки»."
   ]
  },
  {
   "cell_type": "code",
   "execution_count": null,
   "id": "c9514684-e2b9-482a-bbd7-621bef4e654c",
   "metadata": {},
   "outputs": [],
   "source": [
    "SELECT count(p.id)\n",
    "FROM stackoverflow.posts as p\n",
    "join stackoverflow.post_types as pt\n",
    "on p.post_type_id=pt.id\n",
    "where pt.type = 'Question' and score > 300 or favorites_count>=100"
   ]
  },
  {
   "cell_type": "markdown",
   "id": "8ba909d3-b266-4338-a822-97ca66f36413",
   "metadata": {},
   "source": [
    "2.\n",
    "Сколько в среднем в день задавали вопросов с 1 по 18 ноября 2008 включительно? Результат округлите до целого числа."
   ]
  },
  {
   "cell_type": "code",
   "execution_count": null,
   "id": "c82243e7-ed5a-4953-911e-b6a8883a057c",
   "metadata": {},
   "outputs": [],
   "source": [
    "with avgs as(SELECT count(p.id) as q_count\n",
    "FROM stackoverflow.posts as p\n",
    "join stackoverflow.post_types as pt\n",
    "on p.post_type_id=pt.id\n",
    "where pt.type = 'Question' and p.creation_date::date between '2008-11-01' and '2008-11-18'\n",
    "group by p.creation_date::date)\n",
    "select round (avg(q_count))\n",
    "from avgs"
   ]
  },
  {
   "cell_type": "markdown",
   "id": "86f83bf2-73ff-45de-ba8d-29ecabd2ddd1",
   "metadata": {},
   "source": [
    "3.\n",
    "Сколько пользователей получили значки сразу в день регистрации? Выведите количество уникальных пользователей."
   ]
  },
  {
   "cell_type": "code",
   "execution_count": null,
   "id": "c2e5ea65-9a9e-41d7-a929-e83430ae1758",
   "metadata": {},
   "outputs": [],
   "source": [
    "SELECT COUNT(DISTINCT u.id)\n",
    "from stackoverflow.users as u\n",
    "inner join stackoverflow.badges as b on b.user_id=u.id\n",
    "where u.creation_date::date = b.creation_date::date"
   ]
  },
  {
   "cell_type": "markdown",
   "id": "dfa361e6-27dc-4891-90bf-1d235d4e4936",
   "metadata": {},
   "source": [
    "4.\n",
    "Сколько уникальных постов пользователя с именем Joel Coehoorn получили хотя бы один голос?"
   ]
  },
  {
   "cell_type": "code",
   "execution_count": null,
   "id": "fa16cdff-e802-46eb-9c87-7fdf69179793",
   "metadata": {},
   "outputs": [],
   "source": [
    "select count(distinct p.id)\n",
    "from stackoverflow.posts as p\n",
    "join stackoverflow.votes as v on p.id= v.post_id\n",
    "where p.user_id = (select id\n",
    "FROM stackoverflow.users AS u\n",
    "where display_name='Joel Coehoorn')"
   ]
  },
  {
   "cell_type": "markdown",
   "id": "589b08f6-49c1-461c-a4b0-ea9303388ad0",
   "metadata": {},
   "source": [
    "5. Выгрузите все поля таблицы vote_types. Добавьте к таблице поле rank, в которое войдут номера записей в обратном порядке. Таблица должна быть отсортирована по полю id."
   ]
  },
  {
   "cell_type": "code",
   "execution_count": null,
   "id": "d2067cde-8bde-49bf-a07d-9544f40313e6",
   "metadata": {},
   "outputs": [],
   "source": [
    "select *, ROW_NUMBER() OVER (ORDER BY v.id DESC) as rank\n",
    "from stackoverflow.vote_types as v\n",
    "order by v.id"
   ]
  },
  {
   "cell_type": "markdown",
   "id": "b7ea2e17-6e0c-44e8-9c01-a30917ec4879",
   "metadata": {},
   "source": [
    "6.\n",
    "Отберите 10 пользователей, которые поставили больше всего голосов типа Close. Отобразите таблицу из двух полей: идентификатором пользователя и количеством голосов. Отсортируйте данные сначала по убыванию количества голосов, потом по убыванию значения идентификатора пользователя."
   ]
  },
  {
   "cell_type": "code",
   "execution_count": null,
   "id": "e6f99cd8-0472-476f-be68-c705a141b245",
   "metadata": {},
   "outputs": [],
   "source": [
    "select v.user_id, count(v.id) as vote_count\n",
    "from stackoverflow.votes as v \n",
    "where v.vote_type_id=(select id \n",
    "from stackoverflow.vote_types as vt\n",
    "where vt.name='Close')\n",
    "group by user_id\n",
    "order by vote_count desc, user_id desc\n",
    "limit 10"
   ]
  },
  {
   "cell_type": "markdown",
   "id": "fe9993c0-35bf-4c13-b871-e6ff86bdc377",
   "metadata": {},
   "source": [
    "7.\n",
    "Отберите 10 пользователей по количеству значков, полученных в период с 15 ноября по 15 декабря 2008 года включительно.\n",
    "Отобразите несколько полей:\n",
    "идентификатор пользователя;\n",
    "число значков;\n",
    "место в рейтинге — чем больше значков, тем выше рейтинг.\n",
    "Пользователям, которые набрали одинаковое количество значков, присвойте одно и то же место в рейтинге.\n",
    "Отсортируйте записи по количеству значков по убыванию, а затем по возрастанию значения идентификатора пользователя."
   ]
  },
  {
   "cell_type": "code",
   "execution_count": null,
   "id": "9ca46ada-ca53-4437-ba37-e3daa2540bfd",
   "metadata": {},
   "outputs": [],
   "source": [
    "SELECT user_id, COUNT(b.id) AS badge_c, DENSE_RANK() OVER (ORDER BY COUNT(b.id)) as rank\n",
    "FROM stackoverflow.badges AS b\n",
    "WHERE creation_date::date BETWEEN '2008-11-15' AND '2008-12-15'\n",
    "GROUP BY user_id\n",
    "ORDER BY badge_c DESC, user_id ASC\n",
    "LIMIT 10;"
   ]
  },
  {
   "cell_type": "markdown",
   "id": "91c01d2d-9d2e-4c64-9a33-494b82160857",
   "metadata": {},
   "source": [
    "8.\n",
    "Сколько в среднем очков получает пост каждого пользователя?\n",
    "Сформируйте таблицу из следующих полей:\n",
    "заголовок поста;\n",
    "идентификатор пользователя;\n",
    "число очков поста;\n",
    "среднее число очков пользователя за пост, округлённое до целого числа.\n",
    "Не учитывайте посты без заголовка, а также те, что набрали ноль очков."
   ]
  },
  {
   "cell_type": "code",
   "execution_count": null,
   "id": "8db1937d-ec08-4c75-ae53-43528399b1b0",
   "metadata": {},
   "outputs": [],
   "source": [
    "select title, user_id, score, round(avg(score) over (partition by user_id))\n",
    "from stackoverflow.posts\n",
    "where title is not null and score!=0"
   ]
  },
  {
   "cell_type": "markdown",
   "id": "7c95cf46-3d3e-44ae-8e06-462b11b9c746",
   "metadata": {},
   "source": [
    "9.\n",
    "Отобразите заголовки постов, которые были написаны пользователями, получившими более 1000 значков. Посты без заголовков не должны попасть в список."
   ]
  },
  {
   "cell_type": "code",
   "execution_count": null,
   "id": "6688234d-410b-4ab8-8a12-3d198338c3cb",
   "metadata": {},
   "outputs": [],
   "source": [
    "select title\n",
    "from stackoverflow.posts as p\n",
    "where p.user_id = (select u.id as user_id\n",
    "from stackoverflow.users as u \n",
    "join stackoverflow.badges as b on b.user_id= u.id \n",
    "group by u.id\n",
    "having count(b.id) >1000)\n",
    "and not p.title is null"
   ]
  },
  {
   "cell_type": "markdown",
   "id": "5a455216-35ef-4d11-b114-f4b72eda8911",
   "metadata": {},
   "source": [
    "10.\n",
    "Напишите запрос, который выгрузит данные о пользователях из Канады (англ. Canada). Разделите пользователей на три группы в зависимости от количества просмотров их профилей:\n",
    "пользователям с числом просмотров больше либо равным 350 присвойте группу 1;\n",
    "пользователям с числом просмотров меньше 350, но больше либо равно 100 — группу 2;\n",
    "пользователям с числом просмотров меньше 100 — группу 3.\n",
    "Отобразите в итоговой таблице идентификатор пользователя, количество просмотров профиля и группу. Пользователи с количеством просмотров меньше либо равным нулю не должны войти в итоговую таблицу."
   ]
  },
  {
   "cell_type": "code",
   "execution_count": null,
   "id": "9cfbb77d-b8e4-4216-bfc3-dd492ada57fa",
   "metadata": {},
   "outputs": [],
   "source": [
    "select u.id, \n",
    "    u.views, \n",
    "    CASE\n",
    "           WHEN u.views < 100 THEN 3\n",
    "           WHEN u.views >= 350 THEN 1\n",
    "           ELSE 2\n",
    "       END\n",
    "from stackoverflow.users as u\n",
    "WHERE u.location LIKE '%Canada%' and  u.views!=0"
   ]
  },
  {
   "cell_type": "markdown",
   "id": "94895bb2-dd8f-4925-9fd5-85b27d41184c",
   "metadata": {},
   "source": [
    "11.\n",
    "Дополните предыдущий запрос. Отобразите лидеров каждой группы — пользователей, которые набрали максимальное число просмотров в своей группе. Выведите поля с идентификатором пользователя, группой и количеством просмотров. Отсортируйте таблицу по убыванию просмотров, а затем по возрастанию значения идентификатора."
   ]
  },
  {
   "cell_type": "code",
   "execution_count": null,
   "id": "8cbf09ae-78cd-40d2-a84a-00496af64032",
   "metadata": {},
   "outputs": [],
   "source": [
    "with rating as (select u.id, \n",
    "    u.views, \n",
    "    CASE \n",
    "           WHEN u.views < 100 THEN 3\n",
    "           WHEN u.views >= 350 THEN 1\n",
    "           ELSE 2\n",
    "       END as v_group\n",
    "from stackoverflow.users as u\n",
    "WHERE u.location LIKE '%Canada%' and  u.views!=0), \n",
    "rating_best as (\n",
    "select *, max(views) over (partition by v_group) as best\n",
    "from rating)\n",
    "select id,v_group,views\n",
    "from rating_best\n",
    "where views = best\n",
    "order by views desc, id asc"
   ]
  },
  {
   "cell_type": "code",
   "execution_count": null,
   "id": "d4b7cf01-30a7-49ce-8dc5-ac464e85119a",
   "metadata": {},
   "outputs": [],
   "source": [
    "12.\n",
    "Посчитайте ежедневный прирост новых пользователей в ноябре 2008 года. Сформируйте таблицу с полями:\n",
    "номер дня;\n",
    "число пользователей, зарегистрированных в этот день;\n",
    "сумму пользователей с накоплением."
   ]
  },
  {
   "cell_type": "code",
   "execution_count": null,
   "id": "afd3137a-b552-4eb3-8b6d-45ce209fe217",
   "metadata": {},
   "outputs": [],
   "source": [
    "select EXTRACT(day from creation_date::date) as reg_date, count(users.id)::int, sum (count(users.id)) over(order by creation_date::date)\n",
    "from stackoverflow.users\n",
    "where creation_date::date between '2008-11-01' and '2008-11-30'\n",
    "group by creation_date::date\n",
    "order by reg_date asc"
   ]
  },
  {
   "cell_type": "code",
   "execution_count": null,
   "id": "a10c4cdb-b1f9-408c-9b7d-a6117b40788b",
   "metadata": {},
   "outputs": [],
   "source": [
    "13.\n",
    "Для каждого пользователя, который написал хотя бы один пост, найдите интервал между регистрацией и временем создания первого поста. Отобразите:\n",
    "идентификатор пользователя;\n",
    "разницу во времени между регистрацией и первым постом."
   ]
  },
  {
   "cell_type": "code",
   "execution_count": null,
   "id": "2acf0663-0dfc-4262-a010-e166da1b5b81",
   "metadata": {},
   "outputs": [],
   "source": [
    "select distinct u.id as user_id, MIN(p.creation_date) OVER (PARTITION BY u.id)- u.creation_date\n",
    "from stackoverflow.users as u\n",
    "inner join stackoverflow.posts as p on p.user_id=u.id\n",
    "order by user_id asc"
   ]
  },
  {
   "cell_type": "markdown",
   "id": "7f0af804-5fb2-4c65-bd3f-6c711bee4aa1",
   "metadata": {},
   "source": [
    "### Часть 2"
   ]
  },
  {
   "cell_type": "markdown",
   "id": "e6bbbc4d-166d-4e8e-8def-5d1002b750e2",
   "metadata": {},
   "source": [
    "1.\n",
    "Выведите общую сумму просмотров у постов, опубликованных в каждый месяц 2008 года. Если данных за какой-либо месяц в базе нет, такой месяц можно пропустить. Результат отсортируйте по убыванию общего количества просмотров."
   ]
  },
  {
   "cell_type": "code",
   "execution_count": null,
   "id": "55eb2cec-d689-4279-b554-e684bea5c90c",
   "metadata": {},
   "outputs": [],
   "source": [
    "select DATE_TRUNC('month',creation_date::date)::date as month, sum(views_count) as m_views\n",
    "from stackoverflow.posts as p\n",
    "where extract (year from creation_date::date)=2008\n",
    "group by month\n",
    "order by m_views desc"
   ]
  },
  {
   "cell_type": "markdown",
   "id": "cc1ef0af-4c7e-4de0-a05e-bb9c0a6143ee",
   "metadata": {},
   "source": [
    "2.\n",
    "Выведите имена самых активных пользователей, которые в первый месяц после регистрации (включая день регистрации) дали больше 100 ответов. Вопросы, которые задавали пользователи, не учитывайте. Для каждого имени пользователя выведите количество уникальных значений user_id. Отсортируйте результат по полю с именами в лексикографическом порядке."
   ]
  },
  {
   "cell_type": "code",
   "execution_count": null,
   "id": "94ec2365-5a95-4b06-81a3-53915c5fa651",
   "metadata": {},
   "outputs": [],
   "source": [
    "SELECT u.display_name,\n",
    "       COUNT(DISTINCT p.user_id)\n",
    "FROM stackoverflow.posts AS p\n",
    "JOIN stackoverflow.users AS u ON p.user_id = u.id\n",
    "JOIN stackoverflow.post_types AS pt ON pt.id = p.post_type_id\n",
    "WHERE p.creation_date::date BETWEEN u.creation_date::date AND (u.creation_date::date + INTERVAL '1 month')\n",
    "   AND pt.id =2\n",
    "GROUP BY u.display_name\n",
    "HAVING COUNT(p.id) > 100\n",
    "ORDER BY u.display_name;"
   ]
  },
  {
   "cell_type": "code",
   "execution_count": null,
   "id": "924d793f-34e7-40cd-9476-62ff730a17c6",
   "metadata": {},
   "outputs": [],
   "source": [
    "3.\n",
    "Выведите количество постов за 2008 год по месяцам. Отберите посты от пользователей, которые зарегистрировались в сентябре 2008 года и сделали хотя бы один пост в декабре того же года. Отсортируйте таблицу по значению месяца по убыванию."
   ]
  },
  {
   "cell_type": "code",
   "execution_count": null,
   "id": "cb2efdf3-11a5-4a7b-afe8-7c908d841620",
   "metadata": {},
   "outputs": [],
   "source": [
    "select date_trunc('month',creation_date::date)::date, count(p.id)\n",
    "from stackoverflow.posts as p\n",
    "where p.user_id in (select u.id\n",
    "from stackoverflow.posts as p \n",
    "join stackoverflow.users as u on u.id= p.user_id\n",
    "where u.creation_date::date between '2008-09-01' and '2008-09-30'\n",
    "and p.creation_date::date between '2008-12-01' and '2008-12-31')\n",
    "and p.creation_date::date between '2008-01-01' and '2008-12-31'\n",
    "group by date_trunc('month',creation_date::date)::date\n",
    "order by date_trunc('month',creation_date::date)::date desc\n"
   ]
  },
  {
   "cell_type": "markdown",
   "id": "08f1ef05-bb5c-4f02-b77f-ac4f2d4dfd09",
   "metadata": {},
   "source": [
    "4.\n",
    "Используя данные о постах, выведите несколько полей:\n",
    "идентификатор пользователя, который написал пост;\n",
    "дата создания поста;\n",
    "количество просмотров у текущего поста;\n",
    "сумма просмотров постов автора с накоплением.\n",
    "Данные в таблице должны быть отсортированы по возрастанию идентификаторов пользователей, а данные об одном и том же пользователе — по возрастанию даты создания поста."
   ]
  },
  {
   "cell_type": "code",
   "execution_count": null,
   "id": "31c36bd6-7a29-4ab4-933a-1d616c7ef0d7",
   "metadata": {},
   "outputs": [],
   "source": [
    "select user_id, creation_date, views_count, sum(views_count) over (partition by user_id order by creation_date)\n",
    "from stackoverflow.posts\n",
    "order by user_id asc, creation_date"
   ]
  },
  {
   "cell_type": "markdown",
   "id": "295928b3-c243-416e-a8f2-0796e96fe26d",
   "metadata": {},
   "source": [
    "5.\n",
    "Сколько в среднем дней в период с 1 по 7 декабря 2008 года включительно пользователи взаимодействовали с платформой? Для каждого пользователя отберите дни, в которые он или она опубликовали хотя бы один пост. Нужно получить одно целое число — не забудьте округлить результат."
   ]
  },
  {
   "cell_type": "code",
   "execution_count": null,
   "id": "97938f07-7680-42be-b772-3290e467b020",
   "metadata": {},
   "outputs": [],
   "source": [
    "with activity as (select u.id as user_id, count (distinct p.creation_date::date)\n",
    "from stackoverflow.users as u \n",
    "join stackoverflow.posts as p on u.id= p.user_id\n",
    "where p.creation_date::date between '2008-12-01' and '2008-12-07'\n",
    "group by u.id\n",
    "order by u.id)\n",
    "select round(avg(count)) from activity"
   ]
  },
  {
   "cell_type": "markdown",
   "id": "4326a850-4a5d-476b-a8ff-e647f7c86f6f",
   "metadata": {},
   "source": [
    "6.\n",
    "На сколько процентов менялось количество постов ежемесячно с 1 сентября по 31 декабря 2008 года? Отобразите таблицу со следующими полями:\n",
    "Номер месяца.\n",
    "Количество постов за месяц.\n",
    "Процент, который показывает, насколько изменилось количество постов в текущем месяце по сравнению с предыдущим.\n",
    "Если постов стало меньше, значение процента должно быть отрицательным, если больше — положительным. Округлите значение процента до двух знаков после запятой.\n",
    "Напомним, что при делении одного целого числа на другое в PostgreSQL в результате получится целое число, округлённое до ближайшего целого вниз. Чтобы этого избежать, переведите делимое в тип numeric."
   ]
  },
  {
   "cell_type": "code",
   "execution_count": null,
   "id": "dc8e7b5e-dc26-4449-afdf-57c64ada537a",
   "metadata": {},
   "outputs": [],
   "source": [
    "select \n",
    "    extract (month from p.creation_date::date) as month, \n",
    "    count(p.id) as post_count, \n",
    "    round((count(p.id)::numeric / LAG(count(p.id)) OVER(ORDER BY extract (month from p.creation_date::date))-1)*100,2) AS previous_m\n",
    "from stackoverflow.posts as p \n",
    "where p.creation_date::date between '2008-09-01' and '2008-12-31'\n",
    "group by extract (month from p.creation_date::date)"
   ]
  },
  {
   "cell_type": "code",
   "execution_count": null,
   "id": "e93e8c1b-1582-43f0-b9d8-9fb9c4ed628b",
   "metadata": {},
   "outputs": [],
   "source": [
    "7.\n",
    "Найдите пользователя, который опубликовал больше всего постов за всё время с момента регистрации. Выведите данные его активности за октябрь 2008 года в таком виде:\n",
    "номер недели;\n",
    "дата и время последнего поста, опубликованного на этой неделе."
   ]
  },
  {
   "cell_type": "code",
   "execution_count": null,
   "id": "77d704e4-2390-4e57-87a9-204e268c4cda",
   "metadata": {},
   "outputs": [],
   "source": [
    "\n",
    "select distinct extract(week from creation_date::date), max(creation_date) over (order by extract(week from creation_date::date))\n",
    "from stackoverflow.posts as p\n",
    "where p.user_id = (select pp.user_id\n",
    "    from stackoverflow.posts as pp\n",
    "    group by pp.user_id\n",
    "    order by count(pp.id) desc\n",
    "    limit 1)\n",
    "and p.creation_date::date between '2008-10-01' and '2008-10-31'"
   ]
  }
 ],
 "metadata": {
  "kernelspec": {
   "display_name": "Python 3 (ipykernel)",
   "language": "python",
   "name": "python3"
  },
  "language_info": {
   "codemirror_mode": {
    "name": "ipython",
    "version": 3
   },
   "file_extension": ".py",
   "mimetype": "text/x-python",
   "name": "python",
   "nbconvert_exporter": "python",
   "pygments_lexer": "ipython3",
   "version": "3.9.18"
  }
 },
 "nbformat": 4,
 "nbformat_minor": 5
}
