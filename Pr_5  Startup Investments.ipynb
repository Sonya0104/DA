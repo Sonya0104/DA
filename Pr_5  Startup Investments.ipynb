{
 "cells": [
  {
   "attachments": {},
   "cell_type": "markdown",
   "id": "afc60387-9a71-4acf-ac70-9dad2f8788eb",
   "metadata": {},
   "source": [
    "# Startup Investments"
   ]
  },
  {
   "cell_type": "markdown",
   "id": "0a3f551d-cff8-4f26-ab7e-c56227c15627",
   "metadata": {},
   "source": [
    "Нам нужно проанализировать данные о фондах и инвестициях и написать запросы к базе SQL. "
   ]
  },
  {
   "cell_type": "markdown",
   "id": "6a772ada-f6f7-4d28-9e32-b608bc3f275b",
   "metadata": {},
   "source": [
    "## Обзор данных"
   ]
  },
  {
   "cell_type": "markdown",
   "id": "f5ae7a87-b09e-4a60-bd79-2504ba1d9648",
   "metadata": {},
   "source": [
    "acquisition\n",
    "\n",
    "Содержит информацию о покупках одних компаний другими.\n",
    "Таблица включает такие поля:\n",
    "\t• первичный ключ id— идентификатор или уникальный номер покупки;\n",
    "\t• внешний ключ acquiring_company_id— ссылается на таблицу company— идентификатор компании-покупателя, то есть той, что покупает другую компанию;\n",
    "\t• внешний ключ acquired_company_id— ссылается на таблицу company— идентификатор компании, которую покупают;\n",
    "\t• term_code— способ оплаты сделки: \n",
    "\t\t○ cash— наличными;\n",
    "\t\t○ stock— акциями компании;\n",
    "\t\t○ cash_and_stock— смешанный тип оплаты: наличные и акции.\n",
    "\t• price_amount— сумма покупки в долларах;\n",
    "\t• acquired_at— дата совершения сделки;\n",
    "\t• created_at— дата и время создания записи в таблице;\n",
    "\t• updated_at— дата и время обновления записи в таблице.\n",
    "\n",
    "company\n",
    "\n",
    "Содержит информацию о компаниях-стартапах.\n",
    "\t• первичный ключ id— идентификатор, или уникальный номер компании;\n",
    "\t• name— название компании;\n",
    "\t• category_code— категория деятельности компании, например: \n",
    "\t\t○ news— специализируется на работе с новостями;\n",
    "\t\t○ social— специализируется на социальной работе.\n",
    "\t• status— статус компании: \n",
    "\t\t○ acquired— приобретена;\n",
    "\t\t○ operating— действует;\n",
    "\t\t○ ipo— вышла на IPO;\n",
    "\t\t○ closed— перестала существовать.\n",
    "\t• founded_at— дата основания компании;\n",
    "\t• closed_at— дата закрытия компании, которую указывают в том случае, если компании больше не существует;\n",
    "\t• domain— домен сайта компании;\n",
    "\t• network_username— профиль фонда в корпоративной сети биржи;\n",
    "\t• country_code— код страны, например, USA для США, GBR для Великобритании;\n",
    "\t• investment_rounds— число раундов, в которых компания участвовала как инвестор;\n",
    "\t• funding_rounds— число раундов, в которых компания привлекала инвестиции;\n",
    "\t• funding_total— сумма привлечённых инвестиций в долларах;\n",
    "\t• milestones— количество важных этапов в истории компании;\n",
    "\t• created_at— дата и время создания записи в таблице;\n",
    "\t• updated_at— дата и время обновления записи в таблице.\n",
    "\t\n",
    "education\n",
    "\n",
    "Хранит информацию об уровне образования сотрудников компаний.\n",
    "\t• первичный ключ id— уникальный номер записи с информацией об образовании;\n",
    "\t• внешний ключ person_id— ссылается на таблицу people— идентификатор человека, информация о котором представлена в записи;\n",
    "\t• degree_type— учебная степень, например: \n",
    "\t\t○ BA— Bachelor of Arts — бакалавр гуманитарных наук;\n",
    "\t\t○ MS— Master of Science — магистр естественных наук.\n",
    "\t• instituition— учебное заведение, название университета;\n",
    "\t• graduated_at— дата завершения обучения, выпуска;\n",
    "\t• created_at— дата и время создания записи в таблице;\n",
    "\t• updated_at— дата и время обновления записи в таблице.\n",
    "\n",
    "fund\n",
    "\n",
    "Хранит информацию о венчурных фондах. \n",
    "\t• первичный ключ id— уникальный номер венчурного фонда;\n",
    "\t• name— название венчурного фонда;\n",
    "\t• founded_at— дата основания фонда;\n",
    "\t• domain— домен сайта фонда;\n",
    "\t• network_username— профиль фонда в корпоративной сети биржи;\n",
    "\t• country_code— код страны фонда;\n",
    "\t• investment_rounds— число инвестиционных раундов, в которых фонд принимал участие;\n",
    "\t• invested_companies— число компаний, в которые инвестировал фонд;\n",
    "\t• milestones— количество важных этапов в истории фонда;\n",
    "\t• created_at— дата и время создания записи в таблице;\n",
    "\t• updated_at— дата и время обновления записи в таблице.\n",
    "\n",
    "funding_round\n",
    "\n",
    "Содержит информацию о раундах инвестиций. \n",
    "\t• первичный ключ id— уникальный номер инвестиционного раунда;\n",
    "\t• внешний ключ company_id— ссылается на таблицу company— уникальный номер компании, участвовавшей в инвестиционном раунде;\n",
    "\t• funded_at— дата проведения раунда;\n",
    "\t• funding_round_type— тип инвестиционного раунда, например: \n",
    "\t\t○ venture— венчурный раунд;\n",
    "\t\t○ angel— ангельский раунд;\n",
    "\t\t○ series_a— раунд А.\n",
    "\t• raised_amount— сумма инвестиций, которую привлекла компания в этом раунде в долларах;\n",
    "\t• pre_money_valuation— предварительная, проведённая до инвестиций оценка стоимости компании в долларах;\n",
    "\t• participants— количество участников инвестиционного раунда;\n",
    "\t• is_first_round— является ли этот раунд первым для компании;\n",
    "\t• is_last_round— является ли этот раунд последним для компании;\n",
    "\t• created_at— дата и время создания записи в таблице;\n",
    "\t• updated_at— дата и время обновления записи в таблице.\n",
    "\n",
    "investment\n",
    "\n",
    "Содержит информацию об инвестициях венчурных фондов в компании-стартапы.\n",
    "\t• первичный ключ id— уникальный номер инвестиции;\n",
    "\t• внешний ключ funding_round_id— ссылается на таблицу funding_round— уникальный номер раунда инвестиции;\n",
    "\t• внешний ключ company_id— ссылается на таблицу company— уникальный номер компании-стартапа, в которую инвестируют;\n",
    "\t• внешний ключ fund_id— ссылается на таблицу fund— уникальный номер фонда, инвестирующего в компанию-стартап;\n",
    "\t• created_at— дата и время создания записи в таблице;\n",
    "\t• updated_at— дата и время обновления записи в таблице.\n",
    "\n",
    "people\n",
    "\n",
    "Содержит информацию о сотрудниках компаний-стартапов.\n",
    "\t• первичный ключ id— уникальный номер сотрудника;\n",
    "\t• first_name— имя сотрудника;\n",
    "\t• last_name— фамилия сотрудника;\n",
    "\t• внешний ключ company_id— ссылается на таблицу company— уникальный номер компании-стартапа;\n",
    "\t• network_username— профиль фонда в корпоративной сети биржи;\n",
    "\t• created_at— дата и время создания записи в таблице;\n",
    "\t• updated_at— дата и время обновления записи в таблице."
   ]
  },
  {
   "cell_type": "markdown",
   "id": "8c9797b6-c9d8-4544-b49d-8038a69c9060",
   "metadata": {},
   "source": [
    "## Задания"
   ]
  },
  {
   "cell_type": "markdown",
   "id": "325754d6-0a03-470f-84b2-df538cd37914",
   "metadata": {},
   "source": [
    "1.\n",
    "Отобразите все записи из таблицы company по компаниям, которые закрылись."
   ]
  },
  {
   "cell_type": "code",
   "execution_count": null,
   "id": "aef72b07-dff3-401d-ac54-c2fec9b10e11",
   "metadata": {},
   "outputs": [],
   "source": [
    "select *\n",
    "from company\n",
    "where status='closed'"
   ]
  },
  {
   "cell_type": "markdown",
   "id": "4a27ca05-573a-42e2-81dd-cbd9b401ea8d",
   "metadata": {},
   "source": [
    "2.\n",
    "Отобразите количество привлечённых средств для новостных компаний США. Используйте данные из таблицы company. Отсортируйте таблицу по убыванию значений в поле funding_total."
   ]
  },
  {
   "cell_type": "code",
   "execution_count": null,
   "id": "8959768e-f849-4ca3-b203-844627c3b9c4",
   "metadata": {},
   "outputs": [],
   "source": [
    "SELECT funding_total\n",
    "FROM company\n",
    "WHERE category_code ='news' \n",
    "   AND country_code ='USA'\n",
    "ORDER BY funding_total DESC"
   ]
  },
  {
   "cell_type": "markdown",
   "id": "7c5e3c73-dbed-491e-988f-45b650a6d021",
   "metadata": {},
   "source": [
    "3.\n",
    "Найдите общую сумму сделок по покупке одних компаний другими в долларах. Отберите сделки, которые осуществлялись только за наличные с 2011 по 2013 год включительно."
   ]
  },
  {
   "cell_type": "code",
   "execution_count": null,
   "id": "33657424-ad39-4b68-97cd-2322f754be51",
   "metadata": {},
   "outputs": [],
   "source": [
    "with deals as\n",
    "(select id,price_amount,acquired_at\n",
    "from acquisition\n",
    "where term_code='cash' \n",
    "and acquired_at between '2011-01-01' and '2013-12-31')\n",
    "select sum(price_amount)\n",
    "from deals"
   ]
  },
  {
   "cell_type": "markdown",
   "id": "aae69872-0552-4449-8e03-563f2a32e1f6",
   "metadata": {},
   "source": [
    "4.\n",
    "Отобразите имя, фамилию и названия аккаунтов людей в поле network_username, у которых названия аккаунтов начинаются на 'Silver'."
   ]
  },
  {
   "cell_type": "code",
   "execution_count": null,
   "id": "bea24a06-98ee-4f20-9760-8bba4268c90b",
   "metadata": {},
   "outputs": [],
   "source": [
    "select first_name,last_name, network_username\n",
    "from people \n",
    "where network_username like 'Silver%'"
   ]
  },
  {
   "cell_type": "markdown",
   "id": "22165894-1d6b-4d46-9494-b8cd201d8c7d",
   "metadata": {},
   "source": [
    "5.\n",
    "Выведите на экран всю информацию о людях, у которых названия аккаунтов в поле network_username содержат подстроку 'money', а фамилия начинается на 'K'."
   ]
  },
  {
   "cell_type": "code",
   "execution_count": null,
   "id": "26a3d55b-a23a-4503-8692-729f926af2a9",
   "metadata": {},
   "outputs": [],
   "source": [
    "select *\n",
    "from people \n",
    "where network_username like '%money%' and last_name like 'K%'"
   ]
  },
  {
   "cell_type": "markdown",
   "id": "0e4d7a8e-ae4b-44b6-96be-04a9bacd805a",
   "metadata": {},
   "source": [
    "6.\n",
    "Для каждой страны отобразите общую сумму привлечённых инвестиций, которые получили компании, зарегистрированные в этой стране. Страну, в которой зарегистрирована компания, можно определить по коду страны. Отсортируйте данные по убыванию суммы."
   ]
  },
  {
   "cell_type": "code",
   "execution_count": null,
   "id": "e1af74c2-5321-4ce6-a473-d6508d5834f8",
   "metadata": {},
   "outputs": [],
   "source": [
    "select country_code, sum(funding_total)\n",
    "from company\n",
    "group by country_code\n",
    "order by sum(funding_total) desc"
   ]
  },
  {
   "cell_type": "markdown",
   "id": "5bff4e12-49c5-4f63-8245-7f295e5c1f36",
   "metadata": {},
   "source": [
    "7.\n",
    "Составьте таблицу, в которую войдёт дата проведения раунда, а также минимальное и максимальное значения суммы инвестиций, привлечённых в эту дату.\n",
    "Оставьте в итоговой таблице только те записи, в которых минимальное значение суммы инвестиций не равно нулю и не равно максимальному значению."
   ]
  },
  {
   "cell_type": "code",
   "execution_count": null,
   "id": "148939db-03df-4068-b8e9-92ba7a3cb08b",
   "metadata": {},
   "outputs": [],
   "source": [
    "select funded_at, \n",
    "    min(raised_amount), \n",
    "    max(raised_amount)\n",
    "from funding_round\n",
    "group by funded_at\n",
    "having min(raised_amount)<>0 and min(raised_amount)<>max(raised_amount)"
   ]
  },
  {
   "cell_type": "markdown",
   "id": "38592889-bc2b-4513-aad8-fee78b1f4af9",
   "metadata": {},
   "source": [
    "8.\n",
    "Создайте поле с категориями:\n",
    "Для фондов, которые инвестируют в 100 и более компаний, назначьте категорию high_activity.\n",
    "Для фондов, которые инвестируют в 20 и более компаний до 100, назначьте категорию middle_activity.\n",
    "Если количество инвестируемых компаний фонда не достигает 20, назначьте категорию low_activity.\n",
    "Отобразите все поля таблицы fund и новое поле с категориями."
   ]
  },
  {
   "cell_type": "code",
   "execution_count": null,
   "id": "a7c0f3ec-cbea-4067-ae26-2eab65262274",
   "metadata": {},
   "outputs": [],
   "source": [
    "select *,\n",
    "case\n",
    "    when invested_companies>+100 then 'high_activity'\n",
    "    when invested_companies between 20 and 99 then 'middle_activity'\n",
    "    when invested_companies<20 then 'low_activity'\n",
    "end\n",
    "from fund"
   ]
  },
  {
   "cell_type": "markdown",
   "id": "851ba766-c2a3-40d7-ba15-aafc6416ddb6",
   "metadata": {},
   "source": [
    "9.\n",
    "Для каждой из категорий, назначенных в предыдущем задании, посчитайте округлённое до ближайшего целого числа среднее количество инвестиционных раундов, в которых фонд принимал участие. Выведите на экран категории и среднее число инвестиционных раундов. Отсортируйте таблицу по возрастанию среднего."
   ]
  },
  {
   "cell_type": "code",
   "execution_count": null,
   "id": "f9c09c91-8e48-4335-abb5-e10bc696e47d",
   "metadata": {},
   "outputs": [],
   "source": [
    "select CASE\n",
    "           WHEN invested_companies>=100 THEN 'high_activity'\n",
    "           WHEN invested_companies>=20 THEN 'middle_activity'\n",
    "           ELSE 'low_activity'\n",
    "       END AS activity, \n",
    "round(avg(investment_rounds))\n",
    "from fund\n",
    "group by activity\n",
    "order by avg(investment_rounds)"
   ]
  },
  {
   "cell_type": "markdown",
   "id": "396935ed-d4f7-4158-aba8-948b9a242592",
   "metadata": {},
   "source": [
    "10.\n",
    "Проанализируйте, в каких странах находятся фонды, которые чаще всего инвестируют в стартапы. \n",
    "Для каждой страны посчитайте минимальное, максимальное и среднее число компаний, в которые инвестировали фонды этой страны, основанные с 2010 по 2012 год включительно. Исключите страны с фондами, у которых минимальное число компаний, получивших инвестиции, равно нулю. \n",
    "Выгрузите десять самых активных стран-инвесторов: отсортируйте таблицу по среднему количеству компаний от большего к меньшему. Затем добавьте сортировку по коду страны в лексикографическом порядке."
   ]
  },
  {
   "cell_type": "code",
   "execution_count": null,
   "id": "ee0843fc-caf9-4de1-afd2-ee329ed721ca",
   "metadata": {},
   "outputs": [],
   "source": [
    "select country_code, \n",
    "    min(invested_companies), \n",
    "    max(invested_companies), \n",
    "    avg(invested_companies)  \n",
    "from fund\n",
    "where founded_at between '2010-01-01' and '2012-12-31'\n",
    "group by country_code\n",
    "having min(invested_companies)<>0\n",
    "order by avg(invested_companies) desc, country_code\n",
    "limit 10"
   ]
  },
  {
   "cell_type": "markdown",
   "id": "f8f1d86e-7c97-486f-963c-3f950a088c1a",
   "metadata": {},
   "source": [
    "11.\n",
    "Отобразите имя и фамилию всех сотрудников стартапов. Добавьте поле с названием учебного заведения, которое окончил сотрудник, если эта информация известна."
   ]
  },
  {
   "cell_type": "code",
   "execution_count": null,
   "id": "4d856eac-e362-4339-9e23-cc9352d0b04b",
   "metadata": {},
   "outputs": [],
   "source": [
    "select first_name, last_name, instituition\n",
    "from people as p\n",
    "LEFT JOIN education as e on p.id = e.person_id"
   ]
  },
  {
   "cell_type": "markdown",
   "id": "dcf78df6-1155-4af8-b9e3-53af56f36c03",
   "metadata": {},
   "source": [
    "12.\n",
    "Для каждой компании найдите количество учебных заведений, которые окончили её сотрудники. Выведите название компании и число уникальных названий учебных заведений. Составьте топ-5 компаний по количеству университетов."
   ]
  },
  {
   "cell_type": "code",
   "execution_count": null,
   "id": "498ad455-4887-4ba1-af24-e508223ec007",
   "metadata": {},
   "outputs": [],
   "source": [
    "select c.name, count(distinct e.instituition) as edu\n",
    "from company as c \n",
    "join people as p on c.id = p.company_id\n",
    "join education as e on p.id=e.person_id\n",
    "group by c.name\n",
    "order by edu desc\n",
    "limit 5"
   ]
  },
  {
   "cell_type": "markdown",
   "id": "69952521-d4aa-4fc2-960f-ff87d477af05",
   "metadata": {},
   "source": [
    "13.\n",
    "Составьте список с уникальными названиями закрытых компаний, для которых первый раунд финансирования оказался последним."
   ]
  },
  {
   "cell_type": "code",
   "execution_count": null,
   "id": "2e4e87c3-59fa-4279-860c-b5b5ef08a67b",
   "metadata": {},
   "outputs": [],
   "source": [
    "select distinct name\n",
    "from company as c\n",
    "join funding_round as fr on c.id=fr.company_id\n",
    "where status='closed' and fr.is_last_round =1 and fr.is_first_round = 1"
   ]
  },
  {
   "cell_type": "markdown",
   "id": "51fd6d2b-5ed4-4254-a695-243ea30580dc",
   "metadata": {},
   "source": [
    "14.\n",
    "Составьте список уникальных номеров сотрудников, которые работают в компаниях, отобранных в предыдущем задании."
   ]
  },
  {
   "cell_type": "code",
   "execution_count": null,
   "id": "eec148b0-746e-48b0-96ce-4a8c4246c5bf",
   "metadata": {},
   "outputs": [],
   "source": [
    "select distinct id\n",
    "from people \n",
    "where company_id in (\n",
    "    select distinct c.id\n",
    "from company as c\n",
    "join funding_round as fr on c.id=fr.company_id\n",
    "where status='closed' and fr.is_last_round =1 and fr.is_first_round = 1\n",
    ")"
   ]
  },
  {
   "cell_type": "markdown",
   "id": "c46d9aae-195f-4659-96fa-3e88025c7eee",
   "metadata": {},
   "source": [
    "15.\n",
    "Составьте таблицу, куда войдут уникальные пары с номерами сотрудников из предыдущей задачи и учебным заведением, которое окончил сотрудник."
   ]
  },
  {
   "cell_type": "code",
   "execution_count": null,
   "id": "f2691e36-5618-43be-99df-a6c2e785d4ee",
   "metadata": {},
   "outputs": [],
   "source": [
    "select distinct p.id, e.instituition\n",
    "from people as p\n",
    "join education as e on p.id=e.person_id\n",
    "where company_id in (\n",
    "    select distinct c.id\n",
    "    from company as c\n",
    "    join funding_round as fr on c.id=fr.company_id\n",
    "    where status='closed' and fr.is_last_round =1 and fr.is_first_round = 1\n",
    ")"
   ]
  },
  {
   "cell_type": "markdown",
   "id": "103c1c7d-f9ce-4a32-b641-fd53a8757a77",
   "metadata": {},
   "source": [
    "16.\n",
    "Посчитайте количество учебных заведений для каждого сотрудника из предыдущего задания. При подсчёте учитывайте, что некоторые сотрудники могли окончить одно и то же заведение дважды."
   ]
  },
  {
   "cell_type": "code",
   "execution_count": null,
   "id": "b505e19d-8924-4624-b070-37e8e212d536",
   "metadata": {},
   "outputs": [],
   "source": [
    "select distinct p.id, count(e.instituition)\n",
    "from people as p\n",
    "join education as e on p.id=e.person_id\n",
    "where company_id in (\n",
    "    select distinct c.id\n",
    "    from company as c\n",
    "    join funding_round as fr on c.id=fr.company_id\n",
    "    where status='closed' and fr.is_last_round =1 and fr.is_first_round = 1\n",
    ")\n",
    "group by p.id"
   ]
  },
  {
   "cell_type": "markdown",
   "id": "562c5ece-1d9a-44f1-bd47-0e5786e954e6",
   "metadata": {},
   "source": [
    "17.\n",
    "Дополните предыдущий запрос и выведите среднее число учебных заведений (всех, не только уникальных), которые окончили сотрудники разных компаний. Нужно вывести только одну запись, группировка здесь не понадобится."
   ]
  },
  {
   "cell_type": "code",
   "execution_count": null,
   "id": "a71041a5-5c18-4eda-aa21-2b40ab7f80ac",
   "metadata": {},
   "outputs": [],
   "source": [
    "select avg (pe.int_count)\n",
    "from (select distinct p.id, count(e.instituition) as int_count\n",
    "from people as p\n",
    "join education as e on p.id=e.person_id\n",
    "where company_id in (\n",
    "    select distinct c.id\n",
    "    from company as c\n",
    "    join funding_round as fr on c.id=fr.company_id\n",
    "    where status='closed' and fr.is_last_round =1 and fr.is_first_round = 1\n",
    ")\n",
    "group by p.id) as pe"
   ]
  },
  {
   "cell_type": "markdown",
   "id": "1f4d9a47-aa8f-4704-94b7-6879c6cb2682",
   "metadata": {},
   "source": [
    "18.\n",
    "Напишите похожий запрос: выведите среднее число учебных заведений (всех, не только уникальных), которые окончили сотрудники Socialnet."
   ]
  },
  {
   "cell_type": "code",
   "execution_count": null,
   "id": "d804c8ac-ca8b-40ad-a0bb-ef318f54bb71",
   "metadata": {},
   "outputs": [],
   "source": [
    "select avg (pe.int_count)\n",
    "from (select distinct p.id, count(e.instituition) as int_count\n",
    "from people as p\n",
    "join education as e on p.id=e.person_id\n",
    "where company_id = (\n",
    "    select  c.id\n",
    "    from company as c\n",
    "    where name='Socialnet' \n",
    ")\n",
    "group by p.id) as pe"
   ]
  },
  {
   "cell_type": "markdown",
   "id": "b75b8414-b365-43bb-949c-a1f15daf4886",
   "metadata": {},
   "source": [
    "19.\n",
    "Составьте таблицу из полей:\n",
    "name_of_fund — название фонда;\n",
    "name_of_company — название компании;\n",
    "amount — сумма инвестиций, которую привлекла компания в раунде.\n",
    "В таблицу войдут данные о компаниях, в истории которых было больше шести важных этапов, а раунды финансирования проходили с 2012 по 2013 год включительно."
   ]
  },
  {
   "cell_type": "code",
   "execution_count": null,
   "id": "06a95bcb-c2c6-4946-a406-8ba12d19ac73",
   "metadata": {},
   "outputs": [],
   "source": [
    "select \n",
    "    f.name as name_of_fund, \n",
    "    c.name as name_of_company, \n",
    "    fr.raised_amount as amount\n",
    " from investment as i \n",
    " join company as c on c.id = i.company_id\n",
    " join fund as f on f.id=i.fund_id\n",
    " join funding_round as fr on fr.id = i.funding_round_id\n",
    " where c.milestones >6 and fr.funded_at between '2012-01-01' and '2013-12-31'"
   ]
  },
  {
   "cell_type": "markdown",
   "id": "5b13ca85-6374-4686-94d4-898263984b11",
   "metadata": {},
   "source": [
    "20.\n",
    "Выгрузите таблицу, в которой будут такие поля:\n",
    "название компании-покупателя;\n",
    "сумма сделки;\n",
    "название компании, которую купили;\n",
    "сумма инвестиций, вложенных в купленную компанию;\n",
    "доля, которая отображает, во сколько раз сумма покупки превысила сумму вложенных в компанию инвестиций, округлённая до ближайшего целого числа.\n",
    "Не учитывайте те сделки, в которых сумма покупки равна нулю. Если сумма инвестиций в компанию равна нулю, исключите такую компанию из таблицы. \n",
    "Отсортируйте таблицу по сумме сделки от большей к меньшей, а затем по названию купленной компании в лексикографическом порядке. Ограничьте таблицу первыми десятью записями."
   ]
  },
  {
   "cell_type": "code",
   "execution_count": null,
   "id": "1674e045-1da2-4073-9eae-b7aad5008281",
   "metadata": {},
   "outputs": [],
   "source": [
    "select cb.name, a.price_amount, ci.name, ci.funding_total, round(a.price_amount/ci.funding_total)\n",
    "from acquisition as a \n",
    "join company as cb on cb.id= a.acquiring_company_id\n",
    "join company as ci on ci.id= a.acquired_company_id\n",
    "where a.price_amount>0 and ci.funding_total>0\n",
    "order by a.price_amount desc, ci.name\n",
    "limit 10"
   ]
  },
  {
   "cell_type": "markdown",
   "id": "783cc728-d637-40fb-9185-f1622718fe10",
   "metadata": {},
   "source": [
    "21.\n",
    "Выгрузите таблицу, в которую войдут названия компаний из категории social, получившие финансирование с 2010 по 2013 год включительно. Проверьте, что сумма инвестиций не равна нулю. Выведите также номер месяца, в котором проходил раунд финансирования."
   ]
  },
  {
   "cell_type": "code",
   "execution_count": null,
   "id": "d4f3c6c3-48b0-4208-978c-aba86e730b1a",
   "metadata": {},
   "outputs": [],
   "source": [
    "select  c.name, extract (month from cast(fr.funded_at as date))\n",
    "from company as c \n",
    "join funding_round as fr on fr.company_id=c.id\n",
    "where fr.funded_at between '2010-01-01' and '2013-12-31'\n",
    "    and c.category_code = 'social'\n",
    "    and fr.raised_amount>0"
   ]
  },
  {
   "cell_type": "markdown",
   "id": "7d8f7532-cefd-48a5-8d66-31267112cb27",
   "metadata": {},
   "source": [
    "22.\n",
    "Отберите данные по месяцам с 2010 по 2013 год, когда проходили инвестиционные раунды. Сгруппируйте данные по номеру месяца и получите таблицу, в которой будут поля:\n",
    "номер месяца, в котором проходили раунды;\n",
    "количество уникальных названий фондов из США, которые инвестировали в этом месяце;\n",
    "количество компаний, купленных за этот месяц;\n",
    "общая сумма сделок по покупкам в этом месяце."
   ]
  },
  {
   "cell_type": "code",
   "execution_count": null,
   "id": "987113a2-f7ad-4a79-906f-842230d2add6",
   "metadata": {},
   "outputs": [],
   "source": [
    "with\n",
    "m as (\n",
    "    select distinct extract (month from funded_at) as month\n",
    "    from funding_round\n",
    "    order by month),\n",
    "cmc as\n",
    "(select extract (month from funded_at )as month,\n",
    "      count(distinct f.name) as fonds\n",
    "from fund as f \n",
    "join investment as i on i.fund_id=f.id\n",
    "join funding_round as fr on fr.id= i.funding_round_id\n",
    "where f.country_code = 'USA' and extract (year from funded_at) in (2010,2011,2012,2013)\n",
    "    group by month),\n",
    "b as \n",
    "(select extract(month from acquired_at) as month, \n",
    "    count(acquired_company_id) as companies_i_count,\n",
    "    sum(price_amount) as price_sum\n",
    "from acquisition\n",
    "where extract(year from acquired_at) in (2010,2011,2012,2013)\n",
    "group by month)\n",
    "\n",
    "select m.month,  cmc.fonds, b.companies_i_count, b.price_sum\n",
    "from m\n",
    "join cmc on m.month=cmc.month\n",
    "join b on m.month=b.month"
   ]
  },
  {
   "cell_type": "markdown",
   "id": "78e92233-0c47-4753-91e8-215e440b7ee1",
   "metadata": {},
   "source": [
    "23.\n",
    "Составьте сводную таблицу и выведите среднюю сумму инвестиций для стран, в которых есть стартапы, зарегистрированные в 2011, 2012 и 2013 годах. Данные за каждый год должны быть в отдельном поле. Отсортируйте таблицу по среднему значению инвестиций за 2011 год от большего к меньшему."
   ]
  },
  {
   "cell_type": "code",
   "execution_count": null,
   "id": "fae28783-d119-420a-bfd5-6adad00e324b",
   "metadata": {},
   "outputs": [],
   "source": [
    "WITH\n",
    "inv_2011 AS (\n",
    "    select country_code, avg(funding_total) as avg_funding_11\n",
    "    from company\n",
    "    where extract (year from founded_at) = 2011\n",
    "    group by country_code),  \n",
    "inv_2012 AS (\n",
    "    select country_code, avg(funding_total) as avg_funding_12\n",
    "    from company\n",
    "    where extract (year from founded_at) = 2012\n",
    "    group by country_code), \n",
    "inv_2013 AS (\n",
    "    select country_code, avg(funding_total) as avg_funding_13\n",
    "    from company\n",
    "    where extract (year from founded_at) = 2013\n",
    "    group by country_code)\n",
    "\n",
    "SELECT inv_2011.country_code,\n",
    "       inv_2011.avg_funding_11,\n",
    "       inv_2012.avg_funding_12,\n",
    "       inv_2013.avg_funding_13\n",
    "FROM inv_2011\n",
    "JOIN inv_2012 on inv_2011.country_code=inv_2012.country_code\n",
    "JOIN inv_2013 on inv_2012.country_code=inv_2013.country_code\n",
    "order by inv_2011.avg_funding_11 desc"
   ]
  }
 ],
 "metadata": {
  "kernelspec": {
   "display_name": "Python 3 (ipykernel)",
   "language": "python",
   "name": "python3"
  },
  "language_info": {
   "codemirror_mode": {
    "name": "ipython",
    "version": 3
   },
   "file_extension": ".py",
   "mimetype": "text/x-python",
   "name": "python",
   "nbconvert_exporter": "python",
   "pygments_lexer": "ipython3",
   "version": "3.9.18"
  }
 },
 "nbformat": 4,
 "nbformat_minor": 5
}
