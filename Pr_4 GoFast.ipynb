{
 "cells": [
  {
   "cell_type": "markdown",
   "id": "5a82b988",
   "metadata": {},
   "source": [
    "# Сравнение пользователей сервиса аренды самокатов GoFast "
   ]
  },
  {
   "cell_type": "markdown",
   "id": "dabe6916-c479-4e6e-8be3-51c5d21e5839",
   "metadata": {},
   "source": [
    "## Описание проекта"
   ]
  },
  {
   "cell_type": "markdown",
   "id": "17323157-a1c5-4185-92e7-2903b60af702",
   "metadata": {},
   "source": [
    "В нашем распоряжении информация от сервиса аренды самокатов GoFast: данные о некоторых пользователях из нескольких городов, а также об их поездках. \n",
    "\n",
    "Продакт-менеджеры сервиса хотят увеличить количество пользователей с подпиской. Для этого они будут проводить различные акции, но сначала нужно выяснить несколько важных моментов.  \n",
    "1. Важно понять, тратят ли пользователи с подпиской больше времени на поездки? Если да, то пользователи с подпиской могут быть «выгоднее» для компании.  \n",
    "2. Расстояние одной поездки в 3130 метров — оптимальное с точки зрения износа самоката. Можно ли сказать, что расстояние, которое проезжают пользователи с подпиской за одну поездку, не превышает 3130 метров? \n",
    "3. Нужно проверить гипотезу о том, будет ли помесячная выручка от пользователей с подпиской по месяцам выше, чем выручка от пользователей без подписки. \n",
    "ыПроанализируем данные и проверим  гипотезы, которые могут помочь бизнесу вырасто\n",
    "\n",
    "Так же нужно продумать теоретическую ситуацию: техническая команда сервиса обновила сервера, с которыми взаимодействует мобильное приложение. Она надеется, что из-за этого количество обращений в техподдержку значимо снизилось. Некоторый файл содержит для каждого пользователя данные о количестве обращений до обновления и после него. Какой тест вам понадобился бы для проверки этой гипотезы.  ."
   ]
  },
  {
   "cell_type": "markdown",
   "id": "10191d8a",
   "metadata": {},
   "source": [
    "### Описание данных"
   ]
  },
  {
   "cell_type": "markdown",
   "id": "7168a385",
   "metadata": {},
   "source": [
    "Чтобы совершать поездки по городу, пользователи сервиса GoFast пользуются мобильным приложением, сервисом можно пользоваться:\n",
    "1. без подписки:\n",
    "- абонентская плата отсутствует;\n",
    "- стоимость одной минуты поездки — 8 рублей;\n",
    "- стоимость старта (начала поездки) — 50 рублей;\n",
    "2. с подпиской Ultra:\n",
    "- абонентская плата — 199 рублей в месяц;\n",
    "- стоимость одной минуты поездки — 6 рублей;\n",
    "- стоимость старта — бесплатно.\n",
    "\n",
    "В основных данных есть информация о:  \n",
    "пользователях(`users_go.csv`),   \n",
    "их поездках(`rides_go.csv`),  \n",
    "подписках(`subscriptions_go.csv`).  \n",
    "\n",
    "Пользователи:  \n",
    "`user_id` - уникальный идентификатор пользователя  \n",
    "`name` - имя пользователя  \n",
    "`age` - возраст  \n",
    "`city` - город  \n",
    "`subscription_type` - тип подписки (free, ultra)  \n",
    "\n",
    "Поездки:  \n",
    "`user_id` - уникальный идентификатор пользователя  \n",
    "`distance` - расстояние, которое пользователь проехал в текущей сессии (в метрах)  \n",
    "`duration` - продолжительность сессии (в минутах) — время с того момента, как пользователь нажал кнопку «Начать поездку» до момента, как он нажал кнопку «Завершить поездку»  \n",
    "`date`- дата совершения поездки  \n",
    "\n",
    "Подписки:  \n",
    "`subscription_type` - тип подписки  \n",
    "`minute_price` - стоимость одной минуты поездки по данной подписке  \n",
    "`start_ride_price` - тстоимость начала поездки  \n",
    "`subscription_fee` - тстоимость ежемесячного платежа  "
   ]
  },
  {
   "cell_type": "code",
   "execution_count": 1,
   "id": "e235dd34",
   "metadata": {},
   "outputs": [],
   "source": [
    "# импортирем необходимые для анализа библиотеки\n",
    "import pandas as pd\n",
    "import numpy as np\n",
    "import matplotlib.pyplot as plt\n",
    "from scipy import stats as st"
   ]
  },
  {
   "cell_type": "markdown",
   "id": "af18dd8c",
   "metadata": {},
   "source": [
    "## Шаг 1. Загрузка данных"
   ]
  },
  {
   "cell_type": "markdown",
   "id": "55c1b517",
   "metadata": {},
   "source": [
    "Создадим функцию, которая принимает на вход датафрейм и выдает результат интересующих нас методов. Применим функцию ко всем 3м датафреймам."
   ]
  },
  {
   "cell_type": "code",
   "execution_count": 2,
   "id": "7cabfee1",
   "metadata": {},
   "outputs": [],
   "source": [
    "def analyze_dataframe(df):\n",
    "    print(\"Head:\")\n",
    "    display(df.head())\n",
    "    print(\"\\nInfo:\")\n",
    "    df.info()\n",
    "    print(\"\\nDuplicated:\")\n",
    "    print(df.duplicated().sum())\n",
    "    print(\"\\nIsNa:\")\n",
    "    print(df.isna().sum())"
   ]
  },
  {
   "cell_type": "code",
   "execution_count": 3,
   "id": "13ff7142",
   "metadata": {},
   "outputs": [],
   "source": [
    "try:\n",
    "    df_users = pd.read_csv('C:/Users/iamst/Downloads/users_go.csv')\n",
    "    df_riders = pd.read_csv('C:/Users/iamst/Downloads/rides_go.csv')\n",
    "    df_subs = pd.read_csv('C:/Users/iamst/Downloads/subscriptions_go.csv')\n",
    "except:\n",
    "    df_users = pd.read_csv('/datasets/users_go.csv')\n",
    "    df_riders = pd.read_csv('/datasets/rides_go.csv')\n",
    "    df_subs = pd.read_csv('/datasets/subscriptions_go.csv')"
   ]
  },
  {
   "cell_type": "code",
   "execution_count": 4,
   "id": "37644a0c",
   "metadata": {},
   "outputs": [
    {
     "name": "stdout",
     "output_type": "stream",
     "text": [
      "Head:\n"
     ]
    },
    {
     "data": {
      "text/html": [
       "<div>\n",
       "<style scoped>\n",
       "    .dataframe tbody tr th:only-of-type {\n",
       "        vertical-align: middle;\n",
       "    }\n",
       "\n",
       "    .dataframe tbody tr th {\n",
       "        vertical-align: top;\n",
       "    }\n",
       "\n",
       "    .dataframe thead th {\n",
       "        text-align: right;\n",
       "    }\n",
       "</style>\n",
       "<table border=\"1\" class=\"dataframe\">\n",
       "  <thead>\n",
       "    <tr style=\"text-align: right;\">\n",
       "      <th></th>\n",
       "      <th>user_id</th>\n",
       "      <th>name</th>\n",
       "      <th>age</th>\n",
       "      <th>city</th>\n",
       "      <th>subscription_type</th>\n",
       "    </tr>\n",
       "  </thead>\n",
       "  <tbody>\n",
       "    <tr>\n",
       "      <th>0</th>\n",
       "      <td>1</td>\n",
       "      <td>Кира</td>\n",
       "      <td>22</td>\n",
       "      <td>Тюмень</td>\n",
       "      <td>ultra</td>\n",
       "    </tr>\n",
       "    <tr>\n",
       "      <th>1</th>\n",
       "      <td>2</td>\n",
       "      <td>Станислав</td>\n",
       "      <td>31</td>\n",
       "      <td>Омск</td>\n",
       "      <td>ultra</td>\n",
       "    </tr>\n",
       "    <tr>\n",
       "      <th>2</th>\n",
       "      <td>3</td>\n",
       "      <td>Алексей</td>\n",
       "      <td>20</td>\n",
       "      <td>Москва</td>\n",
       "      <td>ultra</td>\n",
       "    </tr>\n",
       "    <tr>\n",
       "      <th>3</th>\n",
       "      <td>4</td>\n",
       "      <td>Константин</td>\n",
       "      <td>26</td>\n",
       "      <td>Ростов-на-Дону</td>\n",
       "      <td>ultra</td>\n",
       "    </tr>\n",
       "    <tr>\n",
       "      <th>4</th>\n",
       "      <td>5</td>\n",
       "      <td>Адель</td>\n",
       "      <td>28</td>\n",
       "      <td>Омск</td>\n",
       "      <td>ultra</td>\n",
       "    </tr>\n",
       "  </tbody>\n",
       "</table>\n",
       "</div>"
      ],
      "text/plain": [
       "   user_id        name  age            city subscription_type\n",
       "0        1        Кира   22          Тюмень             ultra\n",
       "1        2   Станислав   31            Омск             ultra\n",
       "2        3     Алексей   20          Москва             ultra\n",
       "3        4  Константин   26  Ростов-на-Дону             ultra\n",
       "4        5       Адель   28            Омск             ultra"
      ]
     },
     "metadata": {},
     "output_type": "display_data"
    },
    {
     "name": "stdout",
     "output_type": "stream",
     "text": [
      "\n",
      "Info:\n",
      "<class 'pandas.core.frame.DataFrame'>\n",
      "RangeIndex: 1565 entries, 0 to 1564\n",
      "Data columns (total 5 columns):\n",
      " #   Column             Non-Null Count  Dtype \n",
      "---  ------             --------------  ----- \n",
      " 0   user_id            1565 non-null   int64 \n",
      " 1   name               1565 non-null   object\n",
      " 2   age                1565 non-null   int64 \n",
      " 3   city               1565 non-null   object\n",
      " 4   subscription_type  1565 non-null   object\n",
      "dtypes: int64(2), object(3)\n",
      "memory usage: 61.3+ KB\n",
      "\n",
      "Duplicated:\n",
      "31\n",
      "\n",
      "IsNa:\n",
      "user_id              0\n",
      "name                 0\n",
      "age                  0\n",
      "city                 0\n",
      "subscription_type    0\n",
      "dtype: int64\n"
     ]
    }
   ],
   "source": [
    "analyze_dataframe(df_users)"
   ]
  },
  {
   "cell_type": "code",
   "execution_count": 5,
   "id": "8937ee82",
   "metadata": {},
   "outputs": [
    {
     "name": "stdout",
     "output_type": "stream",
     "text": [
      "Head:\n"
     ]
    },
    {
     "data": {
      "text/html": [
       "<div>\n",
       "<style scoped>\n",
       "    .dataframe tbody tr th:only-of-type {\n",
       "        vertical-align: middle;\n",
       "    }\n",
       "\n",
       "    .dataframe tbody tr th {\n",
       "        vertical-align: top;\n",
       "    }\n",
       "\n",
       "    .dataframe thead th {\n",
       "        text-align: right;\n",
       "    }\n",
       "</style>\n",
       "<table border=\"1\" class=\"dataframe\">\n",
       "  <thead>\n",
       "    <tr style=\"text-align: right;\">\n",
       "      <th></th>\n",
       "      <th>user_id</th>\n",
       "      <th>distance</th>\n",
       "      <th>duration</th>\n",
       "      <th>date</th>\n",
       "    </tr>\n",
       "  </thead>\n",
       "  <tbody>\n",
       "    <tr>\n",
       "      <th>0</th>\n",
       "      <td>1</td>\n",
       "      <td>4409.919140</td>\n",
       "      <td>25.599769</td>\n",
       "      <td>2021-01-01</td>\n",
       "    </tr>\n",
       "    <tr>\n",
       "      <th>1</th>\n",
       "      <td>1</td>\n",
       "      <td>2617.592153</td>\n",
       "      <td>15.816871</td>\n",
       "      <td>2021-01-18</td>\n",
       "    </tr>\n",
       "    <tr>\n",
       "      <th>2</th>\n",
       "      <td>1</td>\n",
       "      <td>754.159807</td>\n",
       "      <td>6.232113</td>\n",
       "      <td>2021-04-20</td>\n",
       "    </tr>\n",
       "    <tr>\n",
       "      <th>3</th>\n",
       "      <td>1</td>\n",
       "      <td>2694.783254</td>\n",
       "      <td>18.511000</td>\n",
       "      <td>2021-08-11</td>\n",
       "    </tr>\n",
       "    <tr>\n",
       "      <th>4</th>\n",
       "      <td>1</td>\n",
       "      <td>4028.687306</td>\n",
       "      <td>26.265803</td>\n",
       "      <td>2021-08-28</td>\n",
       "    </tr>\n",
       "  </tbody>\n",
       "</table>\n",
       "</div>"
      ],
      "text/plain": [
       "   user_id     distance   duration        date\n",
       "0        1  4409.919140  25.599769  2021-01-01\n",
       "1        1  2617.592153  15.816871  2021-01-18\n",
       "2        1   754.159807   6.232113  2021-04-20\n",
       "3        1  2694.783254  18.511000  2021-08-11\n",
       "4        1  4028.687306  26.265803  2021-08-28"
      ]
     },
     "metadata": {},
     "output_type": "display_data"
    },
    {
     "name": "stdout",
     "output_type": "stream",
     "text": [
      "\n",
      "Info:\n",
      "<class 'pandas.core.frame.DataFrame'>\n",
      "RangeIndex: 18068 entries, 0 to 18067\n",
      "Data columns (total 4 columns):\n",
      " #   Column    Non-Null Count  Dtype  \n",
      "---  ------    --------------  -----  \n",
      " 0   user_id   18068 non-null  int64  \n",
      " 1   distance  18068 non-null  float64\n",
      " 2   duration  18068 non-null  float64\n",
      " 3   date      18068 non-null  object \n",
      "dtypes: float64(2), int64(1), object(1)\n",
      "memory usage: 564.8+ KB\n",
      "\n",
      "Duplicated:\n",
      "0\n",
      "\n",
      "IsNa:\n",
      "user_id     0\n",
      "distance    0\n",
      "duration    0\n",
      "date        0\n",
      "dtype: int64\n"
     ]
    }
   ],
   "source": [
    "analyze_dataframe(df_riders)"
   ]
  },
  {
   "cell_type": "code",
   "execution_count": 6,
   "id": "14f3b9b2",
   "metadata": {},
   "outputs": [
    {
     "name": "stdout",
     "output_type": "stream",
     "text": [
      "Head:\n"
     ]
    },
    {
     "data": {
      "text/html": [
       "<div>\n",
       "<style scoped>\n",
       "    .dataframe tbody tr th:only-of-type {\n",
       "        vertical-align: middle;\n",
       "    }\n",
       "\n",
       "    .dataframe tbody tr th {\n",
       "        vertical-align: top;\n",
       "    }\n",
       "\n",
       "    .dataframe thead th {\n",
       "        text-align: right;\n",
       "    }\n",
       "</style>\n",
       "<table border=\"1\" class=\"dataframe\">\n",
       "  <thead>\n",
       "    <tr style=\"text-align: right;\">\n",
       "      <th></th>\n",
       "      <th>subscription_type</th>\n",
       "      <th>minute_price</th>\n",
       "      <th>start_ride_price</th>\n",
       "      <th>subscription_fee</th>\n",
       "    </tr>\n",
       "  </thead>\n",
       "  <tbody>\n",
       "    <tr>\n",
       "      <th>0</th>\n",
       "      <td>free</td>\n",
       "      <td>8</td>\n",
       "      <td>50</td>\n",
       "      <td>0</td>\n",
       "    </tr>\n",
       "    <tr>\n",
       "      <th>1</th>\n",
       "      <td>ultra</td>\n",
       "      <td>6</td>\n",
       "      <td>0</td>\n",
       "      <td>199</td>\n",
       "    </tr>\n",
       "  </tbody>\n",
       "</table>\n",
       "</div>"
      ],
      "text/plain": [
       "  subscription_type  minute_price  start_ride_price  subscription_fee\n",
       "0              free             8                50                 0\n",
       "1             ultra             6                 0               199"
      ]
     },
     "metadata": {},
     "output_type": "display_data"
    },
    {
     "name": "stdout",
     "output_type": "stream",
     "text": [
      "\n",
      "Info:\n",
      "<class 'pandas.core.frame.DataFrame'>\n",
      "RangeIndex: 2 entries, 0 to 1\n",
      "Data columns (total 4 columns):\n",
      " #   Column             Non-Null Count  Dtype \n",
      "---  ------             --------------  ----- \n",
      " 0   subscription_type  2 non-null      object\n",
      " 1   minute_price       2 non-null      int64 \n",
      " 2   start_ride_price   2 non-null      int64 \n",
      " 3   subscription_fee   2 non-null      int64 \n",
      "dtypes: int64(3), object(1)\n",
      "memory usage: 192.0+ bytes\n",
      "\n",
      "Duplicated:\n",
      "0\n",
      "\n",
      "IsNa:\n",
      "subscription_type    0\n",
      "minute_price         0\n",
      "start_ride_price     0\n",
      "subscription_fee     0\n",
      "dtype: int64\n"
     ]
    }
   ],
   "source": [
    "analyze_dataframe(df_subs)"
   ]
  },
  {
   "cell_type": "markdown",
   "id": "aab4717b",
   "metadata": {},
   "source": [
    "### Вывод для Шаг 1"
   ]
  },
  {
   "cell_type": "markdown",
   "id": "13bebc6a-fc17-4de8-b4a7-7cc1311f77c6",
   "metadata": {},
   "source": [
    "Данные загружены, основная информация выведена.  \n",
    "\n",
    "В данных нет пропусков, но в одном из датафреймов присуствуют дубликаты: df_users - 31 дубликат.  \n",
    "\n",
    "df_users содержит информацию о 1565 пользователях.   \n",
    "Колонки с верными типами данных: id, name, age, city, subscription_type. \n",
    "\n",
    "df_riders содержит информацию о 18068 поездках.   \n",
    "Колонка  user_ id такая же как в df_user (ключ).   \n",
    "Колонка  df_users содержит информацию о расстоянии, указанную  в метрах (тип  данных float - можно округлить до 2х знаков после запятой).  \n",
    "Колонка duration содержит данные в минутах о длительности поездки , тип данных float потребуется округлить).   \n",
    "Дата в колонке date не приведена к корректному типу данных (потребуется изменение).  \n",
    "  \n",
    "df_subs содержит информацию 2 возможных тарифах.   \n",
    "Колонка subscription_type такая же как в df_us(ключ).  \n",
    "Minute_price, start_ride_price, subscription_fee - колонки с корректным типом даных содержат соответственно информацию о стоимости минуты, старта и подписки. "
   ]
  },
  {
   "cell_type": "markdown",
   "id": "eb2daa20",
   "metadata": {},
   "source": [
    "## Шаг 2. Предобработка данных"
   ]
  },
  {
   "cell_type": "markdown",
   "id": "88b48801-c5a2-4fd8-83db-afd1bd53af88",
   "metadata": {},
   "source": [
    "На предыдущем шаге мы обнаружили дубликаты в df_users, устраним их."
   ]
  },
  {
   "cell_type": "code",
   "execution_count": 7,
   "id": "f58b00b2",
   "metadata": {},
   "outputs": [],
   "source": [
    "df_users=df_users.drop_duplicates()"
   ]
  },
  {
   "cell_type": "markdown",
   "id": "a2420e85-8d24-4b93-b77d-2ae6f6c8cb0a",
   "metadata": {},
   "source": [
    "Приведём столбец df_riders['date'] к типу даты pandas."
   ]
  },
  {
   "cell_type": "code",
   "execution_count": 8,
   "id": "442d8f75",
   "metadata": {},
   "outputs": [],
   "source": [
    "df_riders['date']= pd.to_datetime(df_riders['date'], format='%Y-%m-%d')"
   ]
  },
  {
   "cell_type": "markdown",
   "id": "6b89f78f-fc85-4994-a045-61fa4dec28d4",
   "metadata": {},
   "source": [
    "Создадим новый столбец с номером месяца df_riders['month'] на основе столбца df_riders['date']"
   ]
  },
  {
   "cell_type": "code",
   "execution_count": 9,
   "id": "e55011fb-9129-400f-be2f-4696ea187a59",
   "metadata": {},
   "outputs": [],
   "source": [
    "df_riders['month']= pd.DatetimeIndex(df_riders['date']).month"
   ]
  },
  {
   "cell_type": "markdown",
   "id": "2e6ed9ae-9547-46e1-8577-2055249e4b2c",
   "metadata": {},
   "source": [
    "Проверим за какой период у нас есть данные, чтобы не допустить ошибки при группировке. Если окажется, что есть данные есть более чем за 1 год, будем так же создавать дополнительный столбец \"year\" и группировать по годам. "
   ]
  },
  {
   "cell_type": "code",
   "execution_count": 10,
   "id": "e58a3ea5-1286-41ce-9198-63197d3eb756",
   "metadata": {},
   "outputs": [
    {
     "data": {
      "text/plain": [
       "array([ 1,  4,  8, 10, 11, 12,  3,  6,  7,  2,  5,  9], dtype=int64)"
      ]
     },
     "metadata": {},
     "output_type": "display_data"
    },
    {
     "data": {
      "text/plain": [
       "Int64Index([2021], dtype='int64', name='date')"
      ]
     },
     "execution_count": 10,
     "metadata": {},
     "output_type": "execute_result"
    }
   ],
   "source": [
    "display(df_riders['month'].unique())\n",
    "pd.DatetimeIndex(df_riders['date']).year.unique()"
   ]
  },
  {
   "cell_type": "markdown",
   "id": "259680a6-b7ed-4668-b537-51031d9a7996",
   "metadata": {},
   "source": [
    "Проверим результат преобразований"
   ]
  },
  {
   "cell_type": "code",
   "execution_count": 11,
   "id": "f46769f7",
   "metadata": {},
   "outputs": [
    {
     "name": "stdout",
     "output_type": "stream",
     "text": [
      "Duplicates: 0\n"
     ]
    },
    {
     "data": {
      "text/html": [
       "<div>\n",
       "<style scoped>\n",
       "    .dataframe tbody tr th:only-of-type {\n",
       "        vertical-align: middle;\n",
       "    }\n",
       "\n",
       "    .dataframe tbody tr th {\n",
       "        vertical-align: top;\n",
       "    }\n",
       "\n",
       "    .dataframe thead th {\n",
       "        text-align: right;\n",
       "    }\n",
       "</style>\n",
       "<table border=\"1\" class=\"dataframe\">\n",
       "  <thead>\n",
       "    <tr style=\"text-align: right;\">\n",
       "      <th></th>\n",
       "      <th>month</th>\n",
       "      <th>date</th>\n",
       "    </tr>\n",
       "  </thead>\n",
       "  <tbody>\n",
       "    <tr>\n",
       "      <th>0</th>\n",
       "      <td>1</td>\n",
       "      <td>2021-01-01</td>\n",
       "    </tr>\n",
       "    <tr>\n",
       "      <th>1</th>\n",
       "      <td>1</td>\n",
       "      <td>2021-01-18</td>\n",
       "    </tr>\n",
       "    <tr>\n",
       "      <th>2</th>\n",
       "      <td>4</td>\n",
       "      <td>2021-04-20</td>\n",
       "    </tr>\n",
       "    <tr>\n",
       "      <th>3</th>\n",
       "      <td>8</td>\n",
       "      <td>2021-08-11</td>\n",
       "    </tr>\n",
       "    <tr>\n",
       "      <th>4</th>\n",
       "      <td>8</td>\n",
       "      <td>2021-08-28</td>\n",
       "    </tr>\n",
       "  </tbody>\n",
       "</table>\n",
       "</div>"
      ],
      "text/plain": [
       "   month       date\n",
       "0      1 2021-01-01\n",
       "1      1 2021-01-18\n",
       "2      4 2021-04-20\n",
       "3      8 2021-08-11\n",
       "4      8 2021-08-28"
      ]
     },
     "execution_count": 11,
     "metadata": {},
     "output_type": "execute_result"
    }
   ],
   "source": [
    "# Проверим результат преобразований\n",
    "print('Duplicates:',df_users.duplicated().sum())\n",
    "df_riders[['month','date']].head()"
   ]
  },
  {
   "cell_type": "markdown",
   "id": "50b09aef-446f-4aea-98f2-0bed2ef8bad7",
   "metadata": {},
   "source": [
    "Округлим данные о расстоянии и длительности поездок и проверим результат."
   ]
  },
  {
   "cell_type": "code",
   "execution_count": 12,
   "id": "2c8488d5-f90e-40ac-aa5a-bc74835cd97c",
   "metadata": {},
   "outputs": [
    {
     "data": {
      "text/html": [
       "<div>\n",
       "<style scoped>\n",
       "    .dataframe tbody tr th:only-of-type {\n",
       "        vertical-align: middle;\n",
       "    }\n",
       "\n",
       "    .dataframe tbody tr th {\n",
       "        vertical-align: top;\n",
       "    }\n",
       "\n",
       "    .dataframe thead th {\n",
       "        text-align: right;\n",
       "    }\n",
       "</style>\n",
       "<table border=\"1\" class=\"dataframe\">\n",
       "  <thead>\n",
       "    <tr style=\"text-align: right;\">\n",
       "      <th></th>\n",
       "      <th>duration</th>\n",
       "      <th>distance</th>\n",
       "    </tr>\n",
       "  </thead>\n",
       "  <tbody>\n",
       "    <tr>\n",
       "      <th>0</th>\n",
       "      <td>26.0</td>\n",
       "      <td>4409.92</td>\n",
       "    </tr>\n",
       "    <tr>\n",
       "      <th>1</th>\n",
       "      <td>16.0</td>\n",
       "      <td>2617.59</td>\n",
       "    </tr>\n",
       "    <tr>\n",
       "      <th>2</th>\n",
       "      <td>7.0</td>\n",
       "      <td>754.16</td>\n",
       "    </tr>\n",
       "    <tr>\n",
       "      <th>3</th>\n",
       "      <td>19.0</td>\n",
       "      <td>2694.78</td>\n",
       "    </tr>\n",
       "    <tr>\n",
       "      <th>4</th>\n",
       "      <td>27.0</td>\n",
       "      <td>4028.69</td>\n",
       "    </tr>\n",
       "  </tbody>\n",
       "</table>\n",
       "</div>"
      ],
      "text/plain": [
       "   duration  distance\n",
       "0      26.0   4409.92\n",
       "1      16.0   2617.59\n",
       "2       7.0    754.16\n",
       "3      19.0   2694.78\n",
       "4      27.0   4028.69"
      ]
     },
     "execution_count": 12,
     "metadata": {},
     "output_type": "execute_result"
    }
   ],
   "source": [
    "df_riders['duration'] = np.ceil(df_riders['duration'])\n",
    "df_riders['distance'] = np.round(df_riders['distance'],2)\n",
    "df_riders[['duration','distance']].head()"
   ]
  },
  {
   "cell_type": "markdown",
   "id": "7333b8f9",
   "metadata": {},
   "source": [
    "### Вывод для Шаг 2"
   ]
  },
  {
   "cell_type": "markdown",
   "id": "72931dab",
   "metadata": {},
   "source": [
    "Данные обработаны, дубликатов и пропущенных значений более нет, создан новый столбец."
   ]
  },
  {
   "cell_type": "markdown",
   "id": "c6b1b6ef",
   "metadata": {},
   "source": [
    "## Шаг 3. Исследовательский анализ данных"
   ]
  },
  {
   "cell_type": "markdown",
   "id": "02909ff1",
   "metadata": {},
   "source": [
    "Опишем и визуализируйте общую информацию о пользователях и поездках."
   ]
  },
  {
   "cell_type": "code",
   "execution_count": 13,
   "id": "d124f731",
   "metadata": {},
   "outputs": [
    {
     "name": "stdout",
     "output_type": "stream",
     "text": [
      "\n",
      "Среднее 191.0 \n",
      "\n"
     ]
    },
    {
     "data": {
      "text/plain": [
       "Москва            168\n",
       "Тюмень            180\n",
       "Омск              183\n",
       "Сочи              189\n",
       "Краснодар         193\n",
       "Ростов-на-Дону    198\n",
       "Екатеринбург      204\n",
       "Пятигорск         219\n",
       "Name: city, dtype: int64"
      ]
     },
     "metadata": {},
     "output_type": "display_data"
    },
    {
     "data": {
      "image/png": "[encoded data removed]",
      "text/plain": [
       "<Figure size 500x300 with 1 Axes>"
      ]
     },
     "metadata": {},
     "output_type": "display_data"
    }
   ],
   "source": [
    "print('\\nСреднее',df_users['city'].value_counts(ascending=True).median(),'\\n')\n",
    "display(df_users['city'].value_counts(ascending=True))\n",
    "df_users['city'].value_counts(ascending=True).plot(kind='barh',figsize=(5,3));\n",
    "plt.title('Частота встречаемости городов');\n",
    "plt.ylabel('Города');\n",
    "plt.xlabel('Количество пользователей');"
   ]
  },
  {
   "cell_type": "code",
   "execution_count": 14,
   "id": "fe87484b",
   "metadata": {},
   "outputs": [
    {
     "name": "stdout",
     "output_type": "stream",
     "text": [
      "Пользователи с подпиской и без:\n",
      " free     835\n",
      "ultra    699\n",
      "Name: subscription_type, dtype: int64\n"
     ]
    },
    {
     "data": {
      "image/png": "[encoded data removed]",
      "text/plain": [
       "<Figure size 640x480 with 1 Axes>"
      ]
     },
     "metadata": {},
     "output_type": "display_data"
    }
   ],
   "source": [
    "# Cоотношение пользователей с подпиской и без подписки\n",
    "print('Пользователи с подпиской и без:\\n',df_users['subscription_type'].value_counts())\n",
    "\n",
    "plt.title('Cоотношение пользователей с подпиской и без подписки');\n",
    "plt.pie(df_users['subscription_type'].value_counts(), labels=['free: 835','ultra'],autopct='%1.1f%%')\n",
    "plt.show();"
   ]
  },
  {
   "cell_type": "code",
   "execution_count": 15,
   "id": "389f9a6e",
   "metadata": {},
   "outputs": [
    {
     "data": {
      "text/plain": [
       "count    1534.000000\n",
       "mean       24.903520\n",
       "std         4.572367\n",
       "min        12.000000\n",
       "25%        22.000000\n",
       "50%        25.000000\n",
       "75%        28.000000\n",
       "max        43.000000\n",
       "Name: age, dtype: float64"
      ]
     },
     "metadata": {},
     "output_type": "display_data"
    },
    {
     "data": {
      "image/png": "[encoded data removed]",
      "text/plain": [
       "<Figure size 500x300 with 1 Axes>"
      ]
     },
     "metadata": {},
     "output_type": "display_data"
    }
   ],
   "source": [
    "# возраст пользователей\n",
    "display(df_users['age'].describe())\n",
    "df_users.hist('age',figsize=(5,3),bins=15);\n",
    "plt.title('Распределение возраста пользователей');\n",
    "plt.xlabel('Возраст');\n",
    "plt.ylabel('Количество пользователей');"
   ]
  },
  {
   "cell_type": "code",
   "execution_count": 16,
   "id": "7a4fae37",
   "metadata": {},
   "outputs": [
    {
     "data": {
      "text/plain": [
       "count    18068.000000\n",
       "mean      3070.659992\n",
       "std       1116.831222\n",
       "min          0.860000\n",
       "25%       2543.227500\n",
       "50%       3133.610000\n",
       "75%       3776.220000\n",
       "max       7211.010000\n",
       "Name: distance, dtype: float64"
      ]
     },
     "metadata": {},
     "output_type": "display_data"
    },
    {
     "data": {
      "image/png": "[encoded data removed]",
      "text/plain": [
       "<Figure size 500x300 with 1 Axes>"
      ]
     },
     "metadata": {},
     "output_type": "display_data"
    }
   ],
   "source": [
    "# расстояние, которое пользователь преодолел за одну поездку\n",
    "display(df_riders['distance'].describe())\n",
    "df_riders.hist('distance',bins=50,figsize=(5,3));\n",
    "plt.title('Расстояние за одну поездку');\n",
    "plt.xlabel('Расстояние (м.)');\n",
    "plt.ylabel('Количество пользователей');"
   ]
  },
  {
   "cell_type": "code",
   "execution_count": 17,
   "id": "c6b7c41d",
   "metadata": {},
   "outputs": [
    {
     "data": {
      "image/png": "[encoded data removed]",
      "text/plain": [
       "<Figure size 500x300 with 1 Axes>"
      ]
     },
     "metadata": {},
     "output_type": "display_data"
    }
   ],
   "source": [
    "# продолжительность поездок\n",
    "df_riders.hist('duration',bins=50,figsize=(5,3));\n",
    "plt.title('Продолжительность одной поездки');\n",
    "plt.xlabel('Время (мин.)');\n",
    "plt.ylabel('Количество пользователей');"
   ]
  },
  {
   "cell_type": "markdown",
   "id": "07fc7a56-dc29-43f0-9a0f-883501b2ccf2",
   "metadata": {},
   "source": [
    "Рассмотрим более подробно информацию о поездках продолжительностью близкой к 0.  Интересующие нас поездки должны быть длительностью меньше минуты.\n",
    "Рассмотрим как распределяется расстояние и время для таких поездок."
   ]
  },
  {
   "cell_type": "code",
   "execution_count": 18,
   "id": "cadcfee5-d28f-411d-a63e-d1c65459124b",
   "metadata": {},
   "outputs": [
    {
     "data": {
      "text/html": [
       "<div>\n",
       "<style scoped>\n",
       "    .dataframe tbody tr th:only-of-type {\n",
       "        vertical-align: middle;\n",
       "    }\n",
       "\n",
       "    .dataframe tbody tr th {\n",
       "        vertical-align: top;\n",
       "    }\n",
       "\n",
       "    .dataframe thead th {\n",
       "        text-align: right;\n",
       "    }\n",
       "</style>\n",
       "<table border=\"1\" class=\"dataframe\">\n",
       "  <thead>\n",
       "    <tr style=\"text-align: right;\">\n",
       "      <th></th>\n",
       "      <th>user_id</th>\n",
       "      <th>distance</th>\n",
       "      <th>duration</th>\n",
       "      <th>date</th>\n",
       "      <th>month</th>\n",
       "    </tr>\n",
       "  </thead>\n",
       "  <tbody>\n",
       "    <tr>\n",
       "      <th>6531</th>\n",
       "      <td>701</td>\n",
       "      <td>4196.45</td>\n",
       "      <td>1.0</td>\n",
       "      <td>2021-08-31</td>\n",
       "      <td>8</td>\n",
       "    </tr>\n",
       "    <tr>\n",
       "      <th>6570</th>\n",
       "      <td>704</td>\n",
       "      <td>4830.82</td>\n",
       "      <td>1.0</td>\n",
       "      <td>2021-10-14</td>\n",
       "      <td>10</td>\n",
       "    </tr>\n",
       "    <tr>\n",
       "      <th>6680</th>\n",
       "      <td>712</td>\n",
       "      <td>4684.00</td>\n",
       "      <td>1.0</td>\n",
       "      <td>2021-03-04</td>\n",
       "      <td>3</td>\n",
       "    </tr>\n",
       "    <tr>\n",
       "      <th>6695</th>\n",
       "      <td>713</td>\n",
       "      <td>5215.64</td>\n",
       "      <td>1.0</td>\n",
       "      <td>2021-02-25</td>\n",
       "      <td>2</td>\n",
       "    </tr>\n",
       "    <tr>\n",
       "      <th>6768</th>\n",
       "      <td>718</td>\n",
       "      <td>5197.44</td>\n",
       "      <td>1.0</td>\n",
       "      <td>2021-02-11</td>\n",
       "      <td>2</td>\n",
       "    </tr>\n",
       "  </tbody>\n",
       "</table>\n",
       "</div>"
      ],
      "text/plain": [
       "      user_id  distance  duration       date  month\n",
       "6531      701   4196.45       1.0 2021-08-31      8\n",
       "6570      704   4830.82       1.0 2021-10-14     10\n",
       "6680      712   4684.00       1.0 2021-03-04      3\n",
       "6695      713   5215.64       1.0 2021-02-25      2\n",
       "6768      718   5197.44       1.0 2021-02-11      2"
      ]
     },
     "execution_count": 18,
     "metadata": {},
     "output_type": "execute_result"
    }
   ],
   "source": [
    "df_riders.query('duration <=1').head()"
   ]
  },
  {
   "cell_type": "code",
   "execution_count": 19,
   "id": "2a8da01f-07f9-424c-9e66-5ae84270801a",
   "metadata": {},
   "outputs": [
    {
     "data": {
      "text/plain": [
       "count      95.000000\n",
       "mean     5113.176737\n",
       "std       658.254223\n",
       "min      4030.310000\n",
       "25%      4611.510000\n",
       "50%      5052.770000\n",
       "75%      5488.460000\n",
       "max      7211.010000\n",
       "Name: distance, dtype: float64"
      ]
     },
     "execution_count": 19,
     "metadata": {},
     "output_type": "execute_result"
    }
   ],
   "source": [
    "df_riders.query('duration <=1')['distance'].describe()"
   ]
  },
  {
   "cell_type": "code",
   "execution_count": 20,
   "id": "4133b41b-b47e-4f93-b3fc-8ba1b585a4b6",
   "metadata": {},
   "outputs": [
    {
     "data": {
      "text/plain": [
       "count    95.0\n",
       "mean      1.0\n",
       "std       0.0\n",
       "min       1.0\n",
       "25%       1.0\n",
       "50%       1.0\n",
       "75%       1.0\n",
       "max       1.0\n",
       "Name: duration, dtype: float64"
      ]
     },
     "execution_count": 20,
     "metadata": {},
     "output_type": "execute_result"
    }
   ],
   "source": [
    "df_riders.query('duration <=1')['duration'].describe()"
   ]
  },
  {
   "cell_type": "markdown",
   "id": "c79e3a08-ba41-4576-b0be-0709474f1d11",
   "metadata": {},
   "source": [
    "Мы видим, что среднее расстояние почти 5 километров, при длительности поездки в 1 минуту это невозможно.\n",
    "Проверим, сколько таких данных у нас в датафрейме, если менее 10% мы сможем исключить их из выборки."
   ]
  },
  {
   "cell_type": "code",
   "execution_count": 21,
   "id": "614c011c-6794-4915-b51d-0e1c3efda349",
   "metadata": {},
   "outputs": [
    {
     "data": {
      "text/plain": [
       "0.005257914545052026"
      ]
     },
     "execution_count": 21,
     "metadata": {},
     "output_type": "execute_result"
    }
   ],
   "source": [
    "len(df_riders.query('duration <=1')) / len(df_riders)"
   ]
  },
  {
   "cell_type": "code",
   "execution_count": 22,
   "id": "ad46c265-f1b8-46e9-95b1-243bacd28ade",
   "metadata": {},
   "outputs": [
    {
     "data": {
      "text/plain": [
       "0"
      ]
     },
     "execution_count": 22,
     "metadata": {},
     "output_type": "execute_result"
    }
   ],
   "source": [
    "df_riders = df_riders.query('duration > 1')\n",
    "len(df_riders.query('duration <=1'))"
   ]
  },
  {
   "cell_type": "markdown",
   "id": "35268d20",
   "metadata": {},
   "source": [
    "### Вывод для Шаг 3"
   ]
  },
  {
   "cell_type": "markdown",
   "id": "89a83a6d",
   "metadata": {},
   "source": [
    "Всего вданных представлены 1534 уникальных пользователя из 8 городов.  \n",
    "Возможно два варианта пользования сервисом бесплатный (54%) и с подпиской (46%): free (835) и ultra (699).   \n",
    "Наибольшее количество пользователей в Пятигорске (219), наименьшее в Москве (168). Медианное количетво пользователей - 191.  \n",
    "Возраст пользователей варьируется от 12 до 43, большая часть пользователей (25-75 перцентили) в возврасте 22-28 лет, в среднем 25.  \n",
    "Всего было совершенео 18068 поездок в пределах от 0.8 м до 7.2 км, медианное значение 3.1 км. \n",
    "Судя по гистограмме распределения дальности поездок самокаты чаще всего используются на двух расстояниях: примерно 0.6 км и 3.1 км.   \n",
    "Такое распределение можно предположительно объяснить тем, что пользователи совершали коротки поездки, чтобы протестировать сервис.\n",
    "На гистограмме распределения длительности поездок мы видим, что около нуля присуствует отдельностоящий пик - поездки длительность менее 1 минуты.  Мы исключили поездки длительность в 1 минуту, тк расстояние для них было неадекватно высоким ( в среднем 5 км). \n",
    "Такая короткая длительность могла возникнуть из-за неисправноси или потому, что сервис не подошел пользователю.   \n",
    "Медианное время поездки 17.7 минут, больше всего поездок в диапозоне от 13 до 21 минут."
   ]
  },
  {
   "cell_type": "markdown",
   "id": "f0fadcbb",
   "metadata": {},
   "source": [
    "## Шаг 4. Объединение данных"
   ]
  },
  {
   "cell_type": "code",
   "execution_count": 23,
   "id": "015db393",
   "metadata": {},
   "outputs": [],
   "source": [
    "#Объеденим данные о пользователях, поездках и подписках в один датафрейм и создадим 2 отдельных датафрейма.\n",
    "df_all=df_users.merge(df_subs, on='subscription_type').merge(df_riders,on='user_id')\n",
    "#для пользователей без подписки \n",
    "df_ultra=df_all.query('subscription_type==\"ultra\"')\n",
    "#для пользователей с подпиской\n",
    "df_free=df_all.query('subscription_type==\"free\"')"
   ]
  },
  {
   "cell_type": "markdown",
   "id": "d49e9230-954e-47e9-8db4-ce61d6ff967a",
   "metadata": {},
   "source": [
    "Таблица содержащая наибольшее количество строк в нашем случае - df_riders (17973). Мы обьеденили все данные методом merge с типом \"inner\" по столбцам содержащемимся в обоих присоединяемых таблицах. Проверим количество полученных строк."
   ]
  },
  {
   "cell_type": "code",
   "execution_count": 24,
   "id": "77f1f58c-9730-4651-b5b5-02dc6103ce60",
   "metadata": {},
   "outputs": [
    {
     "data": {
      "text/plain": [
       "17973"
      ]
     },
     "metadata": {},
     "output_type": "display_data"
    },
    {
     "data": {
      "text/plain": [
       "17973"
      ]
     },
     "metadata": {},
     "output_type": "display_data"
    }
   ],
   "source": [
    "display(len(df_all)) \n",
    "display(len(df_ultra) + (len(df_free)))"
   ]
  },
  {
   "cell_type": "code",
   "execution_count": 25,
   "id": "9f0e5b62",
   "metadata": {},
   "outputs": [
    {
     "data": {
      "text/html": [
       "<div>\n",
       "<style scoped>\n",
       "    .dataframe tbody tr th:only-of-type {\n",
       "        vertical-align: middle;\n",
       "    }\n",
       "\n",
       "    .dataframe tbody tr th {\n",
       "        vertical-align: top;\n",
       "    }\n",
       "\n",
       "    .dataframe thead th {\n",
       "        text-align: right;\n",
       "    }\n",
       "</style>\n",
       "<table border=\"1\" class=\"dataframe\">\n",
       "  <thead>\n",
       "    <tr style=\"text-align: right;\">\n",
       "      <th></th>\n",
       "      <th>user_id</th>\n",
       "      <th>name</th>\n",
       "      <th>age</th>\n",
       "      <th>city</th>\n",
       "      <th>subscription_type</th>\n",
       "      <th>minute_price</th>\n",
       "      <th>start_ride_price</th>\n",
       "      <th>subscription_fee</th>\n",
       "      <th>distance</th>\n",
       "      <th>duration</th>\n",
       "      <th>date</th>\n",
       "      <th>month</th>\n",
       "    </tr>\n",
       "  </thead>\n",
       "  <tbody>\n",
       "    <tr>\n",
       "      <th>0</th>\n",
       "      <td>1</td>\n",
       "      <td>Кира</td>\n",
       "      <td>22</td>\n",
       "      <td>Тюмень</td>\n",
       "      <td>ultra</td>\n",
       "      <td>6</td>\n",
       "      <td>0</td>\n",
       "      <td>199</td>\n",
       "      <td>4409.92</td>\n",
       "      <td>26.0</td>\n",
       "      <td>2021-01-01</td>\n",
       "      <td>1</td>\n",
       "    </tr>\n",
       "    <tr>\n",
       "      <th>1</th>\n",
       "      <td>1</td>\n",
       "      <td>Кира</td>\n",
       "      <td>22</td>\n",
       "      <td>Тюмень</td>\n",
       "      <td>ultra</td>\n",
       "      <td>6</td>\n",
       "      <td>0</td>\n",
       "      <td>199</td>\n",
       "      <td>2617.59</td>\n",
       "      <td>16.0</td>\n",
       "      <td>2021-01-18</td>\n",
       "      <td>1</td>\n",
       "    </tr>\n",
       "    <tr>\n",
       "      <th>2</th>\n",
       "      <td>1</td>\n",
       "      <td>Кира</td>\n",
       "      <td>22</td>\n",
       "      <td>Тюмень</td>\n",
       "      <td>ultra</td>\n",
       "      <td>6</td>\n",
       "      <td>0</td>\n",
       "      <td>199</td>\n",
       "      <td>754.16</td>\n",
       "      <td>7.0</td>\n",
       "      <td>2021-04-20</td>\n",
       "      <td>4</td>\n",
       "    </tr>\n",
       "    <tr>\n",
       "      <th>3</th>\n",
       "      <td>1</td>\n",
       "      <td>Кира</td>\n",
       "      <td>22</td>\n",
       "      <td>Тюмень</td>\n",
       "      <td>ultra</td>\n",
       "      <td>6</td>\n",
       "      <td>0</td>\n",
       "      <td>199</td>\n",
       "      <td>2694.78</td>\n",
       "      <td>19.0</td>\n",
       "      <td>2021-08-11</td>\n",
       "      <td>8</td>\n",
       "    </tr>\n",
       "    <tr>\n",
       "      <th>4</th>\n",
       "      <td>1</td>\n",
       "      <td>Кира</td>\n",
       "      <td>22</td>\n",
       "      <td>Тюмень</td>\n",
       "      <td>ultra</td>\n",
       "      <td>6</td>\n",
       "      <td>0</td>\n",
       "      <td>199</td>\n",
       "      <td>4028.69</td>\n",
       "      <td>27.0</td>\n",
       "      <td>2021-08-28</td>\n",
       "      <td>8</td>\n",
       "    </tr>\n",
       "  </tbody>\n",
       "</table>\n",
       "</div>"
      ],
      "text/plain": [
       "   user_id  name  age    city subscription_type  minute_price  \\\n",
       "0        1  Кира   22  Тюмень             ultra             6   \n",
       "1        1  Кира   22  Тюмень             ultra             6   \n",
       "2        1  Кира   22  Тюмень             ultra             6   \n",
       "3        1  Кира   22  Тюмень             ultra             6   \n",
       "4        1  Кира   22  Тюмень             ultra             6   \n",
       "\n",
       "   start_ride_price  subscription_fee  distance  duration       date  month  \n",
       "0                 0               199   4409.92      26.0 2021-01-01      1  \n",
       "1                 0               199   2617.59      16.0 2021-01-18      1  \n",
       "2                 0               199    754.16       7.0 2021-04-20      4  \n",
       "3                 0               199   2694.78      19.0 2021-08-11      8  \n",
       "4                 0               199   4028.69      27.0 2021-08-28      8  "
      ]
     },
     "metadata": {},
     "output_type": "display_data"
    },
    {
     "data": {
      "text/html": [
       "<div>\n",
       "<style scoped>\n",
       "    .dataframe tbody tr th:only-of-type {\n",
       "        vertical-align: middle;\n",
       "    }\n",
       "\n",
       "    .dataframe tbody tr th {\n",
       "        vertical-align: top;\n",
       "    }\n",
       "\n",
       "    .dataframe thead th {\n",
       "        text-align: right;\n",
       "    }\n",
       "</style>\n",
       "<table border=\"1\" class=\"dataframe\">\n",
       "  <thead>\n",
       "    <tr style=\"text-align: right;\">\n",
       "      <th></th>\n",
       "      <th>user_id</th>\n",
       "      <th>name</th>\n",
       "      <th>age</th>\n",
       "      <th>city</th>\n",
       "      <th>subscription_type</th>\n",
       "      <th>minute_price</th>\n",
       "      <th>start_ride_price</th>\n",
       "      <th>subscription_fee</th>\n",
       "      <th>distance</th>\n",
       "      <th>duration</th>\n",
       "      <th>date</th>\n",
       "      <th>month</th>\n",
       "    </tr>\n",
       "  </thead>\n",
       "  <tbody>\n",
       "    <tr>\n",
       "      <th>6500</th>\n",
       "      <td>700</td>\n",
       "      <td>Айдар</td>\n",
       "      <td>22</td>\n",
       "      <td>Омск</td>\n",
       "      <td>free</td>\n",
       "      <td>8</td>\n",
       "      <td>50</td>\n",
       "      <td>0</td>\n",
       "      <td>2515.69</td>\n",
       "      <td>15.0</td>\n",
       "      <td>2021-01-02</td>\n",
       "      <td>1</td>\n",
       "    </tr>\n",
       "    <tr>\n",
       "      <th>6501</th>\n",
       "      <td>700</td>\n",
       "      <td>Айдар</td>\n",
       "      <td>22</td>\n",
       "      <td>Омск</td>\n",
       "      <td>free</td>\n",
       "      <td>8</td>\n",
       "      <td>50</td>\n",
       "      <td>0</td>\n",
       "      <td>846.93</td>\n",
       "      <td>17.0</td>\n",
       "      <td>2021-02-01</td>\n",
       "      <td>2</td>\n",
       "    </tr>\n",
       "    <tr>\n",
       "      <th>6502</th>\n",
       "      <td>700</td>\n",
       "      <td>Айдар</td>\n",
       "      <td>22</td>\n",
       "      <td>Омск</td>\n",
       "      <td>free</td>\n",
       "      <td>8</td>\n",
       "      <td>50</td>\n",
       "      <td>0</td>\n",
       "      <td>4004.43</td>\n",
       "      <td>21.0</td>\n",
       "      <td>2021-02-04</td>\n",
       "      <td>2</td>\n",
       "    </tr>\n",
       "    <tr>\n",
       "      <th>6503</th>\n",
       "      <td>700</td>\n",
       "      <td>Айдар</td>\n",
       "      <td>22</td>\n",
       "      <td>Омск</td>\n",
       "      <td>free</td>\n",
       "      <td>8</td>\n",
       "      <td>50</td>\n",
       "      <td>0</td>\n",
       "      <td>1205.91</td>\n",
       "      <td>10.0</td>\n",
       "      <td>2021-02-10</td>\n",
       "      <td>2</td>\n",
       "    </tr>\n",
       "    <tr>\n",
       "      <th>6504</th>\n",
       "      <td>700</td>\n",
       "      <td>Айдар</td>\n",
       "      <td>22</td>\n",
       "      <td>Омск</td>\n",
       "      <td>free</td>\n",
       "      <td>8</td>\n",
       "      <td>50</td>\n",
       "      <td>0</td>\n",
       "      <td>3047.38</td>\n",
       "      <td>18.0</td>\n",
       "      <td>2021-02-14</td>\n",
       "      <td>2</td>\n",
       "    </tr>\n",
       "  </tbody>\n",
       "</table>\n",
       "</div>"
      ],
      "text/plain": [
       "      user_id   name  age  city subscription_type  minute_price  \\\n",
       "6500      700  Айдар   22  Омск              free             8   \n",
       "6501      700  Айдар   22  Омск              free             8   \n",
       "6502      700  Айдар   22  Омск              free             8   \n",
       "6503      700  Айдар   22  Омск              free             8   \n",
       "6504      700  Айдар   22  Омск              free             8   \n",
       "\n",
       "      start_ride_price  subscription_fee  distance  duration       date  month  \n",
       "6500                50                 0   2515.69      15.0 2021-01-02      1  \n",
       "6501                50                 0    846.93      17.0 2021-02-01      2  \n",
       "6502                50                 0   4004.43      21.0 2021-02-04      2  \n",
       "6503                50                 0   1205.91      10.0 2021-02-10      2  \n",
       "6504                50                 0   3047.38      18.0 2021-02-14      2  "
      ]
     },
     "execution_count": 25,
     "metadata": {},
     "output_type": "execute_result"
    }
   ],
   "source": [
    "#проверим как вгылядят новые датафреймы\n",
    "display(df_ultra.head())\n",
    "df_free.head()"
   ]
  },
  {
   "cell_type": "code",
   "execution_count": 26,
   "id": "a0ea11a6",
   "metadata": {},
   "outputs": [
    {
     "data": {
      "text/plain": [
       "set()"
      ]
     },
     "execution_count": 26,
     "metadata": {},
     "output_type": "execute_result"
    }
   ],
   "source": [
    "#Проверим есть ли пересекающиеся значения id в обоих типах подписок.\n",
    "df_free_id=df_free['user_id'].unique()\n",
    "df_ultra_id=df_ultra['user_id'].unique()\n",
    "set (df_free_id) & set (df_ultra_id)"
   ]
  },
  {
   "cell_type": "code",
   "execution_count": 27,
   "id": "6141cb45-1767-40c6-bbb5-443cbf18b1f7",
   "metadata": {},
   "outputs": [
    {
     "data": {
      "image/png": "[encoded data removed]",
      "text/plain": [
       "<Figure size 640x480 with 1 Axes>"
      ]
     },
     "metadata": {},
     "output_type": "display_data"
    }
   ],
   "source": [
    "df_all.groupby(['subscription_type'])['distance'].hist(bins=70,alpha=0.8);"
   ]
  },
  {
   "cell_type": "markdown",
   "id": "ae0c83aa",
   "metadata": {},
   "source": [
    "Визуализируем информацию для двух категорий пользователей о расстоянии и времени."
   ]
  },
  {
   "cell_type": "code",
   "execution_count": 28,
   "id": "19871062",
   "metadata": {},
   "outputs": [
    {
     "data": {
      "image/png": "[encoded data removed]",
      "text/plain": [
       "<Figure size 1000x800 with 4 Axes>"
      ]
     },
     "metadata": {},
     "output_type": "display_data"
    }
   ],
   "source": [
    "fig, axs = plt.subplots(2, 2, figsize=(10, 8)) \n",
    "fig.suptitle('Сравнение расстояния и времени для пользователей ultra и free');\n",
    "df_ultra.hist('distance', bins=50, ax=axs[0,0]);\n",
    "df_free.hist('distance', bins=50, ax=axs[0,1]);\n",
    "df_ultra.hist('duration',bins=50,ax=axs[1,0]);\n",
    "df_free.hist('duration',bins=50,ax=axs[1,1]);\n",
    "axs[0,0].set_title('Расстояние ultra')\n",
    "axs[0,0].set_xlabel('Метры')\n",
    "axs[0,0].set_ylabel('Количество пользователей')\n",
    "\n",
    "axs[0,1].set_title('Расстояние free')\n",
    "axs[0,1].set_xlabel('Метры')\n",
    "axs[0,1].set_ylabel('Количество пользователей')\n",
    "\n",
    "axs[1,0].set_title('Время ultra')\n",
    "axs[1,0].set_xlabel('Минуты')\n",
    "axs[1,0].set_ylabel('Количество пользователей')\n",
    "\n",
    "axs[1,1].set_title('Время free')\n",
    "axs[1,1].set_xlabel('Минуты')\n",
    "axs[1,1].set_ylabel('Количество пользователей')\n",
    "\n",
    "plt.tight_layout()  \n",
    "plt.show()"
   ]
  },
  {
   "cell_type": "markdown",
   "id": "25c502dd",
   "metadata": {},
   "source": [
    "### Вывод для Шаг 4"
   ]
  },
  {
   "cell_type": "markdown",
   "id": "92f3fb3f",
   "metadata": {},
   "source": [
    "Как мы можем видить на графиках поведение друх групп пользователей несколько отличается. Пользователи ultra реже совешают поездки на небольшое расстояние. В основном ultra ездят на расстоние 2500-3700. Пользователи free ездят на расстояние в диапозоне 1800-4500 и поездки более равномерно распределены на всех расстояниях, чем в ultra( наблюдается чёткий пик на 3000). Так же видно, что пользователи ultra совершают поездки больше 35 минут, в отличии от freeкоторые почти не ездят так долго. К тому же пользовтали free чаще заканчивают поездки до 5 минут, чем ultra. Время использования самокатов распределено почти нормально для обоих категорий."
   ]
  },
  {
   "cell_type": "markdown",
   "id": "61b77bad",
   "metadata": {},
   "source": [
    "## Шаг 5. Подсчёт выручки"
   ]
  },
  {
   "cell_type": "code",
   "execution_count": 29,
   "id": "eaf8e142",
   "metadata": {},
   "outputs": [],
   "source": [
    "#Создаим датафрейм с агрегированными данными о поездках на основе датафрейма с объединёнными данными. \n",
    "pt_all=(\n",
    "    pd.pivot_table(\n",
    "        df_all,\n",
    "        index=['user_id','month'],\n",
    "        values=['distance','duration','name','subscription_type'],\n",
    "        aggfunc = {'duration': 'sum','distance': 'sum','name':'count', 'subscription_type':'first'}))"
   ]
  },
  {
   "cell_type": "code",
   "execution_count": 30,
   "id": "c18662ce",
   "metadata": {},
   "outputs": [
    {
     "data": {
      "text/html": [
       "<div>\n",
       "<style scoped>\n",
       "    .dataframe tbody tr th:only-of-type {\n",
       "        vertical-align: middle;\n",
       "    }\n",
       "\n",
       "    .dataframe tbody tr th {\n",
       "        vertical-align: top;\n",
       "    }\n",
       "\n",
       "    .dataframe thead th {\n",
       "        text-align: right;\n",
       "    }\n",
       "</style>\n",
       "<table border=\"1\" class=\"dataframe\">\n",
       "  <thead>\n",
       "    <tr style=\"text-align: right;\">\n",
       "      <th></th>\n",
       "      <th></th>\n",
       "      <th>distance</th>\n",
       "      <th>duration</th>\n",
       "      <th>rides_count</th>\n",
       "      <th>subscription_type</th>\n",
       "    </tr>\n",
       "    <tr>\n",
       "      <th>user_id</th>\n",
       "      <th>month</th>\n",
       "      <th></th>\n",
       "      <th></th>\n",
       "      <th></th>\n",
       "      <th></th>\n",
       "    </tr>\n",
       "  </thead>\n",
       "  <tbody>\n",
       "    <tr>\n",
       "      <th rowspan=\"5\" valign=\"top\">1</th>\n",
       "      <th>1</th>\n",
       "      <td>7027.51</td>\n",
       "      <td>42.0</td>\n",
       "      <td>2</td>\n",
       "      <td>ultra</td>\n",
       "    </tr>\n",
       "    <tr>\n",
       "      <th>4</th>\n",
       "      <td>754.16</td>\n",
       "      <td>7.0</td>\n",
       "      <td>1</td>\n",
       "      <td>ultra</td>\n",
       "    </tr>\n",
       "    <tr>\n",
       "      <th>8</th>\n",
       "      <td>6723.47</td>\n",
       "      <td>46.0</td>\n",
       "      <td>2</td>\n",
       "      <td>ultra</td>\n",
       "    </tr>\n",
       "    <tr>\n",
       "      <th>10</th>\n",
       "      <td>5809.91</td>\n",
       "      <td>32.0</td>\n",
       "      <td>2</td>\n",
       "      <td>ultra</td>\n",
       "    </tr>\n",
       "    <tr>\n",
       "      <th>11</th>\n",
       "      <td>7003.50</td>\n",
       "      <td>56.0</td>\n",
       "      <td>3</td>\n",
       "      <td>ultra</td>\n",
       "    </tr>\n",
       "    <tr>\n",
       "      <th>...</th>\n",
       "      <th>...</th>\n",
       "      <td>...</td>\n",
       "      <td>...</td>\n",
       "      <td>...</td>\n",
       "      <td>...</td>\n",
       "    </tr>\n",
       "    <tr>\n",
       "      <th rowspan=\"5\" valign=\"top\">1534</th>\n",
       "      <th>6</th>\n",
       "      <td>3409.47</td>\n",
       "      <td>26.0</td>\n",
       "      <td>2</td>\n",
       "      <td>free</td>\n",
       "    </tr>\n",
       "    <tr>\n",
       "      <th>8</th>\n",
       "      <td>7622.45</td>\n",
       "      <td>48.0</td>\n",
       "      <td>2</td>\n",
       "      <td>free</td>\n",
       "    </tr>\n",
       "    <tr>\n",
       "      <th>9</th>\n",
       "      <td>4928.17</td>\n",
       "      <td>23.0</td>\n",
       "      <td>1</td>\n",
       "      <td>free</td>\n",
       "    </tr>\n",
       "    <tr>\n",
       "      <th>11</th>\n",
       "      <td>13350.02</td>\n",
       "      <td>78.0</td>\n",
       "      <td>4</td>\n",
       "      <td>free</td>\n",
       "    </tr>\n",
       "    <tr>\n",
       "      <th>12</th>\n",
       "      <td>2371.71</td>\n",
       "      <td>16.0</td>\n",
       "      <td>1</td>\n",
       "      <td>free</td>\n",
       "    </tr>\n",
       "  </tbody>\n",
       "</table>\n",
       "<p>11300 rows × 4 columns</p>\n",
       "</div>"
      ],
      "text/plain": [
       "               distance  duration  rides_count subscription_type\n",
       "user_id month                                                   \n",
       "1       1       7027.51      42.0            2             ultra\n",
       "        4        754.16       7.0            1             ultra\n",
       "        8       6723.47      46.0            2             ultra\n",
       "        10      5809.91      32.0            2             ultra\n",
       "        11      7003.50      56.0            3             ultra\n",
       "...                 ...       ...          ...               ...\n",
       "1534    6       3409.47      26.0            2              free\n",
       "        8       7622.45      48.0            2              free\n",
       "        9       4928.17      23.0            1              free\n",
       "        11     13350.02      78.0            4              free\n",
       "        12      2371.71      16.0            1              free\n",
       "\n",
       "[11300 rows x 4 columns]"
      ]
     },
     "execution_count": 30,
     "metadata": {},
     "output_type": "execute_result"
    }
   ],
   "source": [
    "pt_all = pt_all.rename(columns = {'name':'rides_count'})\n",
    "pt_all"
   ]
  },
  {
   "cell_type": "code",
   "execution_count": 31,
   "id": "2f0878a0",
   "metadata": {},
   "outputs": [
    {
     "data": {
      "text/html": [
       "<div>\n",
       "<style scoped>\n",
       "    .dataframe tbody tr th:only-of-type {\n",
       "        vertical-align: middle;\n",
       "    }\n",
       "\n",
       "    .dataframe tbody tr th {\n",
       "        vertical-align: top;\n",
       "    }\n",
       "\n",
       "    .dataframe thead th {\n",
       "        text-align: right;\n",
       "    }\n",
       "</style>\n",
       "<table border=\"1\" class=\"dataframe\">\n",
       "  <thead>\n",
       "    <tr style=\"text-align: right;\">\n",
       "      <th></th>\n",
       "      <th></th>\n",
       "      <th>distance</th>\n",
       "      <th>duration</th>\n",
       "      <th>rides_count</th>\n",
       "      <th>subscription_type</th>\n",
       "      <th>minute_price</th>\n",
       "      <th>start_ride_price</th>\n",
       "      <th>subscription_fee</th>\n",
       "    </tr>\n",
       "    <tr>\n",
       "      <th>user_id</th>\n",
       "      <th>month</th>\n",
       "      <th></th>\n",
       "      <th></th>\n",
       "      <th></th>\n",
       "      <th></th>\n",
       "      <th></th>\n",
       "      <th></th>\n",
       "      <th></th>\n",
       "    </tr>\n",
       "  </thead>\n",
       "  <tbody>\n",
       "    <tr>\n",
       "      <th rowspan=\"5\" valign=\"top\">1</th>\n",
       "      <th>1</th>\n",
       "      <td>7027.51</td>\n",
       "      <td>42.0</td>\n",
       "      <td>2</td>\n",
       "      <td>ultra</td>\n",
       "      <td>6</td>\n",
       "      <td>0</td>\n",
       "      <td>199</td>\n",
       "    </tr>\n",
       "    <tr>\n",
       "      <th>4</th>\n",
       "      <td>754.16</td>\n",
       "      <td>7.0</td>\n",
       "      <td>1</td>\n",
       "      <td>ultra</td>\n",
       "      <td>6</td>\n",
       "      <td>0</td>\n",
       "      <td>199</td>\n",
       "    </tr>\n",
       "    <tr>\n",
       "      <th>8</th>\n",
       "      <td>6723.47</td>\n",
       "      <td>46.0</td>\n",
       "      <td>2</td>\n",
       "      <td>ultra</td>\n",
       "      <td>6</td>\n",
       "      <td>0</td>\n",
       "      <td>199</td>\n",
       "    </tr>\n",
       "    <tr>\n",
       "      <th>10</th>\n",
       "      <td>5809.91</td>\n",
       "      <td>32.0</td>\n",
       "      <td>2</td>\n",
       "      <td>ultra</td>\n",
       "      <td>6</td>\n",
       "      <td>0</td>\n",
       "      <td>199</td>\n",
       "    </tr>\n",
       "    <tr>\n",
       "      <th>11</th>\n",
       "      <td>7003.50</td>\n",
       "      <td>56.0</td>\n",
       "      <td>3</td>\n",
       "      <td>ultra</td>\n",
       "      <td>6</td>\n",
       "      <td>0</td>\n",
       "      <td>199</td>\n",
       "    </tr>\n",
       "    <tr>\n",
       "      <th>...</th>\n",
       "      <th>...</th>\n",
       "      <td>...</td>\n",
       "      <td>...</td>\n",
       "      <td>...</td>\n",
       "      <td>...</td>\n",
       "      <td>...</td>\n",
       "      <td>...</td>\n",
       "      <td>...</td>\n",
       "    </tr>\n",
       "    <tr>\n",
       "      <th rowspan=\"5\" valign=\"top\">1534</th>\n",
       "      <th>6</th>\n",
       "      <td>3409.47</td>\n",
       "      <td>26.0</td>\n",
       "      <td>2</td>\n",
       "      <td>free</td>\n",
       "      <td>8</td>\n",
       "      <td>50</td>\n",
       "      <td>0</td>\n",
       "    </tr>\n",
       "    <tr>\n",
       "      <th>8</th>\n",
       "      <td>7622.45</td>\n",
       "      <td>48.0</td>\n",
       "      <td>2</td>\n",
       "      <td>free</td>\n",
       "      <td>8</td>\n",
       "      <td>50</td>\n",
       "      <td>0</td>\n",
       "    </tr>\n",
       "    <tr>\n",
       "      <th>9</th>\n",
       "      <td>4928.17</td>\n",
       "      <td>23.0</td>\n",
       "      <td>1</td>\n",
       "      <td>free</td>\n",
       "      <td>8</td>\n",
       "      <td>50</td>\n",
       "      <td>0</td>\n",
       "    </tr>\n",
       "    <tr>\n",
       "      <th>11</th>\n",
       "      <td>13350.02</td>\n",
       "      <td>78.0</td>\n",
       "      <td>4</td>\n",
       "      <td>free</td>\n",
       "      <td>8</td>\n",
       "      <td>50</td>\n",
       "      <td>0</td>\n",
       "    </tr>\n",
       "    <tr>\n",
       "      <th>12</th>\n",
       "      <td>2371.71</td>\n",
       "      <td>16.0</td>\n",
       "      <td>1</td>\n",
       "      <td>free</td>\n",
       "      <td>8</td>\n",
       "      <td>50</td>\n",
       "      <td>0</td>\n",
       "    </tr>\n",
       "  </tbody>\n",
       "</table>\n",
       "<p>11300 rows × 7 columns</p>\n",
       "</div>"
      ],
      "text/plain": [
       "               distance  duration  rides_count subscription_type  \\\n",
       "user_id month                                                      \n",
       "1       1       7027.51      42.0            2             ultra   \n",
       "        4        754.16       7.0            1             ultra   \n",
       "        8       6723.47      46.0            2             ultra   \n",
       "        10      5809.91      32.0            2             ultra   \n",
       "        11      7003.50      56.0            3             ultra   \n",
       "...                 ...       ...          ...               ...   \n",
       "1534    6       3409.47      26.0            2              free   \n",
       "        8       7622.45      48.0            2              free   \n",
       "        9       4928.17      23.0            1              free   \n",
       "        11     13350.02      78.0            4              free   \n",
       "        12      2371.71      16.0            1              free   \n",
       "\n",
       "               minute_price  start_ride_price  subscription_fee  \n",
       "user_id month                                                    \n",
       "1       1                 6                 0               199  \n",
       "        4                 6                 0               199  \n",
       "        8                 6                 0               199  \n",
       "        10                6                 0               199  \n",
       "        11                6                 0               199  \n",
       "...                     ...               ...               ...  \n",
       "1534    6                 8                50                 0  \n",
       "        8                 8                50                 0  \n",
       "        9                 8                50                 0  \n",
       "        11                8                50                 0  \n",
       "        12                8                50                 0  \n",
       "\n",
       "[11300 rows x 7 columns]"
      ]
     },
     "execution_count": 31,
     "metadata": {},
     "output_type": "execute_result"
    }
   ],
   "source": [
    "#Объеденим наш датафрейм с агрегированными данными по пользователям о стоимости минуты поездки, старта поездки и стоимости подписки \n",
    "pt_all=(pt_all.merge(pd.pivot_table(df_all, \n",
    "                                    index=['user_id','month'], \n",
    "                                    values=['minute_price','start_ride_price','subscription_fee'],\n",
    "                                    aggfunc ='mean'), \n",
    "                     on=['user_id','month']))\n",
    "pt_all"
   ]
  },
  {
   "cell_type": "code",
   "execution_count": 32,
   "id": "fbba3ca0",
   "metadata": {},
   "outputs": [
    {
     "data": {
      "text/html": [
       "<div>\n",
       "<style scoped>\n",
       "    .dataframe tbody tr th:only-of-type {\n",
       "        vertical-align: middle;\n",
       "    }\n",
       "\n",
       "    .dataframe tbody tr th {\n",
       "        vertical-align: top;\n",
       "    }\n",
       "\n",
       "    .dataframe thead th {\n",
       "        text-align: right;\n",
       "    }\n",
       "</style>\n",
       "<table border=\"1\" class=\"dataframe\">\n",
       "  <thead>\n",
       "    <tr style=\"text-align: right;\">\n",
       "      <th></th>\n",
       "      <th></th>\n",
       "      <th>distance</th>\n",
       "      <th>duration</th>\n",
       "      <th>rides_count</th>\n",
       "      <th>revenue</th>\n",
       "      <th>subscription_type</th>\n",
       "    </tr>\n",
       "    <tr>\n",
       "      <th>user_id</th>\n",
       "      <th>month</th>\n",
       "      <th></th>\n",
       "      <th></th>\n",
       "      <th></th>\n",
       "      <th></th>\n",
       "      <th></th>\n",
       "    </tr>\n",
       "  </thead>\n",
       "  <tbody>\n",
       "    <tr>\n",
       "      <th rowspan=\"5\" valign=\"top\">1</th>\n",
       "      <th>1</th>\n",
       "      <td>7027.51</td>\n",
       "      <td>42.0</td>\n",
       "      <td>2</td>\n",
       "      <td>451.0</td>\n",
       "      <td>ultra</td>\n",
       "    </tr>\n",
       "    <tr>\n",
       "      <th>4</th>\n",
       "      <td>754.16</td>\n",
       "      <td>7.0</td>\n",
       "      <td>1</td>\n",
       "      <td>241.0</td>\n",
       "      <td>ultra</td>\n",
       "    </tr>\n",
       "    <tr>\n",
       "      <th>8</th>\n",
       "      <td>6723.47</td>\n",
       "      <td>46.0</td>\n",
       "      <td>2</td>\n",
       "      <td>475.0</td>\n",
       "      <td>ultra</td>\n",
       "    </tr>\n",
       "    <tr>\n",
       "      <th>10</th>\n",
       "      <td>5809.91</td>\n",
       "      <td>32.0</td>\n",
       "      <td>2</td>\n",
       "      <td>391.0</td>\n",
       "      <td>ultra</td>\n",
       "    </tr>\n",
       "    <tr>\n",
       "      <th>11</th>\n",
       "      <td>7003.50</td>\n",
       "      <td>56.0</td>\n",
       "      <td>3</td>\n",
       "      <td>535.0</td>\n",
       "      <td>ultra</td>\n",
       "    </tr>\n",
       "    <tr>\n",
       "      <th>...</th>\n",
       "      <th>...</th>\n",
       "      <td>...</td>\n",
       "      <td>...</td>\n",
       "      <td>...</td>\n",
       "      <td>...</td>\n",
       "      <td>...</td>\n",
       "    </tr>\n",
       "    <tr>\n",
       "      <th rowspan=\"5\" valign=\"top\">1534</th>\n",
       "      <th>6</th>\n",
       "      <td>3409.47</td>\n",
       "      <td>26.0</td>\n",
       "      <td>2</td>\n",
       "      <td>308.0</td>\n",
       "      <td>free</td>\n",
       "    </tr>\n",
       "    <tr>\n",
       "      <th>8</th>\n",
       "      <td>7622.45</td>\n",
       "      <td>48.0</td>\n",
       "      <td>2</td>\n",
       "      <td>484.0</td>\n",
       "      <td>free</td>\n",
       "    </tr>\n",
       "    <tr>\n",
       "      <th>9</th>\n",
       "      <td>4928.17</td>\n",
       "      <td>23.0</td>\n",
       "      <td>1</td>\n",
       "      <td>234.0</td>\n",
       "      <td>free</td>\n",
       "    </tr>\n",
       "    <tr>\n",
       "      <th>11</th>\n",
       "      <td>13350.02</td>\n",
       "      <td>78.0</td>\n",
       "      <td>4</td>\n",
       "      <td>824.0</td>\n",
       "      <td>free</td>\n",
       "    </tr>\n",
       "    <tr>\n",
       "      <th>12</th>\n",
       "      <td>2371.71</td>\n",
       "      <td>16.0</td>\n",
       "      <td>1</td>\n",
       "      <td>178.0</td>\n",
       "      <td>free</td>\n",
       "    </tr>\n",
       "  </tbody>\n",
       "</table>\n",
       "<p>11300 rows × 5 columns</p>\n",
       "</div>"
      ],
      "text/plain": [
       "               distance  duration  rides_count  revenue subscription_type\n",
       "user_id month                                                            \n",
       "1       1       7027.51      42.0            2    451.0             ultra\n",
       "        4        754.16       7.0            1    241.0             ultra\n",
       "        8       6723.47      46.0            2    475.0             ultra\n",
       "        10      5809.91      32.0            2    391.0             ultra\n",
       "        11      7003.50      56.0            3    535.0             ultra\n",
       "...                 ...       ...          ...      ...               ...\n",
       "1534    6       3409.47      26.0            2    308.0              free\n",
       "        8       7622.45      48.0            2    484.0              free\n",
       "        9       4928.17      23.0            1    234.0              free\n",
       "        11     13350.02      78.0            4    824.0              free\n",
       "        12      2371.71      16.0            1    178.0              free\n",
       "\n",
       "[11300 rows x 5 columns]"
      ]
     },
     "execution_count": 32,
     "metadata": {},
     "output_type": "execute_result"
    }
   ],
   "source": [
    "#Добавим новый столбец в котором посчитаем выручку для каждого месяца для каждого пользователя и оставим только интересующие нас столбцы\n",
    "pt_all['revenue']=pt_all['start_ride_price'] * pt_all['rides_count']+ pt_all['minute_price'] * pt_all['duration'] + pt_all['subscription_fee']\n",
    "pt_all=pt_all[['distance', 'duration','rides_count', 'revenue','subscription_type']]\n",
    "pt_all"
   ]
  },
  {
   "cell_type": "markdown",
   "id": "75b07020",
   "metadata": {},
   "source": [
    "### Вывод для Шаг 5"
   ]
  },
  {
   "cell_type": "markdown",
   "id": "8b06dcbd",
   "metadata": {},
   "source": [
    "Мы составили сводную таблицу на основе объединённого датафрейма с необходимой нам информацией для дальнейшего анализа.  \n",
    "Она содержит информацию о поездках для каждого пользователя за каждый месяц: суммарное расстояние, суммарное время,  количество поездок, выручку, тип подписки."
   ]
  },
  {
   "cell_type": "markdown",
   "id": "52a7064b",
   "metadata": {},
   "source": [
    "## Шаг 6. Проверка гипотез"
   ]
  },
  {
   "cell_type": "markdown",
   "id": "51854d75",
   "metadata": {},
   "source": [
    "display(df_free.head())\n",
    "df_ultra.head()"
   ]
  },
  {
   "cell_type": "markdown",
   "id": "5c2ebee9",
   "metadata": {},
   "source": [
    "### Гипотеза 1"
   ]
  },
  {
   "cell_type": "markdown",
   "id": "54998809",
   "metadata": {},
   "source": [
    "Важно понять, тратят ли пользователи с подпиской больше времени на поездки? \n",
    "Если да, то пользователи с подпиской могут быть «выгоднее» для компании. Проверьте гипотезу. \n",
    "Используйте исходные данные о продолжительности каждой сессии — отдельно для подписчиков и тех, у кого нет подписки."
   ]
  },
  {
   "cell_type": "markdown",
   "id": "ceafc9de",
   "metadata": {},
   "source": [
    "Проведем двухвыборочный t-тест для независимых выборок:  \n",
    "H0: пользователи с подпиской и без подписки тратят одинаковое время на поездки  \n",
    "H1: пользователи с подпиской тратят больше времени на поездки  "
   ]
  },
  {
   "cell_type": "code",
   "execution_count": 33,
   "id": "ebd5b894",
   "metadata": {},
   "outputs": [
    {
     "name": "stdout",
     "output_type": "stream",
     "text": [
      "Среднее расстояние для ultra 19.0\n",
      "Среднее расстояние для free 18.0\n",
      "p-значение: 8.577910347796266e-28\n",
      "Отвергаем нулевую гипотезу\n"
     ]
    }
   ],
   "source": [
    "results = st.ttest_ind(df_ultra['duration'], df_free['duration'], alternative='greater')\n",
    "alpha = 0.05 \n",
    "print('Среднее расстояние для ultra',df_ultra['duration'].median())\n",
    "print('Среднее расстояние для free',df_free['duration'].median())\n",
    "    \n",
    "print('p-значение:', results.pvalue)\n",
    "\n",
    "if results.pvalue < alpha:\n",
    "    print('Отвергаем нулевую гипотезу')\n",
    "else:\n",
    "    print('Не получилось отвергнуть нулевую гипотезу') "
   ]
  },
  {
   "cell_type": "markdown",
   "id": "c7d5b808",
   "metadata": {},
   "source": [
    "Поскольку p-значение оказалось меньше статистической значимости, есть основания предполагать, что пользователи с подпиской тратят больше времени на поездки."
   ]
  },
  {
   "cell_type": "markdown",
   "id": "1fc1d511",
   "metadata": {},
   "source": [
    "Выборки не обязательно должны быть равны для проведения теста, но на всякий случай сделаем выборкы равного размера и еще раз проверим гипотезу."
   ]
  },
  {
   "cell_type": "code",
   "execution_count": 34,
   "id": "2208b796",
   "metadata": {},
   "outputs": [
    {
     "name": "stdout",
     "output_type": "stream",
     "text": [
      "До:  6500 11473\n",
      "После:  6500 6500\n"
     ]
    }
   ],
   "source": [
    "print ('До: ',len(df_ultra['duration']), len(df_free['duration']))\n",
    "df_free_sampled = df_free.sample(n=6500, random_state=1, replace=False)\n",
    "print ('После: ',len(df_ultra['duration']), len(df_free_sampled['duration']))"
   ]
  },
  {
   "cell_type": "code",
   "execution_count": 35,
   "id": "30225d50",
   "metadata": {},
   "outputs": [
    {
     "name": "stdout",
     "output_type": "stream",
     "text": [
      "p-значение: 2.2827127248688695e-23\n",
      "Всё еще отвергаем нулевую гипотезу\n"
     ]
    }
   ],
   "source": [
    "results_sampled = st.ttest_ind(df_ultra['duration'], df_free_sampled['duration'], alternative='greater')\n",
    "alpha_sampled = 0.05 \n",
    "print('p-значение:', results_sampled.pvalue)\n",
    "\n",
    "if results_sampled.pvalue < alpha:\n",
    "    print('Всё еще отвергаем нулевую гипотезу')\n",
    "else:\n",
    "    print('Не получилось отвергнуть нулевую гипотезу') "
   ]
  },
  {
   "cell_type": "markdown",
   "id": "c7485d58",
   "metadata": {},
   "source": [
    "### Гипотеза 2"
   ]
  },
  {
   "cell_type": "markdown",
   "id": "aaeb5453",
   "metadata": {},
   "source": [
    "Расстояние одной поездки в 3130 метров — оптимальное с точки зрения износа самоката. \n",
    "Можно ли сказать, что расстояние, которое проезжают пользователи с подпиской за одну поездку, не превышает 3130 метров? \n",
    "Проверьте гипотезу и сделайте выводы."
   ]
  },
  {
   "cell_type": "markdown",
   "id": "3876b18a",
   "metadata": {},
   "source": [
    "Проведем одновыборочный t-тест:\n",
    "H0: расстояние, которое проезжают пользователи с подпиской за одну поездку не превышает 3130 метров\n",
    "H1: пользователи с подпиской тратят больше времени на поездки"
   ]
  },
  {
   "cell_type": "code",
   "execution_count": 36,
   "id": "fb53808b",
   "metadata": {},
   "outputs": [
    {
     "name": "stdout",
     "output_type": "stream",
     "text": [
      "Среднее выборки:  3115.445430769231\n"
     ]
    }
   ],
   "source": [
    "print('Среднее выборки: ', df_ultra['distance'].mean())"
   ]
  },
  {
   "cell_type": "code",
   "execution_count": 37,
   "id": "b3be6818",
   "metadata": {},
   "outputs": [
    {
     "name": "stdout",
     "output_type": "stream",
     "text": [
      "p-значение: 0.9195362605842414\n",
      "Нет основания отвергуть нулевую гипотезу\n"
     ]
    }
   ],
   "source": [
    "sample_mean_distance = df_ultra['distance']\n",
    "value_distance = 3130\n",
    "alf_distance = 0.05 \n",
    "results_mean_distance = st.ttest_1samp(sample_mean_distance,value_distance,alternative='greater')\n",
    "print('p-значение:', results_mean_distance.pvalue)\n",
    "\n",
    "if results_mean_distance.pvalue < alpha:\n",
    "    print('Отвергаем нулевую гипотезу')\n",
    "else:\n",
    "    print('Нет основания отвергуть нулевую гипотезу')"
   ]
  },
  {
   "cell_type": "markdown",
   "id": "4f798e2c",
   "metadata": {},
   "source": [
    "Гипотеза проверена и можно сказать, что пользователи с подпиской за одну поездку не проезжают расстояние превышающее 3130 метров."
   ]
  },
  {
   "cell_type": "markdown",
   "id": "6b41ac07",
   "metadata": {},
   "source": [
    "### Гипотеза 3"
   ]
  },
  {
   "cell_type": "markdown",
   "id": "4dfec5dc",
   "metadata": {},
   "source": [
    "Будет ли помесячная выручка от пользователей с подпиской по месяцам выше, чем выручка от пользователей без подписки.\n",
    "Для начала приведем выборки к одному размеру.  \n",
    "H0: Помесячная выручка между пользователями двух категорий равна  \n",
    "H1: Помесячная выручка от пользователей с подпиской больше выручки от пользователей без подписки  "
   ]
  },
  {
   "cell_type": "code",
   "execution_count": 38,
   "id": "dce676b3",
   "metadata": {},
   "outputs": [
    {
     "name": "stdout",
     "output_type": "stream",
     "text": [
      "4533\n",
      "6767\n"
     ]
    }
   ],
   "source": [
    "print(len(pt_all.query('subscription_type==\"ultra\"')['revenue']))\n",
    "print(len(pt_all.query('subscription_type==\"free\"')['revenue']))"
   ]
  },
  {
   "cell_type": "code",
   "execution_count": 39,
   "id": "feec37a2",
   "metadata": {},
   "outputs": [
    {
     "name": "stdout",
     "output_type": "stream",
     "text": [
      "4533\n",
      "4533\n"
     ]
    }
   ],
   "source": [
    "sample_rev_ultra=pt_all.query('subscription_type==\"ultra\"')['revenue']\n",
    "sample_rev_free=pt_all.query('subscription_type==\"free\"')['revenue'].sample(n=4533, random_state=1, replace=False)\n",
    "print(len(sample_rev_free))\n",
    "print(len(sample_rev_ultra))"
   ]
  },
  {
   "cell_type": "code",
   "execution_count": 40,
   "id": "90a0278d",
   "metadata": {},
   "outputs": [
    {
     "name": "stdout",
     "output_type": "stream",
     "text": [
      "Средняя выручка для ultra 337.0\n",
      "Средняя выручка для free 274.0\n",
      "p-значение: 1.1254115552093663e-27\n",
      "Отвергаем нулевую гипотезу\n"
     ]
    }
   ],
   "source": [
    "results_rev = (st.ttest_ind(sample_rev_ultra, sample_rev_free,alternative='greater'))\n",
    "alpha_rev = 0.05 \n",
    "print('Средняя выручка для ultra',pt_all.query('subscription_type==\"ultra\"')['revenue'].median())\n",
    "print('Средняя выручка для free',pt_all.query('subscription_type==\"free\"')['revenue'].median())\n",
    "\n",
    "print('p-значение:', results_rev.pvalue)\n",
    "\n",
    "if results_rev.pvalue < alpha_rev:\n",
    "    print('Отвергаем нулевую гипотезу')\n",
    "else:\n",
    "    print('Не получилось отвергнуть нулевую гипотезу') "
   ]
  },
  {
   "cell_type": "markdown",
   "id": "4fc3b7d5",
   "metadata": {},
   "source": [
    "На основании результата (p-значение крайне малое) мы можем полагать, что помесячная выручка от пользователей с подпиской выше, чем от пользователей без подписки."
   ]
  },
  {
   "cell_type": "markdown",
   "id": "9c795c61",
   "metadata": {},
   "source": [
    "### Гипотеза 4 - вопрос"
   ]
  },
  {
   "cell_type": "markdown",
   "id": "7df25e3a",
   "metadata": {},
   "source": [
    "Представьте такую ситуацию: техническая команда сервиса обновила сервера, с которыми взаимодействует мобильное приложение.\n",
    "Она надеется, что из-за этого количество обращений в техподдержку значимо снизилось. \n",
    "Некоторый файл содержит для каждого пользователя данные о количестве обращений до обновления и после него. \n",
    "Какой тест вам понадобился бы для проверки этой гипотезы?"
   ]
  },
  {
   "cell_type": "markdown",
   "id": "3afb1a63",
   "metadata": {},
   "source": [
    "Поскольку две выборки будут связаны между собой,  для проверки можно использовать использовать метод st.ttest_rel().\n",
    "Так же потребуется две выборки old_server и new_server. В качестве аргумента метода можно использовать alternative = 'greater' для H0 (количество обращений равно) и H1(количество обращений до изменений было больше)."
   ]
  },
  {
   "cell_type": "markdown",
   "id": "06eb5017",
   "metadata": {},
   "source": [
    "### Вывод для шаг 6"
   ]
  },
  {
   "cell_type": "markdown",
   "id": "e68e7249",
   "metadata": {},
   "source": [
    "Были проверено 3 гипотезы и на основании результатов мы можем утверждать что:    \n",
    "- пользователи с подпиской тратят больше времени на поездки;\n",
    "- пользователи с подпиской за одну поездку не проезжают расстояние превышающее 3130 метров;   \n",
    "- помесячная подписка от пользователей с подпиской выше, чем от пользователей без подписки.\n",
    "  \n",
    "Так же мы ответили на вопрос об обращении в тех поддержку:\n",
    "\n",
    "Для проверки предлагаем использовать использовать метод st.ttest_rel(old_server, new_server,alternative = 'greater'), где old_server- выборка обращений до изменений, new_server - выборка после."
   ]
  },
  {
   "cell_type": "markdown",
   "id": "b20c17b1-e1da-41dd-a914-ab0bf1e0c82d",
   "metadata": {},
   "source": [
    "# Итоги исследования"
   ]
  },
  {
   "cell_type": "markdown",
   "id": "e5095279-7c69-41ea-94f9-8cccefa5cd1f",
   "metadata": {},
   "source": [
    "Мы рассмотрели данные о пользователях сервиса.\n",
    "В результате анализа получились следующие средние данные: на 1 город – 191 пользователь, возраст - 25 лет, поездка - 3.1 км., время поездки - 17.7 минут.  \n",
    "Так же мы увидели, что:\n",
    "- всего в данных 1565 пользователях  \n",
    "- есть информация о 18068 поездках  \n",
    "- представлены 8 городов\n",
    "- пользователи соотносятся почти поровну free (54%) и ultra (46%).\n",
    "- данные содержат малое количество дубликатов и аномалий, который мы легко устранили, не опасаясь за общий объем данных  \n",
    "- всю имеющуюся информацию без проблем можно объединить в один датафрейм, позволяющий проанализировать сводные данные\n",
    "- время использования самокатов распределено почти нормально для обоих категорий.\n",
    "\n",
    "Благодаря составленным графикам можно увидеть как  поведение друх групп пользователей отличается: ultra реже совершают поездки на небольшое расстояние, поездки более равномерно распределены на всех расстояниях для free, ultra совершают поездки больше 35 минут, в отличии от free.  \n",
    "\n",
    "Мы составили сводную таблицу на основе объединённого датафрейма с информацией о поездках для каждого пользователя за каждый месяц: суммарное расстояние, суммарное время, количество поездок, выручку, тип подписки.  \n",
    "\n",
    "Мы рассмотрели 4 гипотезы и пришли к следующим выводам:  \n",
    "1.\tПользователи с подпиской тратят больше времени на поездки. Среднее расстояние для ultra 19 мин. Среднее расстояние для free 18 мин.  \n",
    "2.\tПомесячная выручка от пользователей с подпиской выше, чем от пользователей без подписки. Средняя месячная выручка для ultra 337 руб., для -  free 274.0  \n",
    "3.\tПользователи с подпиской за одну поездку не проезжают расстояние превышающее 3130 метров.  \n",
    "4.\tНа теоретическую ситуацию мы дали рекомендацию использовать использовать метод st.ttest_rel(), используя две выборки old_server , new_server и alternative = 'greater'\n",
    "\n",
    "Описанные выше результаты и сводные данные  рекомендуем передать продакт-менеджерам сервиса для дальнейшего использования.Так же рекомендовано составить баг-репорт, чтобы устранить будущие проблемы с данными."
   ]
  }
 ],
 "metadata": {
  "ExecuteTimeLog": [
   {
    "duration": 1358,
    "start_time": "2024-01-17T13:32:15.742Z"
   },
   {
    "duration": 3,
    "start_time": "2024-01-17T13:32:17.102Z"
   },
   {
    "duration": 152,
    "start_time": "2024-01-17T13:32:17.106Z"
   },
   {
    "duration": 122,
    "start_time": "2024-01-17T13:32:17.259Z"
   },
   {
    "duration": 92,
    "start_time": "2024-01-17T13:32:17.383Z"
   },
   {
    "duration": 17,
    "start_time": "2024-01-17T13:32:17.476Z"
   },
   {
    "duration": 24,
    "start_time": "2024-01-17T13:32:17.494Z"
   },
   {
    "duration": 12,
    "start_time": "2024-01-17T13:32:17.520Z"
   },
   {
    "duration": 22,
    "start_time": "2024-01-17T13:32:17.533Z"
   },
   {
    "duration": 18,
    "start_time": "2024-01-17T13:32:17.557Z"
   },
   {
    "duration": 7,
    "start_time": "2024-01-17T13:32:17.576Z"
   },
   {
    "duration": 24,
    "start_time": "2024-01-17T13:32:17.584Z"
   },
   {
    "duration": 124,
    "start_time": "2024-01-17T13:32:17.609Z"
   },
   {
    "duration": 74,
    "start_time": "2024-01-17T13:32:17.737Z"
   },
   {
    "duration": 141,
    "start_time": "2024-01-17T13:32:17.813Z"
   },
   {
    "duration": 182,
    "start_time": "2024-01-17T13:32:17.956Z"
   },
   {
    "duration": 182,
    "start_time": "2024-01-17T13:32:18.140Z"
   },
   {
    "duration": 30,
    "start_time": "2024-01-17T13:32:18.323Z"
   },
   {
    "duration": 50,
    "start_time": "2024-01-17T13:32:18.355Z"
   },
   {
    "duration": 72,
    "start_time": "2024-01-17T13:32:18.406Z"
   },
   {
    "duration": 26,
    "start_time": "2024-01-17T13:32:18.479Z"
   },
   {
    "duration": 755,
    "start_time": "2024-01-17T13:32:18.506Z"
   },
   {
    "duration": 21,
    "start_time": "2024-01-17T13:32:19.262Z"
   },
   {
    "duration": 21,
    "start_time": "2024-01-17T13:32:19.284Z"
   },
   {
    "duration": 50,
    "start_time": "2024-01-17T13:32:19.307Z"
   },
   {
    "duration": 20,
    "start_time": "2024-01-17T13:32:19.359Z"
   },
   {
    "duration": 14,
    "start_time": "2024-01-17T13:32:19.380Z"
   },
   {
    "duration": 32,
    "start_time": "2024-01-17T13:32:19.396Z"
   },
   {
    "duration": 7,
    "start_time": "2024-01-17T13:32:19.429Z"
   },
   {
    "duration": 10,
    "start_time": "2024-01-17T13:32:19.438Z"
   },
   {
    "duration": 8,
    "start_time": "2024-01-17T13:32:19.450Z"
   },
   {
    "duration": 16,
    "start_time": "2024-01-17T13:32:19.459Z"
   },
   {
    "duration": 9,
    "start_time": "2024-01-17T13:32:19.477Z"
   },
   {
    "duration": 11,
    "start_time": "2024-01-17T13:32:19.487Z"
   },
   {
    "duration": 6,
    "start_time": "2024-01-17T13:38:07.525Z"
   },
   {
    "duration": 1010,
    "start_time": "2024-01-17T13:40:40.292Z"
   },
   {
    "duration": 3,
    "start_time": "2024-01-17T13:40:41.304Z"
   },
   {
    "duration": 88,
    "start_time": "2024-01-17T13:40:41.308Z"
   },
   {
    "duration": 219,
    "start_time": "2024-01-17T13:40:41.398Z"
   },
   {
    "duration": 49,
    "start_time": "2024-01-17T13:40:41.618Z"
   },
   {
    "duration": 16,
    "start_time": "2024-01-17T13:40:41.668Z"
   },
   {
    "duration": 41,
    "start_time": "2024-01-17T13:40:41.685Z"
   },
   {
    "duration": 14,
    "start_time": "2024-01-17T13:40:41.727Z"
   },
   {
    "duration": 6,
    "start_time": "2024-01-17T13:40:41.743Z"
   },
   {
    "duration": 7,
    "start_time": "2024-01-17T13:40:41.750Z"
   },
   {
    "duration": 18,
    "start_time": "2024-01-17T13:40:41.758Z"
   },
   {
    "duration": 23,
    "start_time": "2024-01-17T13:40:41.778Z"
   },
   {
    "duration": 130,
    "start_time": "2024-01-17T13:40:41.803Z"
   },
   {
    "duration": 83,
    "start_time": "2024-01-17T13:40:41.936Z"
   },
   {
    "duration": 136,
    "start_time": "2024-01-17T13:40:42.021Z"
   },
   {
    "duration": 184,
    "start_time": "2024-01-17T13:40:42.158Z"
   },
   {
    "duration": 162,
    "start_time": "2024-01-17T13:40:42.344Z"
   },
   {
    "duration": 7,
    "start_time": "2024-01-17T13:40:42.507Z"
   },
   {
    "duration": 18,
    "start_time": "2024-01-17T13:40:42.515Z"
   },
   {
    "duration": 28,
    "start_time": "2024-01-17T13:40:42.535Z"
   },
   {
    "duration": 4,
    "start_time": "2024-01-17T13:40:42.564Z"
   },
   {
    "duration": 649,
    "start_time": "2024-01-17T13:40:42.569Z"
   },
   {
    "duration": 20,
    "start_time": "2024-01-17T13:40:43.220Z"
   },
   {
    "duration": 23,
    "start_time": "2024-01-17T13:40:43.241Z"
   },
   {
    "duration": 32,
    "start_time": "2024-01-17T13:40:43.265Z"
   },
   {
    "duration": 18,
    "start_time": "2024-01-17T13:40:43.298Z"
   },
   {
    "duration": 5,
    "start_time": "2024-01-17T13:40:43.317Z"
   },
   {
    "duration": 33,
    "start_time": "2024-01-17T13:40:43.323Z"
   },
   {
    "duration": 8,
    "start_time": "2024-01-17T13:40:43.358Z"
   },
   {
    "duration": 9,
    "start_time": "2024-01-17T13:40:43.367Z"
   },
   {
    "duration": 10,
    "start_time": "2024-01-17T13:40:43.377Z"
   },
   {
    "duration": 22,
    "start_time": "2024-01-17T13:40:43.389Z"
   },
   {
    "duration": 8,
    "start_time": "2024-01-17T13:40:43.413Z"
   },
   {
    "duration": 8,
    "start_time": "2024-01-17T13:40:43.423Z"
   }
  ],
  "kernelspec": {
   "display_name": "Python 3 (ipykernel)",
   "language": "python",
   "name": "python3"
  },
  "language_info": {
   "codemirror_mode": {
    "name": "ipython",
    "version": 3
   },
   "file_extension": ".py",
   "mimetype": "text/x-python",
   "name": "python",
   "nbconvert_exporter": "python",
   "pygments_lexer": "ipython3",
   "version": "3.9.18"
  },
  "toc": {
   "base_numbering": 1,
   "nav_menu": {},
   "number_sections": true,
   "sideBar": true,
   "skip_h1_title": true,
   "title_cell": "Table of Contents",
   "title_sidebar": "Contents",
   "toc_cell": false,
   "toc_position": {},
   "toc_section_display": true,
   "toc_window_display": false
  }
 },
 "nbformat": 4,
 "nbformat_minor": 5
}
